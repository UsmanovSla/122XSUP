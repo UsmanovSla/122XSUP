{
 "cells": [
  {
   "cell_type": "markdown",
   "metadata": {},
   "source": [
    "### 122XSUP - Strojové učení a umělá inteligence v prostředí Python"
   ]
  },
  {
   "cell_type": "markdown",
   "metadata": {},
   "source": [
    "<h5 style='color:orange'><em>Week 3: Python: podmínky, iterace a smyčky. Comprehension. Lambda, map a filter. Recursion. Class. Decorators. Big-O</em></h5>"
   ]
  },
  {
   "cell_type": "markdown",
   "metadata": {},
   "source": [
    "#### Conditions in Python"
   ]
  },
  {
   "cell_type": "markdown",
   "metadata": {},
   "source": [
    "* Equals: a == b\n",
    "* Not Equals: a != b\n",
    "* Less than: a < b\n",
    "* Less than or equal to: a <= b\n",
    "* Greater than: a > b\n",
    "* Greater than or equal to: a >= b"
   ]
  },
  {
   "cell_type": "code",
   "execution_count": null,
   "metadata": {},
   "outputs": [],
   "source": [
    "# If ... elif ... else \n",
    "\n",
    "a = 5\n",
    "\n",
    "if a > 20:                              # a ... (20, inf)\n",
    "    print(f'\"a\" is greater than 20')\n",
    "elif a > 10:                            # a ... (10, 20]\n",
    "    print(f'\"a\" is greater than 10')\n",
    "else:                                   # a ... [-inf, 10]\n",
    "    print(f'\"a\" is less or equal to 10')"
   ]
  },
  {
   "cell_type": "code",
   "execution_count": null,
   "metadata": {},
   "outputs": [],
   "source": [
    "# infinite number (when looking max o min value)\n",
    "\n",
    "a = float(\"inf\")\n",
    "\n",
    "print(a)\n",
    "print(type(a))\n",
    "\n",
    "\n",
    "b = float(\"-inf\")\n",
    "\n",
    "print(b)\n",
    "print(type(b))"
   ]
  },
  {
   "cell_type": "code",
   "execution_count": null,
   "metadata": {},
   "outputs": [],
   "source": [
    "print(a < 0)\n",
    "\n",
    "print(a > 0)\n",
    "\n",
    "print(a > 100_000_000_000)  # visual separator of digits\n",
    "\n",
    "print(a == -b)"
   ]
  },
  {
   "cell_type": "code",
   "execution_count": null,
   "metadata": {},
   "outputs": [],
   "source": [
    "# one line condition\n",
    "\n",
    "a = 10\n",
    "b = 5\n",
    "\n",
    "if a > b: print(f\"{a} is greater than {b}\")\n",
    "\n",
    "print(f\"{a} is greater than {b}\") if a > b else print(f\"{b} is greater than {a}\")\n",
    "\n",
    "print(\"A\") if a > b else print(\"=\") if a == b else print(\"B\") "
   ]
  },
  {
   "cell_type": "code",
   "execution_count": null,
   "metadata": {},
   "outputs": [],
   "source": [
    "# order in condition\n",
    "a = 10\n",
    "\n",
    "if a > 0:\n",
    "    print('a > 0')\n",
    "elif a > 1:\n",
    "    print('a > 1')"
   ]
  },
  {
   "cell_type": "code",
   "execution_count": null,
   "metadata": {},
   "outputs": [],
   "source": [
    "a_list = [1, 1, 1, 1, 1, 0, 1, 0, 1]\n",
    "a, b = 0, 0\n",
    "\n",
    "for _ in range(100_000_000):\n",
    "    if 1 in a_list:\n",
    "        a += 1\n",
    "    elif 0 in a_list:\n",
    "        b += 1\n",
    "\n",
    "print(f'a = {a}')\n",
    "print(f'b = {b}')"
   ]
  },
  {
   "cell_type": "code",
   "execution_count": null,
   "metadata": {},
   "outputs": [],
   "source": [
    "a_list = [1, 1, 1, 1, 1, 0, 1, 0, 1]\n",
    "a, b = 0, 0\n",
    "\n",
    "for _ in range(100_000_000):\n",
    "    if 0 in a_list:\n",
    "        b += 1\n",
    "    elif 1 in a_list:\n",
    "        a += 1\n",
    "\n",
    "print(f'a = {a}')\n",
    "print(f'b = {b}')"
   ]
  },
  {
   "cell_type": "code",
   "execution_count": null,
   "metadata": {},
   "outputs": [],
   "source": [
    "# logical operators in condition: and\n",
    "\n",
    "a, b = 1, 2\n",
    "c = 3\n",
    "\n",
    "if a < c and b < c:\n",
    "    print(f'c > a and c > b')"
   ]
  },
  {
   "cell_type": "code",
   "execution_count": null,
   "metadata": {},
   "outputs": [],
   "source": [
    "# logical operators in condition: or\n",
    "\n",
    "a, b = 1, 5\n",
    "c = 3\n",
    "\n",
    "if a < c or b < c:\n",
    "    print(f'c > a or b')"
   ]
  },
  {
   "cell_type": "code",
   "execution_count": null,
   "metadata": {},
   "outputs": [],
   "source": [
    "# logical operators in condition: not\n",
    "\n",
    "a, b = 1, 5\n",
    "\n",
    "if not a > b:\n",
    "    print(f'a is NOT > b')"
   ]
  },
  {
   "cell_type": "code",
   "execution_count": null,
   "metadata": {},
   "outputs": [],
   "source": [
    "# nested conditions\n",
    "\n",
    "a = 50\n",
    "\n",
    "if a > 10:\n",
    "    print('a > 10')\n",
    "    if a > 20:\n",
    "        print('and a > 20')   "
   ]
  },
  {
   "cell_type": "code",
   "execution_count": null,
   "metadata": {},
   "outputs": [],
   "source": [
    "# checking syntaxis error wo stopping code\n",
    "\n",
    "a = 0\n",
    "# del a\n",
    "\n",
    "try:\n",
    "    print(5 / a)\n",
    "except NameError:\n",
    "    print('Variable a is not defined')\n",
    "except:\n",
    "    print('Error: Divided by 0')\n",
    "else:\n",
    "    print(\"Nothing went wrong\")\n",
    "finally:\n",
    "    print(\"The 'try except' is finished\")"
   ]
  },
  {
   "cell_type": "code",
   "execution_count": null,
   "metadata": {},
   "outputs": [],
   "source": [
    "# Raising error and stop code\n",
    "\n",
    "a = -1\n",
    "\n",
    "if a < 0:\n",
    "    raise Exception(\"Sorry, no numbers below zero\")"
   ]
  },
  {
   "cell_type": "markdown",
   "metadata": {},
   "source": [
    "#### Loops in Python"
   ]
  },
  {
   "cell_type": "markdown",
   "metadata": {},
   "source": [
    "* while\n",
    "* for"
   ]
  },
  {
   "cell_type": "code",
   "execution_count": null,
   "metadata": {},
   "outputs": [],
   "source": [
    "# while loop\n",
    "\n",
    "a = 4\n",
    "while a > 0:\n",
    "    print(a := a - 1)"
   ]
  },
  {
   "cell_type": "code",
   "execution_count": null,
   "metadata": {},
   "outputs": [],
   "source": [
    "# break loop\n",
    "\n",
    "a = 4\n",
    "while a > 0:\n",
    "    print(a := a - 1)\n",
    "    if a == 1:\n",
    "        break"
   ]
  },
  {
   "cell_type": "code",
   "execution_count": null,
   "metadata": {},
   "outputs": [],
   "source": [
    "# continue loop with next iteration\n",
    "\n",
    "a = 4\n",
    "while a > 0:\n",
    "    a -= 1\n",
    "    if a == 1:\n",
    "        continue\n",
    "    print(a)\n"
   ]
  },
  {
   "cell_type": "code",
   "execution_count": null,
   "metadata": {},
   "outputs": [],
   "source": [
    "a = 4\n",
    "while a > 0:\n",
    "    a -= 1\n",
    "    print(a)\n",
    "else:\n",
    "    print('End loops')"
   ]
  },
  {
   "cell_type": "code",
   "execution_count": null,
   "metadata": {},
   "outputs": [],
   "source": [
    "# for loop\n",
    "\n",
    "for x in range(5):\n",
    "    print(x)"
   ]
  },
  {
   "cell_type": "code",
   "execution_count": null,
   "metadata": {},
   "outputs": [],
   "source": [
    "range(5)        # 0, 1, 2, 3, 4\n",
    "range(1, 5)     # 1, 2, 3, 4\n",
    "range(1, 5, 2)  # 1, 3"
   ]
  },
  {
   "cell_type": "code",
   "execution_count": null,
   "metadata": {},
   "outputs": [],
   "source": [
    "# Break loop\n",
    "\n",
    "for x in range(6):\n",
    "    if x == 3: break\n",
    "    print(x)"
   ]
  },
  {
   "cell_type": "code",
   "execution_count": null,
   "metadata": {},
   "outputs": [],
   "source": [
    "# Continue loop with next itteration\n",
    "\n",
    "for x in range(6):\n",
    "    if x == 3: continue\n",
    "    print(x)"
   ]
  },
  {
   "cell_type": "code",
   "execution_count": null,
   "metadata": {},
   "outputs": [],
   "source": [
    "#  nested loops\n",
    "\n",
    "cols = [\"A\", \"B\", \"C\"]\n",
    "rows = [1, 2, 3]\n",
    "\n",
    "for c in cols:\n",
    "    for r in rows:\n",
    "        print(c, r, sep='') "
   ]
  },
  {
   "cell_type": "markdown",
   "metadata": {},
   "source": [
    "#### Comprehension"
   ]
  },
  {
   "cell_type": "code",
   "execution_count": null,
   "metadata": {},
   "outputs": [],
   "source": [
    "# creating list\n",
    "\n",
    "my_list = [n for n in range(10)]\n",
    "my_list"
   ]
  },
  {
   "cell_type": "code",
   "execution_count": null,
   "metadata": {},
   "outputs": [],
   "source": [
    "# creating list\n",
    "\n",
    "my_list = [n**2 for n in range(10)]\n",
    "my_list"
   ]
  },
  {
   "cell_type": "code",
   "execution_count": null,
   "metadata": {},
   "outputs": [],
   "source": [
    "# condition: if: odd numbers\n",
    "\n",
    "my_list = [n for n in range(10) if n % 2]\n",
    "my_list"
   ]
  },
  {
   "cell_type": "code",
   "execution_count": null,
   "metadata": {},
   "outputs": [],
   "source": [
    "# condition: if else\n",
    "\n",
    "my_list = [n if n % 2 else 0 for n in range(10)]\n",
    "my_list"
   ]
  },
  {
   "cell_type": "code",
   "execution_count": null,
   "metadata": {},
   "outputs": [],
   "source": [
    "# nested comprehension\n",
    "\n",
    "my_list = [[m for m in range(n+1)] for n in range(10)]\n",
    "my_list"
   ]
  },
  {
   "cell_type": "code",
   "execution_count": null,
   "metadata": {},
   "outputs": [],
   "source": [
    "# string generator\n",
    "\n",
    "my_str = ''.join(str(n) for n in range(10))\n",
    "my_str"
   ]
  },
  {
   "cell_type": "markdown",
   "metadata": {},
   "source": [
    "#### Iterators"
   ]
  },
  {
   "cell_type": "markdown",
   "metadata": {},
   "source": [
    "* \\_\\_iter\\_\\_()\n",
    "* \\_\\_next\\_\\_()"
   ]
  },
  {
   "cell_type": "code",
   "execution_count": null,
   "metadata": {},
   "outputs": [],
   "source": [
    "# f.e. strings are iterable objects\n",
    "\n",
    "my_str = 'Hello'\n",
    "\n",
    "my_iterator = iter(my_str)\n",
    "\n",
    "print(next(my_iterator))\n",
    "print(next(my_iterator))\n",
    "print(next(my_iterator))\n",
    "print(next(my_iterator))\n",
    "print(next(my_iterator))"
   ]
  },
  {
   "cell_type": "code",
   "execution_count": null,
   "metadata": {},
   "outputs": [],
   "source": [
    "# Error: not itterabled object\n",
    "\n",
    "my_int = 5\n",
    "\n",
    "for n in my_int:\n",
    "    print(n)"
   ]
  },
  {
   "cell_type": "markdown",
   "metadata": {},
   "source": [
    "#### Lambda"
   ]
  },
  {
   "cell_type": "code",
   "execution_count": null,
   "metadata": {},
   "outputs": [],
   "source": [
    "# anonymous small function\n",
    "\n",
    "x = lambda a: a * 2\n",
    "\n",
    "print(x(3))"
   ]
  },
  {
   "cell_type": "code",
   "execution_count": null,
   "metadata": {},
   "outputs": [],
   "source": [
    "# clasic function definition\n",
    "def x(a):\n",
    "    return a *2\n",
    "\n",
    "print(x(3))"
   ]
  },
  {
   "cell_type": "code",
   "execution_count": null,
   "metadata": {},
   "outputs": [],
   "source": [
    "# lambda with few arguments\n",
    "\n",
    "x = lambda a, b: a * b\n",
    "\n",
    "print(x(3, 2))"
   ]
  },
  {
   "cell_type": "code",
   "execution_count": null,
   "metadata": {},
   "outputs": [],
   "source": [
    "# lambda inside other function\n",
    "\n",
    "def my_func(n):\n",
    "    return lambda a : a * n\n",
    "\n",
    "\n",
    "mydoubler = my_func(2)\n",
    "mytripler = my_func(3)\n",
    "\n",
    "print(mydoubler(11))\n",
    "print(mytripler(11))"
   ]
  },
  {
   "cell_type": "code",
   "execution_count": null,
   "metadata": {},
   "outputs": [],
   "source": [
    "# Lambda Function with List Comprehension\n",
    "\n",
    "my_list = [lambda arg=x: arg * 10 for x in range(5)]\n",
    "\n",
    "\n",
    "for item in my_list:\n",
    "    print(item())\n",
    "\n",
    "my_list[1]()"
   ]
  },
  {
   "cell_type": "code",
   "execution_count": null,
   "metadata": {},
   "outputs": [],
   "source": [
    "# Lambda Function with if-else\n",
    "\n",
    "max_number = lambda a, b : a if a > b else b\n",
    " \n",
    "print(max_number(1, 2))"
   ]
  },
  {
   "cell_type": "markdown",
   "metadata": {},
   "source": [
    "#### Map"
   ]
  },
  {
   "cell_type": "markdown",
   "metadata": {},
   "source": [
    "The map() function applies a given function to each element of an iterable (list, tuple etc.) and returns an iterator containing the results."
   ]
  },
  {
   "cell_type": "code",
   "execution_count": null,
   "metadata": {},
   "outputs": [],
   "source": [
    "my_list = [2, 4, 6, 8, 10]\n",
    "\n",
    "# returns the double of a number\n",
    "def my_func(n):\n",
    "  return n * 2\n",
    "\n",
    "\n",
    "# apply my_func() to each item of the my_list\n",
    "new_list = list(map(my_func, my_list))\n",
    "\n",
    "new_list"
   ]
  },
  {
   "cell_type": "code",
   "execution_count": null,
   "metadata": {},
   "outputs": [],
   "source": [
    "# map with lambda\n",
    "\n",
    "my_list = [2, 4, 6, 8, 10]\n",
    "\n",
    "\n",
    "# apply lambda to each item of the my_list\n",
    "new_list = list(map(lambda x: x*2, my_list))\n",
    "\n",
    "new_list"
   ]
  },
  {
   "cell_type": "code",
   "execution_count": null,
   "metadata": {},
   "outputs": [],
   "source": [
    "# Map and lambda: multiple iterators\n",
    "\n",
    "my_list_1 = [0, 1, 3, 5]\n",
    "my_list_2 = [4, 2, 8, 9]\n",
    "\n",
    "\n",
    "list(map(lambda n1, n2: n1*n2, my_list_1, my_list_2))"
   ]
  },
  {
   "cell_type": "markdown",
   "metadata": {},
   "source": [
    "#### Filter"
   ]
  },
  {
   "cell_type": "markdown",
   "metadata": {},
   "source": [
    "The filter() function selects elements from an iterable (list, tuple etc.) based on the output of a function."
   ]
  },
  {
   "cell_type": "code",
   "execution_count": null,
   "metadata": {},
   "outputs": [],
   "source": [
    "# returns True if the argument passed is even\n",
    "\n",
    "def check_even(number):\n",
    "    if number % 2 == 0:\n",
    "          return True  \n",
    "\n",
    "    return False\n",
    "\n",
    "\n",
    "numbers = [1, 2, 3, 4, 5, 6, 7, 8, 9, 10]\n",
    "\n",
    "# return even number from list\n",
    "\n",
    "list(filter(check_even, numbers))"
   ]
  },
  {
   "cell_type": "code",
   "execution_count": null,
   "metadata": {},
   "outputs": [],
   "source": [
    "# filter with lambda\n",
    "\n",
    "numbers = [1, 2, 3, 4, 5, 6, 7, 8, 9, 10]\n",
    "\n",
    "list(filter(lambda x: (x % 2 == 0), numbers))"
   ]
  },
  {
   "cell_type": "code",
   "execution_count": null,
   "metadata": {},
   "outputs": [],
   "source": [
    "# filter with lambda\n",
    "\n",
    "numbers = [1, 2, 3, 4, 5, 6, 7, 8, 9, 10]\n",
    "\n",
    "list(filter(lambda x: (x > 5), numbers))"
   ]
  },
  {
   "cell_type": "markdown",
   "metadata": {},
   "source": [
    "#### Recursion"
   ]
  },
  {
   "cell_type": "code",
   "execution_count": null,
   "metadata": {},
   "outputs": [],
   "source": [
    "# Calculation of factorial: 5! = 1 * 2 * 3 * 4 * 5 = 120\n",
    "def factorial(n):\n",
    "    if n < 2: return 1\n",
    "    return n * factorial(n-1) \n",
    "\n",
    "\n",
    "factorial(5)"
   ]
  },
  {
   "cell_type": "markdown",
   "metadata": {},
   "source": [
    "#### Class"
   ]
  },
  {
   "cell_type": "code",
   "execution_count": null,
   "metadata": {},
   "outputs": [],
   "source": [
    "# example of class: Animal\n",
    "class Animal:\n",
    "    def __init__(self, name, type, age, legs):\n",
    "        self.name = name\n",
    "        self.type = type\n",
    "        self.age = age\n",
    "        self.legs = legs\n",
    "\n",
    "    def myfunc(self):\n",
    "        print(\"Hello my name is \" + self.name)\n",
    "\n",
    "\n",
    "# creating objects\n",
    "animal_1 = Animal('Tom', 'Cat', 10, 4)\n",
    "animal_2 = Animal('Bob', 'Dog', 6, 4)\n",
    "\n",
    "\n",
    "print(type(animal_1))\n",
    "\n",
    "print(animal_1.age)\n",
    "print(animal_2.type)\n",
    "\n",
    "# calling method\n",
    "animal_1.myfunc()\n",
    "animal_2.myfunc()\n",
    "\n",
    "animal_1.name = 'Not Tom'\n",
    "\n",
    "animal_1.myfunc()"
   ]
  },
  {
   "cell_type": "markdown",
   "metadata": {},
   "source": [
    "**4 principles of OOP:**\n",
    "* Encapsulation (*zabalení dat a metod do jedné komponenty*)\n",
    "* Abstraction (*každý objekt pracuje jako černá skříňka, která dokáže provádět určené činnosti a komunikovat s okolím, aniž by vyžadovala znalost způsobu, kterým vnitřně pracuje*)\n",
    "* Inheritance (*objekty jsou organizovány stromovým způsobem, kdy objekty nějakého druhu mohou dědit z jiného druhu objektů*)\n",
    "* Polymorphism (*odkazovaný objekt se chová podle toho, jaké třídy je instancí*)"
   ]
  },
  {
   "cell_type": "markdown",
   "metadata": {},
   "source": [
    "#### Decorator"
   ]
  },
  {
   "cell_type": "code",
   "execution_count": null,
   "metadata": {},
   "outputs": [],
   "source": [
    "# decorator function\n",
    "def smart_divide(func):\n",
    "    def inner(a, b):\n",
    "        print(\"I am going to divide\", a, \"and\", b)\n",
    "        if b == 0:\n",
    "            print(\"Whoops! cannot divide\")\n",
    "            return\n",
    "\n",
    "        return func(a, b)\n",
    "    return inner\n",
    "\n",
    "\n",
    "@smart_divide\n",
    "def divide(a, b):\n",
    "    print(a / b)\n",
    "\n",
    "\n",
    "divide(2, 1)\n",
    "divide(2, 0)"
   ]
  },
  {
   "cell_type": "markdown",
   "metadata": {},
   "source": [
    "#### Time complexity (Big-O)"
   ]
  },
  {
   "cell_type": "markdown",
   "metadata": {},
   "source": [
    "The computational complexity that describes the amount of time it takes to run an algorithm."
   ]
  },
  {
   "cell_type": "markdown",
   "metadata": {},
   "source": [
    "* Constant Time: **O(1)**"
   ]
  },
  {
   "cell_type": "code",
   "execution_count": null,
   "metadata": {},
   "outputs": [],
   "source": [
    "def OddOrEven(n):\n",
    "    return \"Even\" if n % 2 else \"Odd\""
   ]
  },
  {
   "cell_type": "markdown",
   "metadata": {},
   "source": [
    "* Logarithmic Time: **O(log n)**"
   ]
  },
  {
   "cell_type": "code",
   "execution_count": null,
   "metadata": {},
   "outputs": [],
   "source": [
    "# finding 2 in list\n",
    "a = [1, 2, 3, 4, 5, 6 , 7, 8, 9, 10]\n",
    "\n",
    "# The algorithm halves the input every single time it iterates. Therefore it is logarithmic."
   ]
  },
  {
   "cell_type": "markdown",
   "metadata": {},
   "source": [
    "* Linear Time: **O(n)**"
   ]
  },
  {
   "cell_type": "code",
   "execution_count": null,
   "metadata": {},
   "outputs": [],
   "source": [
    "shopping_list = [\"Bread\", \"Butter\", \"The Nacho Libre soundtrack from the 2006 film Nacho Libre\", \"Reusable Water Bottle\"]\n",
    "\n",
    "for item in shopping_list:\n",
    "    print(item)"
   ]
  },
  {
   "cell_type": "markdown",
   "metadata": {},
   "source": [
    "* Polynomial Time: **O(n<sup>2</sup>)**"
   ]
  },
  {
   "cell_type": "code",
   "execution_count": null,
   "metadata": {},
   "outputs": [],
   "source": [
    "a = [1, 2, 3, 4, 5, 6, 7, 8, 9, 10]\n",
    "\n",
    "for i in a:\n",
    "    for x in a:\n",
    "        print(\"x\", end=\"\")"
   ]
  },
  {
   "cell_type": "markdown",
   "metadata": {},
   "source": [
    "* Quasilinear Time: **O(n log n)**\n",
    "* Exponential Time: **O(2<sup>n</sup>)**\n",
    "* Factorial Time: **O(n!)**"
   ]
  },
  {
   "cell_type": "markdown",
   "metadata": {},
   "source": [
    "![img/time-complexity.png](img/time-complexity.png)"
   ]
  },
  {
   "cell_type": "markdown",
   "metadata": {},
   "source": [
    "**List** operations"
   ]
  },
  {
   "cell_type": "markdown",
   "metadata": {},
   "source": [
    "| Operation          | Big-O      |\n",
    "|--------------------|------------|\n",
    "| Copy               | O(n)       |\n",
    "| Append             | O(1)       |\n",
    "| Pop last           | O(1)       |\n",
    "| Pop   intermediate | O(n)       |\n",
    "| Insert             | O(n)       |\n",
    "| Get Item           | O(1)       |\n",
    "| Set Item           | O(1)       |\n",
    "| Delete   Item      | O(n)       |\n",
    "| Iteration          | O(n)       |\n",
    "| Get   Slice        | O(k)       |\n",
    "| Del   Slice        | O(n)       |\n",
    "| Set   Slice        | O(k+n)     |\n",
    "| Extend             | O(k)       |\n",
    "| Sort               | O(n log n) |\n",
    "| Multiply           | O(nk)      |\n",
    "| x in s             | O(n)       |\n",
    "| min(s),   max(s)   | O(n)       |\n",
    "| Get   Length       | O(1)       |"
   ]
  },
  {
   "cell_type": "markdown",
   "metadata": {},
   "source": [
    "**Set** operations"
   ]
  },
  {
   "cell_type": "markdown",
   "metadata": {},
   "source": [
    "| Operation          | Big-O                  |\n",
    "|--------------------|------------------------|\n",
    "| x in s             | O(1)                   |\n",
    "| Union   s\\|t       | O(len(s)+len(t))       |\n",
    "| Intersection   s&t | O(min(len(s), len(t))) |\n",
    "| Difference   s-t   | O(len(s))              |"
   ]
  },
  {
   "cell_type": "markdown",
   "metadata": {},
   "source": [
    "**Dictionary** operations"
   ]
  },
  {
   "cell_type": "markdown",
   "metadata": {},
   "source": [
    "| Operation      | Big-O  |\n",
    "|----------------|---------------|\n",
    "|  k in d        | O(1)          |\n",
    "|  Copy          | O(n)          |\n",
    "|  Get Item      | O(1)          |\n",
    "|  Set Item      | O(1)          |\n",
    "|  Delete Item   | O(1)          |\n",
    "|  Iteration     | O(n)          |"
   ]
  },
  {
   "cell_type": "markdown",
   "metadata": {},
   "source": [
    "**Comparison of time complexity**"
   ]
  },
  {
   "cell_type": "markdown",
   "metadata": {},
   "source": [
    "| Operation   | List | Set   | Dictionary |\n",
    "|-------------|------|-------|------------|\n",
    "| x in s      | O(n) | O(1)  | O(1)       |\n",
    "| Delete Item | O(n) | -     | O(1)       |"
   ]
  },
  {
   "cell_type": "markdown",
   "metadata": {},
   "source": [
    "#### Sorting"
   ]
  },
  {
   "cell_type": "code",
   "execution_count": null,
   "metadata": {},
   "outputs": [],
   "source": [
    "# sort list with method sort\n",
    "my_list = [1, -5, 0, 6, 1]\n",
    "\n",
    "my_list.sort()\n",
    "\n",
    "my_list"
   ]
  },
  {
   "cell_type": "code",
   "execution_count": null,
   "metadata": {},
   "outputs": [],
   "source": [
    "# reverse sort list with method sort\n",
    "my_list = [1, -5, 0, 6, 1]\n",
    "\n",
    "my_list.sort(reverse=True)\n",
    "\n",
    "my_list"
   ]
  },
  {
   "cell_type": "code",
   "execution_count": null,
   "metadata": {},
   "outputs": [],
   "source": [
    "# sorting by optional parameter\n",
    "\n",
    "def myFunc(e):\n",
    "  return len(e)\n",
    "\n",
    "my_list = ['Hello', 'Test', 'Ahoj!!!', 'Hi']\n",
    "\n",
    "my_list.sort(key=myFunc)\n",
    "my_list"
   ]
  },
  {
   "cell_type": "code",
   "execution_count": null,
   "metadata": {},
   "outputs": [],
   "source": [
    "# sorting by optional parameter with lambda\n",
    "\n",
    "my_list = ['Hello', 'Test', 'Ahoj!!!', 'Hi']\n",
    "\n",
    "my_list.sort(key=lambda x:len(x))\n",
    "my_list"
   ]
  },
  {
   "cell_type": "code",
   "execution_count": null,
   "metadata": {},
   "outputs": [],
   "source": [
    "# sorting multiarray with lambda\n",
    "\n",
    "my_list = [[0, 5, -1], [10, 3, 5], [4, -3, 0]]\n",
    "\n",
    "print(my_list.sort(key=lambda x: x[1]))  # method sort return None!\n",
    "\n",
    "my_list"
   ]
  },
  {
   "cell_type": "code",
   "execution_count": null,
   "metadata": {},
   "outputs": [],
   "source": [
    "# sorting multiarray with function sorted()\n",
    "\n",
    "my_list = [[0, 5, -1], [10, 3, 5], [4, -3, 0]]\n",
    "\n",
    "my_list = sorted(my_list, key=lambda x: x[1])  # sort by second items: 5, 3, -3 -> -3, 3, 5\n",
    "\n",
    "my_list"
   ]
  },
  {
   "cell_type": "markdown",
   "metadata": {},
   "source": [
    "#### Example"
   ]
  },
  {
   "cell_type": "markdown",
   "metadata": {},
   "source": [
    "**Write a function**:\n",
    "\n",
    "<code>def calculate_median(nums: list[int]) -> int:</code>\n",
    "\n",
    "Find median list. For example in list [6, 1, 2, 5, 3, 4, 9, 1] median will be '3' at index 4.  \n",
    "List on left sum[6, 1, 2, 5] = 14  \n",
    "List on right sum[4, 9, 1] = 14  \n",
    "\n",
    "Nums are positive integers.\n",
    "\n",
    "*Return index of median of list. If not exist, return -1*"
   ]
  },
  {
   "cell_type": "code",
   "execution_count": null,
   "metadata": {},
   "outputs": [],
   "source": [
    "# Version 1: slicing in loop\n",
    "\n",
    "def calculate_median(nums: list[int]) -> int:\n",
    "    for key, n in enumerate(nums):\n",
    "        if sum(nums[:key]) == sum(nums[key+1:]):\n",
    "            return key\n",
    "    return -1"
   ]
  },
  {
   "cell_type": "code",
   "execution_count": null,
   "metadata": {},
   "outputs": [],
   "source": [
    "nums = [6, 1, 2, 5, 3, 4, 9, 1]\n",
    "\n",
    "assert calculate_median(nums) == 4, 'Median not found!'\n",
    "\n",
    "print('Median found!')"
   ]
  },
  {
   "cell_type": "code",
   "execution_count": null,
   "metadata": {},
   "outputs": [],
   "source": [
    "def testing(func):\n",
    "    def inner(nums):\n",
    "        for _ in range(5_000_000):\n",
    "            func(nums)\n",
    "        return func(nums)\n",
    "    return inner\n",
    "\n",
    "\n",
    "# Version 1: Slicing in loop with decorator for testing\n",
    "@testing\n",
    "def calculate_median(nums: list[int]) -> int:\n",
    "    for key, n in enumerate(nums):\n",
    "        if sum(nums[:key]) == sum(nums[key+1:]):\n",
    "            return key\n",
    "    return -1"
   ]
  },
  {
   "cell_type": "code",
   "execution_count": null,
   "metadata": {},
   "outputs": [],
   "source": [
    "def testing(func):\n",
    "    def wrapper(*args, **kwargs):\n",
    "        for _ in range(5_000_000):\n",
    "            func(*args, **kwargs)\n",
    "        return func(*args, **kwargs)\n",
    "    return wrapper\n",
    "\n",
    "\n",
    "# Version 1: Slicing in loop with decorator for testing\n",
    "@testing\n",
    "def calculate_median(nums: list[int]) -> int:\n",
    "    for key, n in enumerate(nums):\n",
    "        if sum(nums[:key]) == sum(nums[key+1:]):\n",
    "            return key\n",
    "    return -1"
   ]
  },
  {
   "cell_type": "code",
   "execution_count": null,
   "metadata": {},
   "outputs": [],
   "source": [
    "nums = [6, 1, 2, 5, 3, 4, 9, 1]\n",
    "\n",
    "assert calculate_median(nums) == 4, 'Median not found!'\n",
    "\n",
    "print('Median found!')"
   ]
  },
  {
   "cell_type": "code",
   "execution_count": null,
   "metadata": {},
   "outputs": [],
   "source": [
    "import time\n",
    "\n",
    "def testing(func):\n",
    "    def wrapper(*args, **kwargs):\n",
    "        for _ in range(5_000_000):\n",
    "            func(*args, **kwargs)\n",
    "        return func(*args, **kwargs)\n",
    "    return wrapper\n",
    "\n",
    "\n",
    "def timer(func):\n",
    "    def wrapper(*args, **kwargs):\n",
    "        start = time.time()\n",
    "        val = func(*args, **kwargs)\n",
    "        print(f'Time: {time.time() - start}')\n",
    "        return val\n",
    "    return wrapper\n",
    "\n",
    "\n",
    "# Version 1: Slicing in loop with decorator for testing\n",
    "@timer\n",
    "@testing\n",
    "def calculate_median(nums: list[int]) -> int:\n",
    "    for key, n in enumerate(nums):\n",
    "        if sum(nums[:key]) == sum(nums[key+1:]):\n",
    "            return key\n",
    "    return -1"
   ]
  },
  {
   "cell_type": "code",
   "execution_count": null,
   "metadata": {},
   "outputs": [],
   "source": [
    "nums = [6, 1, 2, 5, 3, 4, 9, 1]\n",
    "\n",
    "assert calculate_median(nums) == 4, 'Median not found!'\n",
    "\n",
    "print('Median found!')"
   ]
  },
  {
   "cell_type": "code",
   "execution_count": null,
   "metadata": {},
   "outputs": [],
   "source": [
    "# Version 2: Left and right side\n",
    "\n",
    "@testing\n",
    "def calculate_median_2(nums: list[int]) -> int:\n",
    "    sum_right = sum(nums)\n",
    "    sum_left = 0\n",
    "\n",
    "    for key, value in enumerate(nums):\n",
    "        if sum_left == sum_right - sum_left - value:\n",
    "            return key\n",
    "        sum_left += value\n",
    "\n",
    "    return -1"
   ]
  },
  {
   "cell_type": "code",
   "execution_count": null,
   "metadata": {},
   "outputs": [],
   "source": [
    "nums = [6, 1, 2, 5, 3, 4, 9, 1]\n",
    "\n",
    "assert calculate_median_2(nums) == 4, 'Median not found!'\n",
    "\n",
    "print('Median found!')"
   ]
  },
  {
   "cell_type": "code",
   "execution_count": null,
   "metadata": {},
   "outputs": [],
   "source": [
    "# Version 3: Left and right side with aboarting\n",
    "\n",
    "@testing\n",
    "def calculate_median_3(nums: list[int]) -> int:\n",
    "    sum_right = sum(nums)\n",
    "    sum_left = 0\n",
    "\n",
    "    sum_total = sum_right\n",
    "\n",
    "    for key, value in enumerate(nums):\n",
    "        if sum_left == sum_right - sum_left - value:\n",
    "            return key\n",
    "        \n",
    "        if sum_left > sum_total - sum_left:\n",
    "            return -1\n",
    "\n",
    "        sum_left += value\n",
    "\n",
    "\n",
    "    return -1"
   ]
  },
  {
   "cell_type": "code",
   "execution_count": null,
   "metadata": {},
   "outputs": [],
   "source": [
    "nums = [6, 1, 2, 5, 3, 4, 9, 1]\n",
    "\n",
    "assert calculate_median_3(nums) == 4, 'Median not found!'\n",
    "\n",
    "print('Median found!')"
   ]
  },
  {
   "cell_type": "code",
   "execution_count": null,
   "metadata": {},
   "outputs": [],
   "source": [
    "import time\n",
    "\n",
    "def testing(*argsD, **kwargsD):\n",
    "    def testing_in(func):\n",
    "        def wrapper(*args, **kwargs):\n",
    "            for _ in range(kwargsD['loops']):\n",
    "                func(*args, **kwargs)\n",
    "            return func(*args, **kwargs)\n",
    "        return wrapper\n",
    "    return testing_in\n",
    "\n",
    "\n",
    "def timer(func):\n",
    "    def wrapper(*args, **kwargs):\n",
    "        start = time.time()\n",
    "        val = func(*args, **kwargs)\n",
    "        print(f'Time: {time.time() - start}')\n",
    "        return val\n",
    "    return wrapper\n",
    "\n",
    "\n",
    "# Version 1: Slicing in loop with decorator for testing\n",
    "@timer\n",
    "@testing(loops=1_000_000)\n",
    "def calculate_median(nums: list[int]) -> int:\n",
    "    for key, n in enumerate(nums):\n",
    "        if sum(nums[:key]) == sum(nums[key+1:]):\n",
    "            return key\n",
    "    return -1"
   ]
  },
  {
   "cell_type": "code",
   "execution_count": null,
   "metadata": {},
   "outputs": [],
   "source": [
    "nums = [6, 1, 2, 5, 3, 4, 9, 1]\n",
    "\n",
    "assert calculate_median(nums) == 4, 'Median not found!'\n",
    "\n",
    "print('Median found!')"
   ]
  },
  {
   "cell_type": "markdown",
   "metadata": {},
   "source": [
    "#### Task 04"
   ]
  },
  {
   "cell_type": "markdown",
   "metadata": {},
   "source": [
    "* Write one-line function with lambda and filter for selecting data from list[int] in range (min_value, max_value) including.\n",
    "* Check it with assert for few example"
   ]
  },
  {
   "cell_type": "code",
   "execution_count": null,
   "metadata": {},
   "outputs": [],
   "source": [
    "my_list = [1, 5, -3, 0, 10, 11, -12, 15, 3, 1]\n",
    "\n",
    "\n",
    "# def my_filter(...) -> ...:\n",
    "#     ..."
   ]
  },
  {
   "cell_type": "code",
   "execution_count": null,
   "metadata": {},
   "outputs": [],
   "source": [
    "# assert ...\n",
    "# assert ...\n",
    "# assert ..."
   ]
  }
 ],
 "metadata": {
  "kernelspec": {
   "display_name": "Python 3",
   "language": "python",
   "name": "python3"
  },
  "language_info": {
   "codemirror_mode": {
    "name": "ipython",
    "version": 3
   },
   "file_extension": ".py",
   "mimetype": "text/x-python",
   "name": "python",
   "nbconvert_exporter": "python",
   "pygments_lexer": "ipython3",
   "version": "3.11.2"
  },
  "orig_nbformat": 4
 },
 "nbformat": 4,
 "nbformat_minor": 2
}
