{
 "cells": [
  {
   "cell_type": "markdown",
   "metadata": {},
   "source": [
    "## 122XSUP - Strojové učení a umělá inteligence v prostředí Python"
   ]
  },
  {
   "cell_type": "markdown",
   "metadata": {},
   "source": [
    "<h5 style='color:orange'><em>Week 4: Analýza dat pomocí Python. Knihovny Python. NymPy a Pandas. CSV soubory.</em></h5>"
   ]
  },
  {
   "cell_type": "markdown",
   "metadata": {},
   "source": [
    "### Usefull packages in Python"
   ]
  },
  {
   "cell_type": "code",
   "execution_count": null,
   "metadata": {},
   "outputs": [],
   "source": [
    "# URL protocols\n",
    "\"\"\"\n",
    "Working with URLs and web protocols. \n",
    "It includes functions for opening and closing network connections, \n",
    "sending and receiving data, and parsing URLs. \n",
    "\"\"\"\n",
    "import urllib.request\n",
    "\n",
    "request_url = urllib.request.urlopen('https://www.robostav.cz/') \n",
    "print(request_url.read())"
   ]
  },
  {
   "cell_type": "code",
   "execution_count": null,
   "metadata": {},
   "outputs": [],
   "source": [
    "#  Parsing and Web Scraping\n",
    "\"\"\"\n",
    "Library for parsing HTML and XML documents. \n",
    "It creates parse trees from the documents that can be used \n",
    "to extract data from HTML and XML files with a simple and intuitive API. \n",
    "\"\"\"\n",
    "# %pip install requests\n",
    "# %pip install html5lib\n",
    "# %pip install beautifulsoup4\n",
    "\n",
    "import requests \n",
    "from bs4 import BeautifulSoup \n",
    "\n",
    "URL = \"http://www.values.com/inspirational-quotes\"\n",
    "r = requests.get(URL) \n",
    "\n",
    "soup = BeautifulSoup(r.content, 'html5lib') # If this line causes an error, run 'pip install html5lib' or install html5lib \n",
    "print(soup.prettify())"
   ]
  },
  {
   "cell_type": "code",
   "execution_count": null,
   "metadata": {},
   "outputs": [],
   "source": [
    "# Image\n",
    "\"\"\"\n",
    "Image manipulation\n",
    "PIL allows manipulating, opening, and saving various image file formats in Python\n",
    "\"\"\"\n",
    "# %pip install Pillow\n",
    "\n",
    "from PIL import Image\n",
    " \n",
    "# img/logo_b.png => location_of_image\n",
    "img = Image.open(r\"img/logo_b.png\")\n",
    "print(img.size)\n",
    "print(img.format)\n",
    "img.show()\n",
    "\n",
    "# Jupyter Notebook with matplotlib\n",
    "\n",
    "# import matplotlib.pyplot as plt\n",
    "# plt.imshow(img)"
   ]
  },
  {
   "cell_type": "code",
   "execution_count": null,
   "metadata": {},
   "outputs": [],
   "source": [
    "#  Data\n",
    "\"\"\"\n",
    "The collection Module in Python provides different types of containers.\n",
    "Container is an object that is used to store different objects and \n",
    "provide a way to access the contained objects and iterate over them.\n",
    "\"\"\"\n",
    "from collections import Counter\n",
    "    \n",
    "# sequence of items\n",
    "print(Counter(['B','B','A','B','C','A','B', 'B','A','C']))\n",
    "\n",
    "\n",
    "# from collections import deque\n",
    "# from collections import UserDict, UserList, UserString\n",
    "# from collections import ChainMap"
   ]
  },
  {
   "cell_type": "code",
   "execution_count": null,
   "metadata": {},
   "outputs": [],
   "source": [
    "#  Data FIFO / LIFO\n",
    "\"\"\"\n",
    "Queue is built-in module of Python which is used to implement a queue.\n",
    "\"\"\"\n",
    "from queue import Queue"
   ]
  },
  {
   "cell_type": "code",
   "execution_count": null,
   "metadata": {},
   "outputs": [],
   "source": [
    "# OS and sys packages\n",
    "\"\"\"\n",
    "The sys module in Python provides various functions and variables that are used \n",
    "to manipulate different parts of the Python runtime environment. \n",
    "\"\"\"\n",
    "import sys\n",
    "\n",
    "print(sys.version)\n",
    "\n",
    "\n",
    "\"\"\"\n",
    "The OS module in Python provides functions for interacting with the operating system.\n",
    "\"\"\"\n",
    "import os\n",
    "\n",
    "# Get the current working directory (CWD)  \n",
    "cwd = os.getcwd()  \n",
    "      \n",
    "# Print the current working directory (CWD)  \n",
    "print(\"Current working directory:\", cwd)"
   ]
  },
  {
   "cell_type": "code",
   "execution_count": null,
   "metadata": {},
   "outputs": [],
   "source": [
    "# Math package\n",
    "\"\"\"\n",
    "Python has a built-in module that you can use for mathematical tasks.\n",
    "\"\"\"\n",
    "import math\n",
    "\n",
    "# Return the cosine of different numbers\n",
    "print (math.cos(10))"
   ]
  },
  {
   "cell_type": "code",
   "execution_count": null,
   "metadata": {},
   "outputs": [],
   "source": [
    "#  Date package\n",
    "\"\"\"\n",
    "A date in Python is not a data type of its own, \n",
    "but we can import a module named datetime to work with dates as date objects.\n",
    "\"\"\"\n",
    "import datetime\n",
    "\n",
    "print(datetime.datetime.now())"
   ]
  },
  {
   "cell_type": "code",
   "execution_count": null,
   "metadata": {},
   "outputs": [],
   "source": [
    "#  Time package\n",
    "\"\"\"\n",
    "Time module allows to work with time in Python. \n",
    "It allows functionality like getting the current time, \n",
    "pausing the Program from executing, etc.\n",
    "\"\"\"\n",
    "import time\n",
    "\n",
    "curr = time.time()\n",
    "print(f\"Current time in seconds since epoch ={curr}\")"
   ]
  },
  {
   "cell_type": "code",
   "execution_count": null,
   "metadata": {},
   "outputs": [],
   "source": [
    "import time\n",
    " \n",
    "for i in range(4):\n",
    "    # using sleep() to halt execution\n",
    "    time.sleep(1)\n",
    "    print(i)"
   ]
  },
  {
   "cell_type": "markdown",
   "metadata": {},
   "source": [
    "### NumPy 1D array"
   ]
  },
  {
   "cell_type": "markdown",
   "metadata": {},
   "source": [
    "* NumPy is used for working with arrays\n",
    "* NumPy is short for \"Numerical Python\""
   ]
  },
  {
   "cell_type": "code",
   "execution_count": null,
   "metadata": {},
   "outputs": [],
   "source": [
    "from importlib.metadata import version \n",
    "version('numpy')"
   ]
  },
  {
   "cell_type": "code",
   "execution_count": null,
   "metadata": {},
   "outputs": [],
   "source": [
    "%pip show numpy"
   ]
  },
  {
   "cell_type": "code",
   "execution_count": null,
   "metadata": {},
   "outputs": [],
   "source": [
    "import numpy as np\n",
    "print(np.__version__)\n",
    "\n",
    "# Creating Arraya with int\n",
    "arr = np.array([1, 2, 3, 4, 5])\n",
    "\n",
    "print(arr)\n",
    "print(type(arr))\n",
    "print(arr.dtype)"
   ]
  },
  {
   "cell_type": "code",
   "execution_count": null,
   "metadata": {},
   "outputs": [],
   "source": [
    "# Creating Array with float\n",
    "arr = np.array([1.2, 2, 3, 4, 5])\n",
    "\n",
    "print(arr)\n",
    "print(type(arr))\n",
    "print(arr.dtype)"
   ]
  },
  {
   "cell_type": "code",
   "execution_count": null,
   "metadata": {},
   "outputs": [],
   "source": [
    "arr = np.array([1, 2, 3, 4, 5])\n",
    "\n",
    "# size of array\n",
    "print(arr.size)\n",
    "\n",
    "# dimension of array\n",
    "print(arr.ndim)\n",
    "\n",
    "# size of each dimension of array\n",
    "print(arr.shape)"
   ]
  },
  {
   "cell_type": "code",
   "execution_count": null,
   "metadata": {},
   "outputs": [],
   "source": [
    "arr = np.array([[1, 2], [2, 3], [4, 5]])\n",
    "\n",
    "# size of array\n",
    "print(arr.size)\n",
    "\n",
    "# dimension of array\n",
    "print(arr.ndim)\n",
    "\n",
    "# size of each dimension of array\n",
    "print(arr.shape)"
   ]
  },
  {
   "cell_type": "code",
   "execution_count": null,
   "metadata": {},
   "outputs": [],
   "source": [
    "arr = np.array([1, 2, 3, 4, 5])\n",
    "\n",
    "# indexing and access\n",
    "print(f'{arr[0]=}')\n",
    "print(f'{arr[1]=}')\n",
    "\n",
    "# changing\n",
    "arr[1] = 5\n",
    "print(f'{arr[1]=}')\n",
    "\n",
    "arr"
   ]
  },
  {
   "cell_type": "code",
   "execution_count": null,
   "metadata": {},
   "outputs": [],
   "source": [
    "# slicing\n",
    "b = arr[1:5]\n",
    "b"
   ]
  },
  {
   "cell_type": "code",
   "execution_count": null,
   "metadata": {},
   "outputs": [],
   "source": [
    "b[1:3] = 300, 400\n",
    "b"
   ]
  },
  {
   "cell_type": "markdown",
   "metadata": {},
   "source": [
    "##### Basic operations"
   ]
  },
  {
   "cell_type": "code",
   "execution_count": null,
   "metadata": {},
   "outputs": [],
   "source": [
    "# vector addition with list\n",
    "u = [1, 0]\n",
    "v = [0, 1]\n",
    "\n",
    "z = []\n",
    "\n",
    "for n, m in zip(u, v):\n",
    "    z.append(n + m)\n",
    "\n",
    "print(list(zip(u, v)),'\\n')\n",
    "\n",
    "print(f'{z=}')"
   ]
  },
  {
   "cell_type": "code",
   "execution_count": null,
   "metadata": {},
   "outputs": [],
   "source": [
    "# vector addition with numpy\n",
    "\n",
    "u = np.array([1, 0])\n",
    "v = np.array([0, 1])\n",
    "\n",
    "z = u + v\n",
    "\n",
    "print(f'{z=}')"
   ]
  },
  {
   "cell_type": "code",
   "execution_count": null,
   "metadata": {},
   "outputs": [],
   "source": [
    "# other operations with numpy\n",
    "\n",
    "u = np.array([1, 2])\n",
    "v = np.array([3, 4])\n",
    "\n",
    "print(u + 1)  # additional with scalar / broadcasting\n",
    "\n",
    "print(u - v)  # substraction\n",
    "\n",
    "print(2 * u)  # multiplication with Scalar\n",
    "\n",
    "print(u * v)  # product\n",
    "\n",
    "print(np.dot(u, v))  # dot product (uTv)\n"
   ]
  },
  {
   "cell_type": "markdown",
   "metadata": {},
   "source": [
    "##### Universal functions"
   ]
  },
  {
   "cell_type": "code",
   "execution_count": null,
   "metadata": {},
   "outputs": [],
   "source": [
    "a = np.array([1, 2, 3, 4])\n",
    "\n",
    "print(a.mean())  # average value: (1 + 2 + 3 + 4) / 4\n",
    "\n",
    "print(a.max())  # max value\n",
    "\n",
    "print(a.min())  # min value"
   ]
  },
  {
   "cell_type": "code",
   "execution_count": null,
   "metadata": {},
   "outputs": [],
   "source": [
    "# Get the standard deviation of numpy array\n",
    "\n",
    "standard_deviation=a.std()  # ( ((2.5 - 1)^2 + ... + (2.5 - 4)^2) / 4 )^(1/2)\n",
    "standard_deviation"
   ]
  },
  {
   "cell_type": "code",
   "execution_count": null,
   "metadata": {},
   "outputs": [],
   "source": [
    "# calculation sin for array in numpy\n",
    "\n",
    "print(np.pi)\n",
    "\n",
    "x = np.array([0, np.pi/2, np.pi])\n",
    "\n",
    "y = np.sin(x)\n",
    "\n",
    "y"
   ]
  },
  {
   "cell_type": "code",
   "execution_count": null,
   "metadata": {},
   "outputs": [],
   "source": [
    "# creating interval for plotting function\n",
    "\n",
    "np.linspace(-2, 2, num=9)"
   ]
  },
  {
   "cell_type": "code",
   "execution_count": null,
   "metadata": {},
   "outputs": [],
   "source": [
    "# Make a numpy array within [0, 2π] and 100 elements \n",
    "\n",
    "x = np.linspace(0, 2*np.pi, num=100)\n",
    "x"
   ]
  },
  {
   "cell_type": "code",
   "execution_count": null,
   "metadata": {},
   "outputs": [],
   "source": [
    "y = np.sin(x)"
   ]
  },
  {
   "cell_type": "code",
   "execution_count": null,
   "metadata": {},
   "outputs": [],
   "source": [
    "# %pip install matplotlib\n",
    "\n",
    "import matplotlib.pyplot as plt"
   ]
  },
  {
   "cell_type": "code",
   "execution_count": null,
   "metadata": {},
   "outputs": [],
   "source": [
    "%matplotlib inline\n",
    "plt.plot(x, y)"
   ]
  },
  {
   "cell_type": "markdown",
   "metadata": {},
   "source": [
    "### NumPy 2D Array"
   ]
  },
  {
   "cell_type": "code",
   "execution_count": null,
   "metadata": {},
   "outputs": [],
   "source": [
    "arr = np.array([[11, 12, 13], [21, 22, 23], [31, 32, 33]])\n",
    "\n",
    "# size of array\n",
    "print(arr.size)\n",
    "\n",
    "# dimension of array\n",
    "print(arr.ndim)\n",
    "\n",
    "# size of each dimension of array\n",
    "print(arr.shape)  # (3 rows, 3 cols)"
   ]
  },
  {
   "cell_type": "markdown",
   "metadata": {},
   "source": [
    "<img src=\"img/2Darray.png\" width=\"300\">\n"
   ]
  },
  {
   "cell_type": "code",
   "execution_count": null,
   "metadata": {},
   "outputs": [],
   "source": [
    "# Access the element on the second row and third column\n",
    "\n",
    "print(arr[1, 2])\n",
    "print(arr[1][2])"
   ]
  },
  {
   "cell_type": "markdown",
   "metadata": {},
   "source": [
    "<img src=\"img/2Darray-2.png\" width=\"300\">"
   ]
  },
  {
   "cell_type": "code",
   "execution_count": null,
   "metadata": {},
   "outputs": [],
   "source": [
    "# Access the element on the first row and first and second columns\n",
    "\n",
    "arr[0][0:2]"
   ]
  },
  {
   "cell_type": "markdown",
   "metadata": {},
   "source": [
    "<img src=\"img/2Darray-3.png\" width=\"300\">\n"
   ]
  },
  {
   "cell_type": "code",
   "execution_count": null,
   "metadata": {},
   "outputs": [],
   "source": [
    "# Access the element on the first and second rows and third column\n",
    "\n",
    "arr[0:2, 2]"
   ]
  },
  {
   "cell_type": "markdown",
   "metadata": {},
   "source": [
    "##### Basic operations"
   ]
  },
  {
   "cell_type": "markdown",
   "metadata": {},
   "source": [
    "<img src=\"img/addition.png\" width=\"500\">\n"
   ]
  },
  {
   "cell_type": "code",
   "execution_count": null,
   "metadata": {},
   "outputs": [],
   "source": [
    "# Create a numpy array X\n",
    "\n",
    "X = np.array([[1, 0], [0, 1]]) \n",
    "X"
   ]
  },
  {
   "cell_type": "code",
   "execution_count": null,
   "metadata": {},
   "outputs": [],
   "source": [
    "# Create a numpy array Y\n",
    "\n",
    "Y = np.array([[2, 1], [1, 2]]) \n",
    "Y"
   ]
  },
  {
   "cell_type": "code",
   "execution_count": null,
   "metadata": {},
   "outputs": [],
   "source": [
    "# Add X and Y\n",
    "\n",
    "Z = X + Y\n",
    "Z"
   ]
  },
  {
   "cell_type": "markdown",
   "metadata": {},
   "source": [
    "<img src=\"img/multiply.png\" width=\"500\">\n"
   ]
  },
  {
   "cell_type": "code",
   "execution_count": null,
   "metadata": {},
   "outputs": [],
   "source": [
    "# Create a numpy array Y\n",
    "\n",
    "Y = np.array([[2, 1], [1, 2]]) \n",
    "Y"
   ]
  },
  {
   "cell_type": "code",
   "execution_count": null,
   "metadata": {},
   "outputs": [],
   "source": [
    "# Multiply Y with 2\n",
    "\n",
    "Z = 2 * Y\n",
    "Z"
   ]
  },
  {
   "cell_type": "markdown",
   "metadata": {},
   "source": [
    "<img src=\"img/product.png\" width=\"500\">\n"
   ]
  },
  {
   "cell_type": "code",
   "execution_count": null,
   "metadata": {},
   "outputs": [],
   "source": [
    "# Create a numpy array Y and X\n",
    "\n",
    "Y = np.array([[2, 1], [1, 2]])\n",
    "X = np.array([[1, 0], [0, 1]]) "
   ]
  },
  {
   "cell_type": "code",
   "execution_count": null,
   "metadata": {},
   "outputs": [],
   "source": [
    "# Multiply X with Y / Product\n",
    "\n",
    "Z = X * Y\n",
    "Z"
   ]
  },
  {
   "cell_type": "markdown",
   "metadata": {},
   "source": [
    "Dot product:"
   ]
  },
  {
   "cell_type": "markdown",
   "metadata": {},
   "source": [
    "<img src=\"img/dot_product.png\" width=\"600\">"
   ]
  },
  {
   "cell_type": "code",
   "execution_count": null,
   "metadata": {},
   "outputs": [],
   "source": [
    "# Create a matrix A\n",
    "\n",
    "A = np.array([[0, 1, 1], [1, 0, 1]])\n",
    "\n",
    "# Create a matrix B\n",
    "\n",
    "B = np.array([[1, 1], [1, 1], [-1, 1]])"
   ]
  },
  {
   "cell_type": "code",
   "execution_count": null,
   "metadata": {},
   "outputs": [],
   "source": [
    "# Calculate the dot product\n",
    "\n",
    "Z = np.dot(A,B)\n",
    "Z"
   ]
  },
  {
   "cell_type": "code",
   "execution_count": null,
   "metadata": {},
   "outputs": [],
   "source": [
    "# Calculate the sine of Z\n",
    "\n",
    "np.sin(Z)"
   ]
  },
  {
   "cell_type": "code",
   "execution_count": null,
   "metadata": {},
   "outputs": [],
   "source": [
    "# Create a matrix C\n",
    "\n",
    "C = np.array([[1,1],[2,2],[3,3]])\n",
    "C"
   ]
  },
  {
   "cell_type": "code",
   "execution_count": null,
   "metadata": {},
   "outputs": [],
   "source": [
    "# Get the transposed of C\n",
    "\n",
    "C.T"
   ]
  },
  {
   "cell_type": "code",
   "execution_count": null,
   "metadata": {},
   "outputs": [],
   "source": [
    "# Changig shape of matrix\n",
    "\n",
    "A = np.array([[1,1],[2,2],[3,3]])\n",
    "\n",
    "A = np.reshape(A, (2, 3))\n",
    "print(A)\n",
    "\n",
    "A = np.reshape(A, (1, 6))\n",
    "print(A)"
   ]
  },
  {
   "cell_type": "markdown",
   "metadata": {},
   "source": [
    "*Images source: IBM Developer Skills Network*"
   ]
  },
  {
   "cell_type": "markdown",
   "metadata": {},
   "source": [
    "<hr>"
   ]
  },
  {
   "cell_type": "markdown",
   "metadata": {},
   "source": [
    "### Introduction to Pandas in Python"
   ]
  },
  {
   "cell_type": "markdown",
   "metadata": {},
   "source": [
    "#### Pandas: DataFrame and Series \n",
    "\n",
    "**Pandas** is a popular library for data analysis built on top of the Python programming language. Pandas generally provide two data structures for manipulating data, They are: \n",
    " \n",
    "* DataFrame\n",
    "* Series\n",
    "\n",
    "A **DataFrame** is a two-dimensional data structure, i.e., data is aligned in a tabular fashion in rows and columns.\n",
    "\n",
    "* A Pandas DataFrame will be created by loading the datasets from existing storage. \n",
    "* Storage can be SQL Database, CSV file, an Excel file, etc. \n",
    "* It can also be created from the lists, dictionary, and from a list of dictionaries.\n",
    "\n",
    "**Series** represents a one-dimensional array of indexed data.\n",
    "It has two main components :\n",
    "1. An array of actual data.\n",
    "2. An associated array of indexes or data labels.\n",
    "\n",
    "The index is used to access individual data values. You can also get a column of a dataframe as a **Series**. You can think of a Pandas series as a 1-D dataframe. \n"
   ]
  },
  {
   "cell_type": "code",
   "execution_count": null,
   "metadata": {},
   "outputs": [],
   "source": [
    "# Import required library\n",
    "\n",
    "import pandas as pd"
   ]
  },
  {
   "cell_type": "code",
   "execution_count": null,
   "metadata": {},
   "outputs": [],
   "source": [
    "# Define a dictionary 'x'\n",
    "\n",
    "x = {'Name': ['Rose','John', 'Jane', 'Mary'], 'ID': [1, 2, 3, 4], 'Department': ['Architect Group', 'Software Group', 'Design Team', 'Infrastructure'], \n",
    "      'Salary':[100000, 80000, 50000, 60000]}\n",
    "\n",
    "# casting the dictionary to a DataFrame\n",
    "df = pd.DataFrame(x)\n",
    "\n",
    "# display the result df\n",
    "df"
   ]
  },
  {
   "cell_type": "code",
   "execution_count": null,
   "metadata": {},
   "outputs": [],
   "source": [
    "# Dataframe\n",
    "# Retrieving the \"ID\" column and assigning it to a variable x\n",
    "x = df[['Name']]\n",
    "x"
   ]
  },
  {
   "cell_type": "code",
   "execution_count": null,
   "metadata": {},
   "outputs": [],
   "source": [
    "# Serie\n",
    "# Retrieving the \"ID\" column and assigning it to a variable s\n",
    "s = df['Name']\n",
    "s"
   ]
  },
  {
   "cell_type": "markdown",
   "metadata": {},
   "source": [
    "<h5 id=\"dataset\">About the Dataset</h5>"
   ]
  },
  {
   "cell_type": "markdown",
   "metadata": {},
   "source": [
    "The table has one row for each album and several columns.\n",
    "\n",
    "<ul>\n",
    "    <li><b>artist</b>: Name of the artist</li>\n",
    "    <li><b>album</b>: Name of the album</li>\n",
    "    <li><b>released_year</b>: Year the album was released</li>\n",
    "    <li><b>length_min_sec</b>: Length of the album (hours,minutes,seconds)</li>\n",
    "    <li><b>genre</b>: Genre of the album</li>\n",
    "    <li><b>music_recording_sales_millions</b>: Music recording sales (millions in USD)</li>\n",
    "    <li><b>claimed_sales_millions</b>: Album's claimed sales (millions in USD)</li>\n",
    "    <li><b>date_released</b>: Date on which the album was released</li>\n",
    "    <li><b>soundtrack</b>: Indicates if the album is the movie soundtrack (Y) or (N)</li>\n",
    "    <li><b>rating_of_friends</b>: Indicates the rating from your friends from 1 to 10</li>\n",
    "</ul>\n",
    "\n",
    "You can see the dataset here:\n",
    "\n",
    "<font size=\"1\">\n",
    "<table font-size:xx-small>\n",
    "  <tr>\n",
    "    <th>Artist</th>\n",
    "    <th>Album</th> \n",
    "    <th>Released</th>\n",
    "    <th>Length</th>\n",
    "    <th>Genre</th> \n",
    "    <th>Music recording sales (millions)</th>\n",
    "    <th>Claimed sales (millions)</th>\n",
    "    <th>Released</th>\n",
    "    <th>Soundtrack</th>\n",
    "    <th>Rating (friends)</th>\n",
    "  </tr>\n",
    "  <tr>\n",
    "    <td>Michael Jackson</td>\n",
    "    <td>Thriller</td> \n",
    "    <td>1982</td>\n",
    "    <td>00:42:19</td>\n",
    "    <td>Pop, rock, R&B</td>\n",
    "    <td>46</td>\n",
    "    <td>65</td>\n",
    "    <td>30-Nov-82</td>\n",
    "    <td></td>\n",
    "    <td>10.0</td>\n",
    "  </tr>\n",
    "  <tr>\n",
    "    <td>AC/DC</td>\n",
    "    <td>Back in Black</td> \n",
    "    <td>1980</td>\n",
    "    <td>00:42:11</td>\n",
    "    <td>Hard rock</td>\n",
    "    <td>26.1</td>\n",
    "    <td>50</td>\n",
    "    <td>25-Jul-80</td>\n",
    "    <td></td>\n",
    "    <td>8.5</td>\n",
    "  </tr>\n",
    "    <tr>\n",
    "    <td>Pink Floyd</td>\n",
    "    <td>The Dark Side of the Moon</td> \n",
    "    <td>1973</td>\n",
    "    <td>00:42:49</td>\n",
    "    <td>Progressive rock</td>\n",
    "    <td>24.2</td>\n",
    "    <td>45</td>\n",
    "    <td>01-Mar-73</td>\n",
    "    <td></td>\n",
    "    <td>9.5</td>\n",
    "  </tr>\n",
    "    <tr>\n",
    "    <td>Whitney Houston</td>\n",
    "    <td>The Bodyguard</td> \n",
    "    <td>1992</td>\n",
    "    <td>00:57:44</td>\n",
    "    <td>Soundtrack/R&B, soul, pop</td>\n",
    "    <td>26.1</td>\n",
    "    <td>50</td>\n",
    "    <td>25-Jul-80</td>\n",
    "    <td>Y</td>\n",
    "    <td>7.0</td>\n",
    "  </tr>\n",
    "    <tr>\n",
    "    <td>Meat Loaf</td>\n",
    "    <td>Bat Out of Hell</td> \n",
    "    <td>1977</td>\n",
    "    <td>00:46:33</td>\n",
    "    <td>Hard rock, progressive rock</td>\n",
    "    <td>20.6</td>\n",
    "    <td>43</td>\n",
    "    <td>21-Oct-77</td>\n",
    "    <td></td>\n",
    "    <td>7.0</td>\n",
    "  </tr>\n",
    "    <tr>\n",
    "    <td>Eagles</td>\n",
    "    <td>Their Greatest Hits (1971-1975)</td> \n",
    "    <td>1976</td>\n",
    "    <td>00:43:08</td>\n",
    "    <td>Rock, soft rock, folk rock</td>\n",
    "    <td>32.2</td>\n",
    "    <td>42</td>\n",
    "    <td>17-Feb-76</td>\n",
    "    <td></td>\n",
    "    <td>9.5</td>\n",
    "  </tr>\n",
    "    <tr>\n",
    "    <td>Bee Gees</td>\n",
    "    <td>Saturday Night Fever</td> \n",
    "    <td>1977</td>\n",
    "    <td>1:15:54</td>\n",
    "    <td>Disco</td>\n",
    "    <td>20.6</td>\n",
    "    <td>40</td>\n",
    "    <td>15-Nov-77</td>\n",
    "    <td>Y</td>\n",
    "    <td>9.0</td>\n",
    "  </tr>\n",
    "    <tr>\n",
    "    <td>Fleetwood Mac</td>\n",
    "    <td>Rumours</td> \n",
    "    <td>1977</td>\n",
    "    <td>00:40:01</td>\n",
    "    <td>Soft rock</td>\n",
    "    <td>27.9</td>\n",
    "    <td>40</td>\n",
    "    <td>04-Feb-77</td>\n",
    "    <td></td>\n",
    "    <td>9.5</td>\n",
    "  </tr>\n",
    "</table></font>"
   ]
  },
  {
   "cell_type": "code",
   "execution_count": null,
   "metadata": {},
   "outputs": [],
   "source": [
    "# Dependency needed to install file for reading for Excel files\n",
    "\n",
    "# %pip install xlrd\n",
    "# %pip install openpyxl"
   ]
  },
  {
   "cell_type": "code",
   "execution_count": null,
   "metadata": {},
   "outputs": [],
   "source": [
    "# Read data from CSV file\n",
    "\n",
    "csv_path = 'data/TopSellingAlbums.csv'\n",
    "df = pd.read_csv(csv_path)\n",
    "\n",
    "# Print first five rows of the dataframe\n",
    "\n",
    "df.head()"
   ]
  },
  {
   "cell_type": "code",
   "execution_count": null,
   "metadata": {},
   "outputs": [],
   "source": [
    "# Read data from Excel File and print the first five rows\n",
    "\n",
    "xlsx_path = 'data/TopSellingAlbums.xlsx'\n",
    "\n",
    "df = pd.read_excel(xlsx_path)\n",
    "df.head()\n",
    "\n",
    "# Print first three rows of the dataframe\n",
    "\n",
    "df.head(3)"
   ]
  },
  {
   "cell_type": "code",
   "execution_count": null,
   "metadata": {},
   "outputs": [],
   "source": [
    "# Access to the column Length\n",
    "\n",
    "x = df[['Length']]\n",
    "print(x)\n",
    "print(type(x))"
   ]
  },
  {
   "cell_type": "code",
   "execution_count": null,
   "metadata": {},
   "outputs": [],
   "source": [
    "# Get the column as a series\n",
    "\n",
    "x = df['Length']\n",
    "print(x)\n",
    "print(type(x))"
   ]
  },
  {
   "cell_type": "code",
   "execution_count": null,
   "metadata": {},
   "outputs": [],
   "source": [
    "# Access to multiple columns\n",
    "\n",
    "y = df[['Artist','Length','Genre']]\n",
    "y"
   ]
  },
  {
   "cell_type": "markdown",
   "metadata": {},
   "source": [
    "**loc** and **iloc**"
   ]
  },
  {
   "cell_type": "code",
   "execution_count": null,
   "metadata": {},
   "outputs": [],
   "source": [
    "# Access the value on the first row and the first column\n",
    "\n",
    "df.iloc[0, 0]"
   ]
  },
  {
   "cell_type": "code",
   "execution_count": null,
   "metadata": {},
   "outputs": [],
   "source": [
    "# Access the value on the second row and the first column\n",
    "\n",
    "df.iloc[1, 0]"
   ]
  },
  {
   "cell_type": "code",
   "execution_count": null,
   "metadata": {},
   "outputs": [],
   "source": [
    "# Access the value on the second row and the third column\n",
    "\n",
    "df.iloc[1, 2]"
   ]
  },
  {
   "cell_type": "markdown",
   "metadata": {},
   "source": [
    "<img src=\"img/pandas-1.png\" width=\"750\">\n"
   ]
  },
  {
   "cell_type": "code",
   "execution_count": null,
   "metadata": {},
   "outputs": [],
   "source": [
    "# Access the column using the name\n",
    "\n",
    "df.loc[0, 'Artist']"
   ]
  },
  {
   "cell_type": "code",
   "execution_count": null,
   "metadata": {},
   "outputs": [],
   "source": [
    "# Access the column using the name\n",
    "\n",
    "df.loc[1, 'Released']"
   ]
  },
  {
   "cell_type": "markdown",
   "metadata": {},
   "source": [
    "<img src=\"img/pandas-2.png\" width=\"750\">"
   ]
  },
  {
   "cell_type": "code",
   "execution_count": null,
   "metadata": {},
   "outputs": [],
   "source": [
    "# Slicing the dataframe\n",
    "\n",
    "df.iloc[0:2, 0:3]"
   ]
  },
  {
   "cell_type": "markdown",
   "metadata": {},
   "source": [
    "<img src=\"img/pandas-3.png\" width=\"750\">"
   ]
  },
  {
   "cell_type": "code",
   "execution_count": null,
   "metadata": {},
   "outputs": [],
   "source": [
    "# Slicing the dataframe using name\n",
    "\n",
    "df.loc[0:2, 'Artist':'Released']"
   ]
  },
  {
   "cell_type": "markdown",
   "metadata": {},
   "source": [
    "<img src=\"img/pandas-4.png\" width=\"750\">"
   ]
  },
  {
   "cell_type": "code",
   "execution_count": null,
   "metadata": {},
   "outputs": [],
   "source": [
    "# creating new index\n",
    "\n",
    "new_index = ['a', 'b', 'c', 'd', 'e', 'f', 'g', 'h']\n",
    "\n",
    "\n",
    "df_new = df\n",
    "df_new.index = new_index\n",
    "print(df_new.loc['a', 'Artist'], '\\n')\n",
    "print(df_new.loc['a':'d', 'Artist'])\n",
    "df_new"
   ]
  },
  {
   "cell_type": "code",
   "execution_count": null,
   "metadata": {},
   "outputs": [],
   "source": [
    "# changing index\n",
    "\n",
    "df_new = df\n",
    "df_new = df_new.set_index(\"Artist\")\n",
    "df_new"
   ]
  },
  {
   "cell_type": "code",
   "execution_count": null,
   "metadata": {},
   "outputs": [],
   "source": [
    "df_new.loc['Michael Jackson', 'Album']"
   ]
  },
  {
   "cell_type": "markdown",
   "metadata": {},
   "source": [
    "#### Usefull methods in Pandas"
   ]
  },
  {
   "cell_type": "code",
   "execution_count": null,
   "metadata": {},
   "outputs": [],
   "source": [
    "# fisrt rows (default 5)\n",
    "df.head(2)"
   ]
  },
  {
   "cell_type": "code",
   "execution_count": null,
   "metadata": {},
   "outputs": [],
   "source": [
    "# last rows (default 5)\n",
    "df.tail(2)"
   ]
  },
  {
   "cell_type": "code",
   "execution_count": null,
   "metadata": {},
   "outputs": [],
   "source": [
    "df.shape"
   ]
  },
  {
   "cell_type": "markdown",
   "metadata": {},
   "source": [
    "#### Statistical Overview of dataset"
   ]
  },
  {
   "cell_type": "code",
   "execution_count": null,
   "metadata": {},
   "outputs": [],
   "source": [
    "df.info()"
   ]
  },
  {
   "cell_type": "markdown",
   "metadata": {},
   "source": [
    "Pandas **describe()** is used to view some basic statistical details like percentile, mean, standard deviation, etc. of a data frame or a series of numeric values. When this method is applied to a series of strings, it returns a different output"
   ]
  },
  {
   "cell_type": "code",
   "execution_count": null,
   "metadata": {},
   "outputs": [],
   "source": [
    "df.describe()"
   ]
  },
  {
   "cell_type": "markdown",
   "metadata": {},
   "source": [
    "We use Python's built-in functions to identify these missing values. There are two methods to detect missing data:\n",
    "\n",
    "\n",
    "**.isnull()**\n",
    "\n",
    "**.notnull()**\n",
    "\n",
    "The output is a boolean value indicating whether the value that is passed into the argument is in fact missing data."
   ]
  },
  {
   "cell_type": "code",
   "execution_count": null,
   "metadata": {},
   "outputs": [],
   "source": [
    "missing_data = df.isnull()\n",
    "missing_data.head(5)"
   ]
  },
  {
   "cell_type": "code",
   "execution_count": null,
   "metadata": {},
   "outputs": [],
   "source": [
    "# Count missing values in each column\n",
    "\n",
    "for column in missing_data.columns.values.tolist():\n",
    "    print(column)\n",
    "    print(missing_data[column].value_counts())\n",
    "    print(\"\")"
   ]
  },
  {
   "cell_type": "markdown",
   "metadata": {},
   "source": [
    "In Pandas, we use \n",
    "<p><b>.dtype()</b> to check the data type</p>\n",
    "<p><b>.astype()</b> to change the data type</p>"
   ]
  },
  {
   "cell_type": "code",
   "execution_count": null,
   "metadata": {},
   "outputs": [],
   "source": [
    "df.dtypes"
   ]
  },
  {
   "cell_type": "code",
   "execution_count": null,
   "metadata": {},
   "outputs": [],
   "source": [
    "df"
   ]
  },
  {
   "cell_type": "code",
   "execution_count": null,
   "metadata": {},
   "outputs": [],
   "source": [
    "# changing type\n",
    "df[['Rating', 'Music Recording Sales (millions)']] = df[['Rating', 'Music Recording Sales (millions)']].astype('int64')\n",
    "df"
   ]
  },
  {
   "cell_type": "code",
   "execution_count": null,
   "metadata": {},
   "outputs": [],
   "source": [
    "# using dictionary to convert specific columns\n",
    "convert_dict = {'Rating': float,\n",
    "                'Music Recording Sales (millions)': int\n",
    "                }\n",
    " \n",
    "df = df.astype(convert_dict)"
   ]
  },
  {
   "cell_type": "code",
   "execution_count": null,
   "metadata": {},
   "outputs": [],
   "source": [
    "# changing with iloc\n",
    "df.iloc[:, 5] = df.iloc[:, 5].astype('float64')\n",
    "df"
   ]
  },
  {
   "cell_type": "markdown",
   "metadata": {},
   "source": [
    "#### Clean data with Pandas"
   ]
  },
  {
   "cell_type": "markdown",
   "metadata": {},
   "source": [
    "Within pandas, a missing value is denoted by **NaN**. (np.nan, pd.NA)"
   ]
  },
  {
   "cell_type": "code",
   "execution_count": 1,
   "metadata": {},
   "outputs": [
    {
     "name": "stdout",
     "output_type": "stream",
     "text": [
      "Missing value: Artist                              0\n",
      "Album                               0\n",
      "Released                            0\n",
      "Length                              0\n",
      "Genre                               0\n",
      "Music Recording Sales (millions)    0\n",
      "Claimed Sales (millions)            0\n",
      "Released.1                          0\n",
      "Soundtrack                          6\n",
      "Rating                              0\n",
      "dtype: int64\n",
      "            Artist                 Album  Released   Length           Genre  Music Recording Sales (millions)  Claimed Sales (millions) Released.1 Soundtrack  Rating\n",
      "3  Whitney Houston         The Bodyguard      1992  0:57:44  R&B, soul, pop                              27.4                        44  17-Nov-92          Y     8.5\n",
      "6         Bee Gees  Saturday Night Fever      1977  1:15:54           disco                              20.6                        40  15-Nov-77          Y     7.0\n"
     ]
    },
    {
     "data": {
      "text/html": [
       "<div>\n",
       "<style scoped>\n",
       "    .dataframe tbody tr th:only-of-type {\n",
       "        vertical-align: middle;\n",
       "    }\n",
       "\n",
       "    .dataframe tbody tr th {\n",
       "        vertical-align: top;\n",
       "    }\n",
       "\n",
       "    .dataframe thead th {\n",
       "        text-align: right;\n",
       "    }\n",
       "</style>\n",
       "<table border=\"1\" class=\"dataframe\">\n",
       "  <thead>\n",
       "    <tr style=\"text-align: right;\">\n",
       "      <th></th>\n",
       "      <th>Artist</th>\n",
       "      <th>Album</th>\n",
       "      <th>Released</th>\n",
       "      <th>Length</th>\n",
       "      <th>Genre</th>\n",
       "      <th>Music Recording Sales (millions)</th>\n",
       "      <th>Claimed Sales (millions)</th>\n",
       "      <th>Released.1</th>\n",
       "      <th>Soundtrack</th>\n",
       "      <th>Rating</th>\n",
       "    </tr>\n",
       "  </thead>\n",
       "  <tbody>\n",
       "    <tr>\n",
       "      <th>3</th>\n",
       "      <td>Whitney Houston</td>\n",
       "      <td>The Bodyguard</td>\n",
       "      <td>1992</td>\n",
       "      <td>0:57:44</td>\n",
       "      <td>R&amp;B, soul, pop</td>\n",
       "      <td>27.4</td>\n",
       "      <td>44</td>\n",
       "      <td>17-Nov-92</td>\n",
       "      <td>Y</td>\n",
       "      <td>8.5</td>\n",
       "    </tr>\n",
       "    <tr>\n",
       "      <th>6</th>\n",
       "      <td>Bee Gees</td>\n",
       "      <td>Saturday Night Fever</td>\n",
       "      <td>1977</td>\n",
       "      <td>1:15:54</td>\n",
       "      <td>disco</td>\n",
       "      <td>20.6</td>\n",
       "      <td>40</td>\n",
       "      <td>15-Nov-77</td>\n",
       "      <td>Y</td>\n",
       "      <td>7.0</td>\n",
       "    </tr>\n",
       "  </tbody>\n",
       "</table>\n",
       "</div>"
      ],
      "text/plain": [
       "            Artist                 Album  Released   Length           Genre  \\\n",
       "3  Whitney Houston         The Bodyguard      1992  0:57:44  R&B, soul, pop   \n",
       "6         Bee Gees  Saturday Night Fever      1977  1:15:54           disco   \n",
       "\n",
       "   Music Recording Sales (millions)  Claimed Sales (millions) Released.1  \\\n",
       "3                              27.4                        44  17-Nov-92   \n",
       "6                              20.6                        40  15-Nov-77   \n",
       "\n",
       "  Soundtrack  Rating  \n",
       "3          Y     8.5  \n",
       "6          Y     7.0  "
      ]
     },
     "execution_count": 1,
     "metadata": {},
     "output_type": "execute_result"
    }
   ],
   "source": [
    "import pandas as pd\n",
    "\n",
    "df = pd.read_csv('data/TopSellingAlbums.csv')\n",
    "\n",
    "print(f'Missing value: {df.isnull().sum()}')\n",
    "\n",
    "# remove rows with missing value\n",
    "new_df = df.dropna()\n",
    "\n",
    "print(new_df.to_string())  # convert print to matrix\n",
    "\n",
    "new_df"
   ]
  },
  {
   "cell_type": "code",
   "execution_count": null,
   "metadata": {},
   "outputs": [],
   "source": [
    "# using inplace=True\n",
    "import pandas as pd\n",
    "\n",
    "df = pd.read_csv('data/TopSellingAlbums.csv')\n",
    "\n",
    "# remove rows with missing value\n",
    "df.dropna(inplace=True)\n",
    "\n",
    "df"
   ]
  },
  {
   "cell_type": "code",
   "execution_count": null,
   "metadata": {},
   "outputs": [],
   "source": [
    "# replace missing value with 222222\n",
    "import pandas as pd\n",
    "\n",
    "df = pd.read_csv('data/TopSellingAlbums.csv')\n",
    "\n",
    "df.fillna(222222, inplace=True)\n",
    "\n",
    "df"
   ]
  },
  {
   "cell_type": "markdown",
   "metadata": {},
   "source": [
    "#### Basic operations with Pandas"
   ]
  },
  {
   "cell_type": "code",
   "execution_count": null,
   "metadata": {},
   "outputs": [],
   "source": [
    "import pandas as pd\n",
    "\n",
    "df = pd.read_csv('data/TopSellingAlbums.csv')"
   ]
  },
  {
   "cell_type": "code",
   "execution_count": null,
   "metadata": {},
   "outputs": [],
   "source": [
    "# meaning value in column\n",
    "df[['Rating']].mean()"
   ]
  },
  {
   "cell_type": "code",
   "execution_count": null,
   "metadata": {},
   "outputs": [],
   "source": [
    "# standard deviation in column\n",
    "df[['Rating']].std()"
   ]
  },
  {
   "cell_type": "code",
   "execution_count": null,
   "metadata": {},
   "outputs": [],
   "source": [
    "# max value in column\n",
    "df[['Rating']].max()"
   ]
  },
  {
   "cell_type": "code",
   "execution_count": null,
   "metadata": {},
   "outputs": [],
   "source": [
    "# min value in column\n",
    "df[['Rating']].min()"
   ]
  },
  {
   "cell_type": "markdown",
   "metadata": {},
   "source": [
    "#### Trasform dataframe"
   ]
  },
  {
   "cell_type": "code",
   "execution_count": 2,
   "metadata": {},
   "outputs": [
    {
     "data": {
      "text/html": [
       "<div>\n",
       "<style scoped>\n",
       "    .dataframe tbody tr th:only-of-type {\n",
       "        vertical-align: middle;\n",
       "    }\n",
       "\n",
       "    .dataframe tbody tr th {\n",
       "        vertical-align: top;\n",
       "    }\n",
       "\n",
       "    .dataframe thead th {\n",
       "        text-align: right;\n",
       "    }\n",
       "</style>\n",
       "<table border=\"1\" class=\"dataframe\">\n",
       "  <thead>\n",
       "    <tr style=\"text-align: right;\">\n",
       "      <th></th>\n",
       "      <th>a</th>\n",
       "      <th>b</th>\n",
       "      <th>c</th>\n",
       "    </tr>\n",
       "  </thead>\n",
       "  <tbody>\n",
       "    <tr>\n",
       "      <th>0</th>\n",
       "      <td>1</td>\n",
       "      <td>2</td>\n",
       "      <td>3</td>\n",
       "    </tr>\n",
       "    <tr>\n",
       "      <th>1</th>\n",
       "      <td>4</td>\n",
       "      <td>5</td>\n",
       "      <td>6</td>\n",
       "    </tr>\n",
       "    <tr>\n",
       "      <th>2</th>\n",
       "      <td>7</td>\n",
       "      <td>8</td>\n",
       "      <td>9</td>\n",
       "    </tr>\n",
       "  </tbody>\n",
       "</table>\n",
       "</div>"
      ],
      "text/plain": [
       "   a  b  c\n",
       "0  1  2  3\n",
       "1  4  5  6\n",
       "2  7  8  9"
      ]
     },
     "execution_count": 2,
     "metadata": {},
     "output_type": "execute_result"
    }
   ],
   "source": [
    "import pandas as pd\n",
    "import numpy as np\n",
    "\n",
    "# creating a dataframe\n",
    "df = pd.DataFrame(np.array([[1, 2, 3], [4, 5, 6], [7, 8, 9]]), columns=['a', 'b', 'c'])\n",
    "df"
   ]
  },
  {
   "cell_type": "code",
   "execution_count": 3,
   "metadata": {},
   "outputs": [
    {
     "data": {
      "text/html": [
       "<div>\n",
       "<style scoped>\n",
       "    .dataframe tbody tr th:only-of-type {\n",
       "        vertical-align: middle;\n",
       "    }\n",
       "\n",
       "    .dataframe tbody tr th {\n",
       "        vertical-align: top;\n",
       "    }\n",
       "\n",
       "    .dataframe thead th {\n",
       "        text-align: right;\n",
       "    }\n",
       "</style>\n",
       "<table border=\"1\" class=\"dataframe\">\n",
       "  <thead>\n",
       "    <tr style=\"text-align: right;\">\n",
       "      <th></th>\n",
       "      <th>a</th>\n",
       "      <th>b</th>\n",
       "      <th>c</th>\n",
       "    </tr>\n",
       "  </thead>\n",
       "  <tbody>\n",
       "    <tr>\n",
       "      <th>0</th>\n",
       "      <td>11</td>\n",
       "      <td>12</td>\n",
       "      <td>13</td>\n",
       "    </tr>\n",
       "    <tr>\n",
       "      <th>1</th>\n",
       "      <td>14</td>\n",
       "      <td>15</td>\n",
       "      <td>16</td>\n",
       "    </tr>\n",
       "    <tr>\n",
       "      <th>2</th>\n",
       "      <td>17</td>\n",
       "      <td>18</td>\n",
       "      <td>19</td>\n",
       "    </tr>\n",
       "  </tbody>\n",
       "</table>\n",
       "</div>"
      ],
      "text/plain": [
       "    a   b   c\n",
       "0  11  12  13\n",
       "1  14  15  16\n",
       "2  17  18  19"
      ]
     },
     "execution_count": 3,
     "metadata": {},
     "output_type": "execute_result"
    }
   ],
   "source": [
    "# applying the transform function\n",
    "df = df.transform(func = lambda x : x + 10)\n",
    "df"
   ]
  },
  {
   "cell_type": "code",
   "execution_count": 4,
   "metadata": {},
   "outputs": [
    {
     "data": {
      "text/html": [
       "<div>\n",
       "<style scoped>\n",
       "    .dataframe tbody tr th:only-of-type {\n",
       "        vertical-align: middle;\n",
       "    }\n",
       "\n",
       "    .dataframe tbody tr th {\n",
       "        vertical-align: top;\n",
       "    }\n",
       "\n",
       "    .dataframe thead tr th {\n",
       "        text-align: left;\n",
       "    }\n",
       "</style>\n",
       "<table border=\"1\" class=\"dataframe\">\n",
       "  <thead>\n",
       "    <tr>\n",
       "      <th></th>\n",
       "      <th>a</th>\n",
       "      <th>b</th>\n",
       "      <th>c</th>\n",
       "    </tr>\n",
       "    <tr>\n",
       "      <th></th>\n",
       "      <th>sqrt</th>\n",
       "      <th>sqrt</th>\n",
       "      <th>sqrt</th>\n",
       "    </tr>\n",
       "  </thead>\n",
       "  <tbody>\n",
       "    <tr>\n",
       "      <th>0</th>\n",
       "      <td>3.316625</td>\n",
       "      <td>3.464102</td>\n",
       "      <td>3.605551</td>\n",
       "    </tr>\n",
       "    <tr>\n",
       "      <th>1</th>\n",
       "      <td>3.741657</td>\n",
       "      <td>3.872983</td>\n",
       "      <td>4.000000</td>\n",
       "    </tr>\n",
       "    <tr>\n",
       "      <th>2</th>\n",
       "      <td>4.123106</td>\n",
       "      <td>4.242641</td>\n",
       "      <td>4.358899</td>\n",
       "    </tr>\n",
       "  </tbody>\n",
       "</table>\n",
       "</div>"
      ],
      "text/plain": [
       "          a         b         c\n",
       "       sqrt      sqrt      sqrt\n",
       "0  3.316625  3.464102  3.605551\n",
       "1  3.741657  3.872983  4.000000\n",
       "2  4.123106  4.242641  4.358899"
      ]
     },
     "execution_count": 4,
     "metadata": {},
     "output_type": "execute_result"
    }
   ],
   "source": [
    "# function to find the square root to each element of the dataframe.\n",
    "result = df.transform(func = ['sqrt'])\n",
    "result"
   ]
  },
  {
   "cell_type": "code",
   "execution_count": 5,
   "metadata": {},
   "outputs": [
    {
     "data": {
      "text/html": [
       "<div>\n",
       "<style scoped>\n",
       "    .dataframe tbody tr th:only-of-type {\n",
       "        vertical-align: middle;\n",
       "    }\n",
       "\n",
       "    .dataframe tbody tr th {\n",
       "        vertical-align: top;\n",
       "    }\n",
       "\n",
       "    .dataframe thead th {\n",
       "        text-align: right;\n",
       "    }\n",
       "</style>\n",
       "<table border=\"1\" class=\"dataframe\">\n",
       "  <thead>\n",
       "    <tr style=\"text-align: right;\">\n",
       "      <th></th>\n",
       "      <th>a</th>\n",
       "      <th>b</th>\n",
       "      <th>c</th>\n",
       "      <th>d</th>\n",
       "    </tr>\n",
       "  </thead>\n",
       "  <tbody>\n",
       "    <tr>\n",
       "      <th>0</th>\n",
       "      <td>11</td>\n",
       "      <td>12</td>\n",
       "      <td>13</td>\n",
       "      <td>22</td>\n",
       "    </tr>\n",
       "    <tr>\n",
       "      <th>1</th>\n",
       "      <td>14</td>\n",
       "      <td>15</td>\n",
       "      <td>16</td>\n",
       "      <td>28</td>\n",
       "    </tr>\n",
       "    <tr>\n",
       "      <th>2</th>\n",
       "      <td>17</td>\n",
       "      <td>18</td>\n",
       "      <td>19</td>\n",
       "      <td>34</td>\n",
       "    </tr>\n",
       "  </tbody>\n",
       "</table>\n",
       "</div>"
      ],
      "text/plain": [
       "    a   b   c   d\n",
       "0  11  12  13  22\n",
       "1  14  15  16  28\n",
       "2  17  18  19  34"
      ]
     },
     "execution_count": 5,
     "metadata": {},
     "output_type": "execute_result"
    }
   ],
   "source": [
    "# Insert new column\n",
    "df['d'] = df['a'] * 2\n",
    "df"
   ]
  },
  {
   "cell_type": "code",
   "execution_count": 6,
   "metadata": {},
   "outputs": [
    {
     "data": {
      "text/html": [
       "<div>\n",
       "<style scoped>\n",
       "    .dataframe tbody tr th:only-of-type {\n",
       "        vertical-align: middle;\n",
       "    }\n",
       "\n",
       "    .dataframe tbody tr th {\n",
       "        vertical-align: top;\n",
       "    }\n",
       "\n",
       "    .dataframe thead th {\n",
       "        text-align: right;\n",
       "    }\n",
       "</style>\n",
       "<table border=\"1\" class=\"dataframe\">\n",
       "  <thead>\n",
       "    <tr style=\"text-align: right;\">\n",
       "      <th></th>\n",
       "      <th>a</th>\n",
       "      <th>b</th>\n",
       "      <th>c</th>\n",
       "    </tr>\n",
       "  </thead>\n",
       "  <tbody>\n",
       "    <tr>\n",
       "      <th>0</th>\n",
       "      <td>11</td>\n",
       "      <td>12</td>\n",
       "      <td>13</td>\n",
       "    </tr>\n",
       "    <tr>\n",
       "      <th>1</th>\n",
       "      <td>14</td>\n",
       "      <td>15</td>\n",
       "      <td>16</td>\n",
       "    </tr>\n",
       "    <tr>\n",
       "      <th>2</th>\n",
       "      <td>17</td>\n",
       "      <td>18</td>\n",
       "      <td>19</td>\n",
       "    </tr>\n",
       "  </tbody>\n",
       "</table>\n",
       "</div>"
      ],
      "text/plain": [
       "    a   b   c\n",
       "0  11  12  13\n",
       "1  14  15  16\n",
       "2  17  18  19"
      ]
     },
     "execution_count": 6,
     "metadata": {},
     "output_type": "execute_result"
    }
   ],
   "source": [
    "# Remove column name 'd'\n",
    "df = df.drop(['d'], axis=1)\n",
    "df"
   ]
  },
  {
   "cell_type": "markdown",
   "metadata": {},
   "source": [
    "**Creating** and **changing** column in dataframe **by condition:**"
   ]
  },
  {
   "cell_type": "code",
   "execution_count": 10,
   "metadata": {},
   "outputs": [
    {
     "data": {
      "text/html": [
       "<div>\n",
       "<style scoped>\n",
       "    .dataframe tbody tr th:only-of-type {\n",
       "        vertical-align: middle;\n",
       "    }\n",
       "\n",
       "    .dataframe tbody tr th {\n",
       "        vertical-align: top;\n",
       "    }\n",
       "\n",
       "    .dataframe thead th {\n",
       "        text-align: right;\n",
       "    }\n",
       "</style>\n",
       "<table border=\"1\" class=\"dataframe\">\n",
       "  <thead>\n",
       "    <tr style=\"text-align: right;\">\n",
       "      <th></th>\n",
       "      <th>a</th>\n",
       "      <th>b</th>\n",
       "      <th>c</th>\n",
       "      <th>d</th>\n",
       "      <th>e</th>\n",
       "      <th>f</th>\n",
       "    </tr>\n",
       "  </thead>\n",
       "  <tbody>\n",
       "    <tr>\n",
       "      <th>0</th>\n",
       "      <td>11</td>\n",
       "      <td>12</td>\n",
       "      <td>13</td>\n",
       "      <td>0</td>\n",
       "      <td>0</td>\n",
       "      <td>0</td>\n",
       "    </tr>\n",
       "    <tr>\n",
       "      <th>1</th>\n",
       "      <td>14</td>\n",
       "      <td>15</td>\n",
       "      <td>16</td>\n",
       "      <td>1</td>\n",
       "      <td>0</td>\n",
       "      <td>1</td>\n",
       "    </tr>\n",
       "    <tr>\n",
       "      <th>2</th>\n",
       "      <td>17</td>\n",
       "      <td>18</td>\n",
       "      <td>19</td>\n",
       "      <td>1</td>\n",
       "      <td>1</td>\n",
       "      <td>2</td>\n",
       "    </tr>\n",
       "  </tbody>\n",
       "</table>\n",
       "</div>"
      ],
      "text/plain": [
       "    a   b   c  d  e  f\n",
       "0  11  12  13  0  0  0\n",
       "1  14  15  16  1  0  1\n",
       "2  17  18  19  1  1  2"
      ]
     },
     "execution_count": 10,
     "metadata": {},
     "output_type": "execute_result"
    }
   ],
   "source": [
    "# If condition\n",
    "df.loc[df['c'] <= 15, 'd'] = 0\n",
    "df.loc[df['c'] > 15, 'd'] = 1\n",
    "df[['d']] = df[['d']].astype(int)\n",
    "df"
   ]
  },
  {
   "cell_type": "code",
   "execution_count": 11,
   "metadata": {},
   "outputs": [
    {
     "data": {
      "text/html": [
       "<div>\n",
       "<style scoped>\n",
       "    .dataframe tbody tr th:only-of-type {\n",
       "        vertical-align: middle;\n",
       "    }\n",
       "\n",
       "    .dataframe tbody tr th {\n",
       "        vertical-align: top;\n",
       "    }\n",
       "\n",
       "    .dataframe thead th {\n",
       "        text-align: right;\n",
       "    }\n",
       "</style>\n",
       "<table border=\"1\" class=\"dataframe\">\n",
       "  <thead>\n",
       "    <tr style=\"text-align: right;\">\n",
       "      <th></th>\n",
       "      <th>a</th>\n",
       "      <th>b</th>\n",
       "      <th>c</th>\n",
       "      <th>d</th>\n",
       "      <th>e</th>\n",
       "      <th>f</th>\n",
       "    </tr>\n",
       "  </thead>\n",
       "  <tbody>\n",
       "    <tr>\n",
       "      <th>0</th>\n",
       "      <td>11</td>\n",
       "      <td>12</td>\n",
       "      <td>13</td>\n",
       "      <td>0</td>\n",
       "      <td>0</td>\n",
       "      <td>0</td>\n",
       "    </tr>\n",
       "    <tr>\n",
       "      <th>1</th>\n",
       "      <td>14</td>\n",
       "      <td>15</td>\n",
       "      <td>16</td>\n",
       "      <td>1</td>\n",
       "      <td>0</td>\n",
       "      <td>1</td>\n",
       "    </tr>\n",
       "    <tr>\n",
       "      <th>2</th>\n",
       "      <td>17</td>\n",
       "      <td>18</td>\n",
       "      <td>19</td>\n",
       "      <td>1</td>\n",
       "      <td>1</td>\n",
       "      <td>2</td>\n",
       "    </tr>\n",
       "  </tbody>\n",
       "</table>\n",
       "</div>"
      ],
      "text/plain": [
       "    a   b   c  d  e  f\n",
       "0  11  12  13  0  0  0\n",
       "1  14  15  16  1  0  1\n",
       "2  17  18  19  1  1  2"
      ]
     },
     "execution_count": 11,
     "metadata": {},
     "output_type": "execute_result"
    }
   ],
   "source": [
    "# If condition with lambda\n",
    "df['e'] = df['a'].apply(lambda x: 1 if x > 14 else 0)\n",
    "df"
   ]
  },
  {
   "cell_type": "code",
   "execution_count": 12,
   "metadata": {},
   "outputs": [
    {
     "data": {
      "text/html": [
       "<div>\n",
       "<style scoped>\n",
       "    .dataframe tbody tr th:only-of-type {\n",
       "        vertical-align: middle;\n",
       "    }\n",
       "\n",
       "    .dataframe tbody tr th {\n",
       "        vertical-align: top;\n",
       "    }\n",
       "\n",
       "    .dataframe thead th {\n",
       "        text-align: right;\n",
       "    }\n",
       "</style>\n",
       "<table border=\"1\" class=\"dataframe\">\n",
       "  <thead>\n",
       "    <tr style=\"text-align: right;\">\n",
       "      <th></th>\n",
       "      <th>a</th>\n",
       "      <th>b</th>\n",
       "      <th>c</th>\n",
       "      <th>d</th>\n",
       "      <th>e</th>\n",
       "      <th>f</th>\n",
       "    </tr>\n",
       "  </thead>\n",
       "  <tbody>\n",
       "    <tr>\n",
       "      <th>0</th>\n",
       "      <td>11</td>\n",
       "      <td>12</td>\n",
       "      <td>13</td>\n",
       "      <td>0</td>\n",
       "      <td>0</td>\n",
       "      <td>0</td>\n",
       "    </tr>\n",
       "    <tr>\n",
       "      <th>1</th>\n",
       "      <td>14</td>\n",
       "      <td>15</td>\n",
       "      <td>16</td>\n",
       "      <td>1</td>\n",
       "      <td>0</td>\n",
       "      <td>1</td>\n",
       "    </tr>\n",
       "    <tr>\n",
       "      <th>2</th>\n",
       "      <td>17</td>\n",
       "      <td>18</td>\n",
       "      <td>19</td>\n",
       "      <td>1</td>\n",
       "      <td>1</td>\n",
       "      <td>2</td>\n",
       "    </tr>\n",
       "  </tbody>\n",
       "</table>\n",
       "</div>"
      ],
      "text/plain": [
       "    a   b   c  d  e  f\n",
       "0  11  12  13  0  0  0\n",
       "1  14  15  16  1  0  1\n",
       "2  17  18  19  1  1  2"
      ]
     },
     "execution_count": 12,
     "metadata": {},
     "output_type": "execute_result"
    }
   ],
   "source": [
    "# Condition with or/and\n",
    "df.loc[(df['d'] == 0) | (df['e'] == 0), 'f'] = 0\n",
    "df.loc[(df['d'] == 1) | (df['e'] == 1), 'f'] = 1\n",
    "df.loc[(df['d'] != 0) & (df['e'] != 0), 'f'] = 2\n",
    "df[['f']] = df[['f']].astype(int)\n",
    "df"
   ]
  },
  {
   "cell_type": "code",
   "execution_count": 13,
   "metadata": {},
   "outputs": [
    {
     "data": {
      "text/html": [
       "<div>\n",
       "<style scoped>\n",
       "    .dataframe tbody tr th:only-of-type {\n",
       "        vertical-align: middle;\n",
       "    }\n",
       "\n",
       "    .dataframe tbody tr th {\n",
       "        vertical-align: top;\n",
       "    }\n",
       "\n",
       "    .dataframe thead th {\n",
       "        text-align: right;\n",
       "    }\n",
       "</style>\n",
       "<table border=\"1\" class=\"dataframe\">\n",
       "  <thead>\n",
       "    <tr style=\"text-align: right;\">\n",
       "      <th></th>\n",
       "      <th>a</th>\n",
       "      <th>b</th>\n",
       "      <th>c</th>\n",
       "      <th>d</th>\n",
       "      <th>e</th>\n",
       "      <th>f</th>\n",
       "    </tr>\n",
       "  </thead>\n",
       "  <tbody>\n",
       "    <tr>\n",
       "      <th>1</th>\n",
       "      <td>14</td>\n",
       "      <td>15</td>\n",
       "      <td>16</td>\n",
       "      <td>1</td>\n",
       "      <td>0</td>\n",
       "      <td>1</td>\n",
       "    </tr>\n",
       "    <tr>\n",
       "      <th>2</th>\n",
       "      <td>17</td>\n",
       "      <td>18</td>\n",
       "      <td>19</td>\n",
       "      <td>1</td>\n",
       "      <td>1</td>\n",
       "      <td>2</td>\n",
       "    </tr>\n",
       "  </tbody>\n",
       "</table>\n",
       "</div>"
      ],
      "text/plain": [
       "    a   b   c  d  e  f\n",
       "1  14  15  16  1  0  1\n",
       "2  17  18  19  1  1  2"
      ]
     },
     "execution_count": 13,
     "metadata": {},
     "output_type": "execute_result"
    }
   ],
   "source": [
    "# filtering data\n",
    "\n",
    "df[df['d'] == 1]"
   ]
  },
  {
   "cell_type": "code",
   "execution_count": 15,
   "metadata": {},
   "outputs": [
    {
     "data": {
      "text/html": [
       "<div>\n",
       "<style scoped>\n",
       "    .dataframe tbody tr th:only-of-type {\n",
       "        vertical-align: middle;\n",
       "    }\n",
       "\n",
       "    .dataframe tbody tr th {\n",
       "        vertical-align: top;\n",
       "    }\n",
       "\n",
       "    .dataframe thead th {\n",
       "        text-align: right;\n",
       "    }\n",
       "</style>\n",
       "<table border=\"1\" class=\"dataframe\">\n",
       "  <thead>\n",
       "    <tr style=\"text-align: right;\">\n",
       "      <th></th>\n",
       "      <th>a</th>\n",
       "      <th>b</th>\n",
       "      <th>c</th>\n",
       "      <th>d</th>\n",
       "      <th>e</th>\n",
       "      <th>f</th>\n",
       "    </tr>\n",
       "  </thead>\n",
       "  <tbody>\n",
       "    <tr>\n",
       "      <th>0</th>\n",
       "      <td>11</td>\n",
       "      <td>12</td>\n",
       "      <td>13</td>\n",
       "      <td>0</td>\n",
       "      <td>0</td>\n",
       "      <td>0</td>\n",
       "    </tr>\n",
       "    <tr>\n",
       "      <th>1</th>\n",
       "      <td>14</td>\n",
       "      <td>15</td>\n",
       "      <td>16</td>\n",
       "      <td>1</td>\n",
       "      <td>0</td>\n",
       "      <td>1</td>\n",
       "    </tr>\n",
       "  </tbody>\n",
       "</table>\n",
       "</div>"
      ],
      "text/plain": [
       "    a   b   c  d  e  f\n",
       "0  11  12  13  0  0  0\n",
       "1  14  15  16  1  0  1"
      ]
     },
     "execution_count": 15,
     "metadata": {},
     "output_type": "execute_result"
    }
   ],
   "source": [
    "# delete row with index\n",
    "\n",
    "df = df.drop(2)\n",
    "df"
   ]
  },
  {
   "cell_type": "markdown",
   "metadata": {},
   "source": [
    "### Working with different file formats\n",
    "* **csv**\n",
    "* xml\n",
    "* json\n",
    "* xlsx"
   ]
  },
  {
   "cell_type": "markdown",
   "metadata": {},
   "source": [
    "<h5>Read/Save Other Data Formats</h5>\n",
    "\n",
    "| Data Formate  | Read           | Save             |\n",
    "| ------------- |:--------------:| ----------------:|\n",
    "| csv           | `pd.read_csv()`  |`df.to_csv()`     |\n",
    "| json          | `pd.read_json()` |`df.to_json()`    |\n",
    "| excel         | `pd.read_excel()`|`df.to_excel()`   |\n",
    "| hdf           | `pd.read_hdf()`  |`df.to_hdf()`     |\n",
    "| sql           | `pd.read_sql()`  |`df.to_sql()`     |"
   ]
  },
  {
   "cell_type": "code",
   "execution_count": null,
   "metadata": {},
   "outputs": [],
   "source": [
    "# reading and writing to file\n",
    "import pandas as pd\n",
    "\n",
    "df = pd.read_csv('data/TopSellingAlbums.csv')\n",
    "\n",
    "# remove rows with missing value\n",
    "df.dropna(inplace=True)\n",
    "\n",
    "# saving dataframe to file without index\n",
    "df.to_csv(\"data/output.csv\", sep=\";\", index=False, header=None)"
   ]
  }
 ],
 "metadata": {
  "kernelspec": {
   "display_name": "Python 3",
   "language": "python",
   "name": "python3"
  },
  "language_info": {
   "codemirror_mode": {
    "name": "ipython",
    "version": 3
   },
   "file_extension": ".py",
   "mimetype": "text/x-python",
   "name": "python",
   "nbconvert_exporter": "python",
   "pygments_lexer": "ipython3",
   "version": "3.11.2"
  },
  "orig_nbformat": 4
 },
 "nbformat": 4,
 "nbformat_minor": 2
}
