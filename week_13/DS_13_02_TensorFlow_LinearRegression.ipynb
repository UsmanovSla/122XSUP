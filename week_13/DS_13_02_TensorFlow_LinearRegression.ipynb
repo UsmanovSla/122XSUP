{
 "cells": [
  {
   "cell_type": "markdown",
   "metadata": {},
   "source": [
    "# TensorFlow: Linear Regression"
   ]
  },
  {
   "cell_type": "markdown",
   "metadata": {},
   "source": [
    "## Linear Regression\n",
    "\n",
    "The very known equation of a simple linear model is\n",
    "\n",
    "$$Y = a X + b $$\n",
    "\n",
    "Where Y is the dependent variable and X is the independent variable, and **a** and **b** being the parameters we adjust. \n",
    "\n",
    "**a** is known as \"slope\" or \"gradient\" and **b** as \"intercept\"."
   ]
  },
  {
   "cell_type": "code",
   "execution_count": 1,
   "metadata": {
    "collapsed": true
   },
   "outputs": [
    {
     "name": "stdout",
     "output_type": "stream",
     "text": [
      "WARNING:tensorflow:From c:\\Users\\usman\\Desktop\\122XSUP\\week_04\\.my_env_04\\Lib\\site-packages\\keras\\src\\losses.py:2976: The name tf.losses.sparse_softmax_cross_entropy is deprecated. Please use tf.compat.v1.losses.sparse_softmax_cross_entropy instead.\n",
      "\n"
     ]
    }
   ],
   "source": [
    "import numpy as np\n",
    "import tensorflow as tf\n",
    "import matplotlib.patches as mpatches\n",
    "import matplotlib.pyplot as plt\n",
    "%matplotlib inline\n",
    "\n",
    "plt.rcParams['figure.figsize'] = (6,5)"
   ]
  },
  {
   "cell_type": "markdown",
   "metadata": {},
   "source": [
    "### Let's take an example\n",
    "\n",
    "Let's define an independent variable:"
   ]
  },
  {
   "cell_type": "code",
   "execution_count": 2,
   "metadata": {},
   "outputs": [
    {
     "data": {
      "image/png": "[encoded data removed]",
      "text/plain": [
       "<Figure size 600x500 with 1 Axes>"
      ]
     },
     "metadata": {},
     "output_type": "display_data"
    }
   ],
   "source": [
    "X = np.arange(0.0, 5.0, 1.0)\n",
    "\n",
    "a = 1\n",
    "b = 0\n",
    "\n",
    "Y = a*X + b\n",
    "\n",
    "plt.plot(X, Y)\n",
    "plt.ylabel('Dependent Variable')\n",
    "plt.xlabel('Independent Variable')\n",
    "plt.show()"
   ]
  },
  {
   "cell_type": "markdown",
   "metadata": {},
   "source": [
    "A simple example of a linear function can help us understand the basic mechanism behind TensorFlow\n",
    "\n",
    "For the first par we will generate random data points and define a linear relation, we'll use TensorFlow to adjust and get the right parameters."
   ]
  },
  {
   "cell_type": "code",
   "execution_count": 3,
   "metadata": {},
   "outputs": [
    {
     "name": "stdout",
     "output_type": "stream",
     "text": [
      "Sample from X_data: [0.77474934 0.5503023  0.4356595  0.8447642  0.69877106]\n"
     ]
    }
   ],
   "source": [
    "X_data = np.random.rand(100).astype(np.float32)\n",
    "print('Sample from X_data: %s' % X_data[0:5])"
   ]
  },
  {
   "cell_type": "markdown",
   "metadata": {},
   "source": [
    "The equation for the model used in this example is:\n",
    "\n",
    "$$Y = 7 X + 7 $$\n",
    "\n",
    "Just as example, we choose that as our \"generation\" function because we liked it"
   ]
  },
  {
   "cell_type": "code",
   "execution_count": 4,
   "metadata": {},
   "outputs": [
    {
     "name": "stdout",
     "output_type": "stream",
     "text": [
      "Sample from X_data: [12.423245 10.852117 10.049617 12.913349 11.891397]\n"
     ]
    }
   ],
   "source": [
    "y_data = X_data * 7 + 7\n",
    "print('Sample from X_data: %s' % y_data[0:5])"
   ]
  },
  {
   "cell_type": "code",
   "execution_count": 5,
   "metadata": {},
   "outputs": [
    {
     "name": "stdout",
     "output_type": "stream",
     "text": [
      "Sample from y_dat: [12.52191303 10.95123726 10.03717146 12.85691576 11.77513054]\n"
     ]
    }
   ],
   "source": [
    "vectorizer = lambda y: y + np.random.normal(loc=0.0, scale=0.1)\n",
    "\n",
    "'''\n",
    "Define a vectorized function which takes a nested sequence of objects or\n",
    "numpy arrays as inputs and returns an single or tuple of numpy array as\n",
    "output.\n",
    "'''\n",
    "y_data = np.vectorize(vectorizer)(y_data) \n",
    "print('Sample from y_dat: %s' % y_data[0:5])\n",
    "\n",
    "#Summary: Take the data originated with the 'real' function and 'change' it a little"
   ]
  },
  {
   "cell_type": "markdown",
   "metadata": {},
   "source": [
    "Here is a sample of data:"
   ]
  },
  {
   "cell_type": "code",
   "execution_count": 6,
   "metadata": {},
   "outputs": [
    {
     "data": {
      "text/plain": [
       "[(0.77474934, 12.521913029122137),\n",
       " (0.5503023, 10.951237256204209),\n",
       " (0.4356595, 10.037171464937522),\n",
       " (0.8447642, 12.856915755122284),\n",
       " (0.69877106, 11.7751305382266)]"
      ]
     },
     "execution_count": 6,
     "metadata": {},
     "output_type": "execute_result"
    }
   ],
   "source": [
    "list(zip(X_data, y_data))[0:5]"
   ]
  },
  {
   "cell_type": "markdown",
   "metadata": {},
   "source": [
    "First, we initialize the variables \"a\" and \"b\" with some random guesses and define the 'objective' linear function"
   ]
  },
  {
   "cell_type": "code",
   "execution_count": 7,
   "metadata": {
    "collapsed": true
   },
   "outputs": [],
   "source": [
    "# Set model weights\n",
    "\n",
    "W = tf.Variable(1.0, name=\"weight\")\n",
    "b = tf.Variable(0.2, name=\"bias\")"
   ]
  },
  {
   "cell_type": "markdown",
   "metadata": {},
   "source": [
    "In a linear regression, we minimized the squared error of the equation that we want to adjust minus the target values, so we define de equation to be minimized as **cost**\n",
    "\n",
    "To find cost's value, tf.reduce_mean() is used. This function finds the mean of a multidimensional tensor, and the result can have a diferent dimension."
   ]
  },
  {
   "cell_type": "code",
   "execution_count": 8,
   "metadata": {},
   "outputs": [],
   "source": [
    "@tf.function\n",
    "def cost(W, b):\n",
    "    y_pred = W * X_data + b\n",
    "    error = tf.reduce_mean(tf.square(y_data - y_pred))\n",
    "    return error"
   ]
  },
  {
   "cell_type": "markdown",
   "metadata": {},
   "source": [
    "Then we define the optimizer method. Here we will use a simple gradient descent with learning rate of 0.5\n",
    "\n",
    "Now we will define the training method of our graph. \n",
    "\n",
    "We will use the tf.optimizers.SGD()"
   ]
  },
  {
   "cell_type": "markdown",
   "metadata": {},
   "source": [
    "Now we are ready to start the optimization and run the graph"
   ]
  },
  {
   "cell_type": "code",
   "execution_count": 9,
   "metadata": {},
   "outputs": [
    {
     "name": "stdout",
     "output_type": "stream",
     "text": [
      "W 1.00:\n",
      "b 0.20:\n",
      "\n",
      "At step 10:\n",
      "W 6.02:\n",
      "b 7.49:\n",
      "\n",
      "At step 20:\n",
      "W 6.49:\n",
      "b 7.25:\n",
      "\n",
      "At step 30:\n",
      "W 6.74:\n",
      "b 7.12:\n",
      "\n",
      "At step 40:\n",
      "W 6.88:\n",
      "b 7.05:\n",
      "\n",
      "At step 50:\n",
      "W 6.95:\n",
      "b 7.02:\n",
      "\n",
      "At step 60:\n",
      "W 6.99:\n",
      "b 7.00:\n",
      "\n",
      "At step 70:\n",
      "W 7.01:\n",
      "b 6.99:\n",
      "\n",
      "At step 80:\n",
      "W 7.02:\n",
      "b 6.98:\n",
      "\n",
      "At step 90:\n",
      "W 7.02:\n",
      "b 6.98:\n",
      "\n",
      "7.02422857\n",
      "6.97782564\n"
     ]
    }
   ],
   "source": [
    "optimizer = tf.optimizers.SGD(learning_rate=0.5)\n",
    "\n",
    "trainable_vars = [W, b]\n",
    "train_data = []\n",
    "print('W %.2f:' %W)\n",
    "print('b %.2f:\\n' %b)\n",
    "\n",
    "epochs = 100 #(or however many iterations you want it to run)\n",
    "for step in range(epochs):\n",
    "    with tf.GradientTape() as tp:\n",
    "        #your loss/cost function must always be contained within the gradient tape instantiation\n",
    "        cost_fn = cost(W, b)\n",
    "    gradients = tp.gradient(cost_fn, trainable_vars)\n",
    "    optimizer.apply_gradients(zip(gradients, trainable_vars))\n",
    "    \n",
    "       \n",
    "    if (step > 0 and step % 10== 0):\n",
    "        print('At step %d:' %step)\n",
    "        print('W %.2f:' %W)\n",
    "        print('b %.2f:\\n' %b)\n",
    "        \n",
    "    if(step % 10 == 0): #Almacenamos como ha ido yendo la cosa cada x pasos para plotear despues\n",
    "        train_data.append([W, b])     \n",
    "\n",
    "tf.print(W)\n",
    "tf.print(b)"
   ]
  },
  {
   "cell_type": "markdown",
   "metadata": {},
   "source": [
    "Plot the data"
   ]
  },
  {
   "cell_type": "code",
   "execution_count": 10,
   "metadata": {},
   "outputs": [
    {
     "data": {
      "image/png": "[encoded data removed]",
      "text/plain": [
       "<Figure size 600x500 with 1 Axes>"
      ]
     },
     "metadata": {},
     "output_type": "display_data"
    }
   ],
   "source": [
    "cr,cg,cb = (1.0, 1.0, 0.0)\n",
    "\n",
    "for f in train_data: #Iterate over the steps\n",
    "    cb += 1.0 / len(train_data)\n",
    "    cg -= 1.0 / len(train_data)\n",
    "    if(cb > 1.0): cb = 1.0\n",
    "    if(cg < 0.0): cg = 0.0\n",
    "        \n",
    "    [W,b] = f\n",
    "    f_y = np.vectorize(lambda x: W*x + b)(X_data)\n",
    "    line = plt.plot(X_data,f_y)\n",
    "    plt.setp(line,color=(cr,cg,cb))\n",
    "    \n",
    "plt.plot(X_data, y_data,'ro')\n",
    "\n",
    "green_line = mpatches.Patch(color='red',label='Data Points')\n",
    "\n",
    "plt.legend(handles=[green_line])\n",
    "\n",
    "plt.show()"
   ]
  },
  {
   "cell_type": "markdown",
   "metadata": {},
   "source": [
    "# Example: Linear Regression with TensorFlow"
   ]
  },
  {
   "cell_type": "markdown",
   "metadata": {},
   "source": [
    "This exercise is about modelling a linear relationship between \"chirps of a cricket\" and ground temperature. \n",
    "\n",
    "In 1948, G. W. Pierce in his book \"Songs of Insects\" mentioned that we can predict temperature by listening to the freuency of songs(chirps) made by stripped Crickets. He recorded change in behaviour of crickets by recording number of chirps made by them at several \"different temperatures\" and found that there is a pattern in the way crickets respond to the rate of change in ground temperature 60 to 100 degrees of farenhite. He also found out that Crickets did not sing   \n",
    "above or below this temperature.\n",
    "\n",
    "This data is derieved from the above mentioned book and aim is to fit a linear model and predict the \"Best Fit Line\" for the given \"Chirps(per 15 Second)\" in Column 'A' and the corresponding \"Temperatures(Farenhite)\" in Column 'B' using TensorFlow. So that one could easily tell what temperature it is just by listening to the songs of cricket. \n",
    "\n"
   ]
  },
  {
   "cell_type": "markdown",
   "metadata": {},
   "source": [
    "### Let's import tensorFlow and python dependencies "
   ]
  },
  {
   "cell_type": "code",
   "execution_count": 11,
   "metadata": {},
   "outputs": [],
   "source": [
    "import tensorflow as tf\n",
    "import numpy as np\n",
    "import pandas as pd\n",
    "import matplotlib.pyplot as plt"
   ]
  },
  {
   "cell_type": "markdown",
   "metadata": {},
   "source": [
    "### Download and Explore the Data "
   ]
  },
  {
   "cell_type": "code",
   "execution_count": 12,
   "metadata": {},
   "outputs": [
    {
     "data": {
      "text/html": [
       "<div>\n",
       "<style scoped>\n",
       "    .dataframe tbody tr th:only-of-type {\n",
       "        vertical-align: middle;\n",
       "    }\n",
       "\n",
       "    .dataframe tbody tr th {\n",
       "        vertical-align: top;\n",
       "    }\n",
       "\n",
       "    .dataframe thead th {\n",
       "        text-align: right;\n",
       "    }\n",
       "</style>\n",
       "<table border=\"1\" class=\"dataframe\">\n",
       "  <thead>\n",
       "    <tr style=\"text-align: right;\">\n",
       "      <th></th>\n",
       "      <th>Chirps</th>\n",
       "      <th>Temp</th>\n",
       "    </tr>\n",
       "  </thead>\n",
       "  <tbody>\n",
       "    <tr>\n",
       "      <th>0</th>\n",
       "      <td>20.0</td>\n",
       "      <td>88.6</td>\n",
       "    </tr>\n",
       "    <tr>\n",
       "      <th>1</th>\n",
       "      <td>16.0</td>\n",
       "      <td>71.6</td>\n",
       "    </tr>\n",
       "    <tr>\n",
       "      <th>2</th>\n",
       "      <td>19.8</td>\n",
       "      <td>93.3</td>\n",
       "    </tr>\n",
       "    <tr>\n",
       "      <th>3</th>\n",
       "      <td>18.4</td>\n",
       "      <td>84.3</td>\n",
       "    </tr>\n",
       "    <tr>\n",
       "      <th>4</th>\n",
       "      <td>17.1</td>\n",
       "      <td>80.6</td>\n",
       "    </tr>\n",
       "  </tbody>\n",
       "</table>\n",
       "</div>"
      ],
      "text/plain": [
       "   Chirps  Temp\n",
       "0    20.0  88.6\n",
       "1    16.0  71.6\n",
       "2    19.8  93.3\n",
       "3    18.4  84.3\n",
       "4    17.1  80.6"
      ]
     },
     "execution_count": 12,
     "metadata": {},
     "output_type": "execute_result"
    }
   ],
   "source": [
    "df = pd.read_csv(\"data/PierceCricketData.csv\")\n",
    "df.head()"
   ]
  },
  {
   "cell_type": "code",
   "execution_count": 13,
   "metadata": {},
   "outputs": [
    {
     "name": "stdout",
     "output_type": "stream",
     "text": [
      "Number of observations: 15\n"
     ]
    }
   ],
   "source": [
    "numInstances = len(df.index)\n",
    "\n",
    "print('Number of observations: %d' % numInstances)"
   ]
  },
  {
   "cell_type": "code",
   "execution_count": 14,
   "metadata": {},
   "outputs": [
    {
     "data": {
      "text/plain": [
       "Text(0, 0.5, 'Temp in Farenhiet')"
      ]
     },
     "execution_count": 14,
     "metadata": {},
     "output_type": "execute_result"
    },
    {
     "data": {
      "image/png": "[encoded data removed]",
      "text/plain": [
       "<Figure size 600x500 with 1 Axes>"
      ]
     },
     "metadata": {},
     "output_type": "display_data"
    }
   ],
   "source": [
    "%matplotlib inline\n",
    "\n",
    "x_data, y_data = (df[\"Chirps\"].values,df[\"Temp\"].values)\n",
    "x_data = x_data.reshape(x_data.shape[0],1)\n",
    "y_data = y_data.reshape(y_data.shape[0],1)\n",
    "\n",
    "# plots the data points\n",
    "plt.plot(x_data, y_data, 'ro')\n",
    "# label the axis\n",
    "plt.xlabel(\"# Chirps per 15 sec\")\n",
    "plt.ylabel(\"Temp in Farenhiet\")"
   ]
  },
  {
   "cell_type": "markdown",
   "metadata": {},
   "source": [
    "Looking at the scatter plot we can analyse that there is a linear relationship between the data points that connect chirps to the temperature and optimal way to infer this knowledge is by fitting a line that best describes the data. Which follows the linear equation: \n",
    "\n",
    " ####                                          Ypred = W X + b \n",
    "\n",
    "We have to estimate the values of the slope 'W' and the inrtercept 'b' to fit a line where, X is the \"Chirps\" and Ypred is \"Predicted Temperature\" in this case. "
   ]
  },
  {
   "cell_type": "markdown",
   "metadata": {},
   "source": [
    "### Create a Data Flow Graph using TensorFlow \n",
    "\n",
    "Model the above equation by assigning arbitrary values of your choice for slope \"W\" and intercept \"b\" which can predict the temp \"Ypred\" given Chirps \"X\" as input. \n",
    "\n",
    "Also, create a place holder for actual temperature \"Y\" which we will be needing for Optimization to estimate the actual values of slope and intercept."
   ]
  },
  {
   "cell_type": "code",
   "execution_count": 15,
   "metadata": {},
   "outputs": [
    {
     "data": {
      "text/plain": [
       "<tf.Tensor: shape=(15, 1), dtype=float32, numpy=\n",
       "array([[20.1     ],\n",
       "       [16.1     ],\n",
       "       [19.9     ],\n",
       "       [18.5     ],\n",
       "       [17.2     ],\n",
       "       [15.6     ],\n",
       "       [14.8     ],\n",
       "       [17.2     ],\n",
       "       [15.5     ],\n",
       "       [16.300001],\n",
       "       [15.1     ],\n",
       "       [17.300001],\n",
       "       [16.1     ],\n",
       "       [17.1     ],\n",
       "       [14.200001]], dtype=float32)>"
      ]
     },
     "execution_count": 15,
     "metadata": {},
     "output_type": "execute_result"
    }
   ],
   "source": [
    "# Create Variables \n",
    "\n",
    "W = tf.Variable(1.0)\n",
    "b = tf.Variable(0.1)\n",
    "\n",
    "# Model\n",
    "y_pred_ph = x_data*W + b\n",
    "\n",
    "y_pred_ph"
   ]
  },
  {
   "cell_type": "markdown",
   "metadata": {},
   "source": [
    "###  Create and Run a Session to Visualize the Predicted Line from above Graph "
   ]
  },
  {
   "cell_type": "code",
   "execution_count": 16,
   "metadata": {},
   "outputs": [],
   "source": [
    "@tf.function\n",
    "def cost(W, b):\n",
    "    y_pred = W * x_data + b\n",
    "    error = tf.reduce_mean(tf.square(y_data - y_pred))\n",
    "    return error"
   ]
  },
  {
   "cell_type": "code",
   "execution_count": 17,
   "metadata": {},
   "outputs": [
    {
     "name": "stdout",
     "output_type": "stream",
     "text": [
      "W 1.00:\n",
      "b 0.10:\n",
      "\n",
      "At step 10:\n",
      "W 4.77:\n",
      "b 0.33:\n",
      "\n",
      "At step 20:\n",
      "W 4.77:\n",
      "b 0.34:\n",
      "\n",
      "At step 30:\n",
      "W 4.77:\n",
      "b 0.34:\n",
      "\n",
      "At step 40:\n",
      "W 4.77:\n",
      "b 0.35:\n",
      "\n",
      "At step 50:\n",
      "W 4.77:\n",
      "b 0.35:\n",
      "\n",
      "At step 60:\n",
      "W 4.77:\n",
      "b 0.36:\n",
      "\n",
      "At step 70:\n",
      "W 4.77:\n",
      "b 0.36:\n",
      "\n",
      "At step 80:\n",
      "W 4.77:\n",
      "b 0.37:\n",
      "\n",
      "At step 90:\n",
      "W 4.77:\n",
      "b 0.37:\n",
      "\n",
      "4.77003717\n",
      "0.375807285\n"
     ]
    }
   ],
   "source": [
    "optimizer = tf.optimizers.SGD(learning_rate=0.001)\n",
    "\n",
    "trainable_vars = [W, b]\n",
    "train_data = []\n",
    "losses = []\n",
    "print('W %.2f:' %W)\n",
    "print('b %.2f:\\n' %b)\n",
    "\n",
    "epochs = 100 #(or however many iterations you want it to run)\n",
    "for step in range(epochs):\n",
    "    with tf.GradientTape() as tp:\n",
    "        #your loss/cost function must always be contained within the gradient tape instantiation\n",
    "        cost_fn = cost(W, b)\n",
    "    \n",
    "    losses.append(cost_fn)\n",
    "    gradients = tp.gradient(cost_fn, trainable_vars)\n",
    "    optimizer.apply_gradients(zip(gradients, trainable_vars))\n",
    "       \n",
    "    if (step > 0 and step % 10== 0):\n",
    "        print('At step %d:' %step)\n",
    "        print('W %.2f:' %W)\n",
    "        print('b %.2f:\\n' %b)\n",
    "        \n",
    "    if(step % 10 == 0): #Almacenamos como ha ido yendo la cosa cada x pasos para plotear despues\n",
    "        train_data.append([W, b])     \n",
    "\n",
    "tf.print(W)\n",
    "tf.print(b)"
   ]
  },
  {
   "cell_type": "markdown",
   "metadata": {},
   "source": [
    "### Print the predicted function"
   ]
  },
  {
   "cell_type": "code",
   "execution_count": 18,
   "metadata": {},
   "outputs": [
    {
     "data": {
      "text/plain": [
       "Text(0, 0.5, 'Temp in Farenhiet')"
      ]
     },
     "execution_count": 18,
     "metadata": {},
     "output_type": "execute_result"
    },
    {
     "data": {
      "image/png": "[encoded data removed]",
      "text/plain": [
       "<Figure size 600x500 with 1 Axes>"
      ]
     },
     "metadata": {},
     "output_type": "display_data"
    }
   ],
   "source": [
    "# Plot the line\n",
    "\n",
    "%matplotlib inline\n",
    "\n",
    "y_pred = x_data*W + b\n",
    "\n",
    "# plots the data points\n",
    "plt.plot(x_data, y_data , 'ro')\n",
    "plt.plot(x_data, y_pred)\n",
    "# label the axis\n",
    "plt.xlabel(\"# Chirps per 15 sec\")\n",
    "plt.ylabel(\"Temp in Farenhiet\")"
   ]
  },
  {
   "cell_type": "markdown",
   "metadata": {},
   "source": [
    "### Print the loss function"
   ]
  },
  {
   "cell_type": "code",
   "execution_count": 19,
   "metadata": {},
   "outputs": [
    {
     "data": {
      "image/png": "[encoded data removed]",
      "text/plain": [
       "<Figure size 600x500 with 1 Axes>"
      ]
     },
     "metadata": {},
     "output_type": "display_data"
    }
   ],
   "source": [
    "# Your Code Goes Here\n",
    "%matplotlib inline\n",
    "\n",
    "plt.plot(losses)\n",
    "plt.title('Loss over time')\n",
    "plt.ylabel('Loss')\n",
    "plt.xlabel('Epoch')\n",
    "plt.show()\n"
   ]
  }
 ],
 "metadata": {
  "kernelspec": {
   "display_name": "Python 3",
   "language": "python",
   "name": "python3"
  },
  "language_info": {
   "codemirror_mode": {
    "name": "ipython",
    "version": 3
   },
   "file_extension": ".py",
   "mimetype": "text/x-python",
   "name": "python",
   "nbconvert_exporter": "python",
   "pygments_lexer": "ipython3",
   "version": "3.11.2"
  }
 },
 "nbformat": 4,
 "nbformat_minor": 2
}
