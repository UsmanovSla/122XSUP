{
 "cells": [
  {
   "cell_type": "markdown",
   "metadata": {},
   "source": [
    "# TensorFlow: Logistic Regression"
   ]
  },
  {
   "cell_type": "markdown",
   "metadata": {},
   "source": [
    "## Importing Modules"
   ]
  },
  {
   "cell_type": "code",
   "execution_count": 1,
   "metadata": {},
   "outputs": [
    {
     "name": "stdout",
     "output_type": "stream",
     "text": [
      "WARNING:tensorflow:From c:\\Users\\usman\\Desktop\\122XSUP\\week_04\\.my_env_04\\Lib\\site-packages\\keras\\src\\losses.py:2976: The name tf.losses.sparse_softmax_cross_entropy is deprecated. Please use tf.compat.v1.losses.sparse_softmax_cross_entropy instead.\n",
      "\n"
     ]
    }
   ],
   "source": [
    "import tensorflow as tf\n",
    "import numpy as np"
   ]
  },
  {
   "cell_type": "markdown",
   "metadata": {},
   "source": [
    "## Loading and Preparing the MNIST Data Set"
   ]
  },
  {
   "cell_type": "markdown",
   "metadata": {},
   "source": [
    "MNIST data is a collection of hand-written digits that contains 60,000 examples for training and 10,000 examples for testing."
   ]
  },
  {
   "cell_type": "code",
   "execution_count": 2,
   "metadata": {},
   "outputs": [],
   "source": [
    "from tensorflow.keras.datasets import mnist\n",
    "\n",
    "(x_train, y_train), (x_test, y_test) = mnist.load_data()\n",
    "\n",
    "# Convert to float32.\n",
    "x_train, x_test = np.array(x_train, np.float32), np.array(x_test, np.float32)\n",
    "\n",
    "# Flatten images to 1-D vector of 784 features (28*28).\n",
    "num_features = 28*28\n",
    "\n",
    "x_train, x_test = x_train.reshape([-1, num_features]), x_test.reshape([-1, num_features])\n",
    "\n",
    "# Normalize images value from [0, 255] to [0, 1].\n",
    "x_train, x_test = x_train / 255., x_test / 255."
   ]
  },
  {
   "cell_type": "code",
   "execution_count": 3,
   "metadata": {},
   "outputs": [
    {
     "data": {
      "text/plain": [
       "(60000, 784)"
      ]
     },
     "execution_count": 3,
     "metadata": {},
     "output_type": "execute_result"
    }
   ],
   "source": [
    "x_train.shape"
   ]
  },
  {
   "cell_type": "code",
   "execution_count": 4,
   "metadata": {},
   "outputs": [
    {
     "data": {
      "text/plain": [
       "(10000, 784)"
      ]
     },
     "execution_count": 4,
     "metadata": {},
     "output_type": "execute_result"
    }
   ],
   "source": [
    "x_test.shape"
   ]
  },
  {
   "cell_type": "markdown",
   "metadata": {},
   "source": [
    "## Setting Parameters"
   ]
  },
  {
   "cell_type": "code",
   "execution_count": 5,
   "metadata": {},
   "outputs": [],
   "source": [
    "# MNIST dataset parameters\n",
    "num_classes = 10 # 0 to 9 digits\n",
    "\n",
    "# Training parameters\n",
    "learning_rate = 0.01\n",
    "training_steps = 10000\n",
    "batch_size = 256\n",
    "display_step = 100"
   ]
  },
  {
   "cell_type": "markdown",
   "metadata": {},
   "source": [
    "## Shuffling and Batching Data"
   ]
  },
  {
   "cell_type": "code",
   "execution_count": 6,
   "metadata": {},
   "outputs": [],
   "source": [
    "# Use tf.data API to shuffle and batch data.\n",
    "train_data = tf.data.Dataset.from_tensor_slices((x_train, y_train))\n",
    "\n",
    "train_data = train_data.repeat().shuffle(5000).batch(batch_size).prefetch(1)"
   ]
  },
  {
   "cell_type": "markdown",
   "metadata": {},
   "source": [
    "## Initializing Weights and Biases"
   ]
  },
  {
   "cell_type": "code",
   "execution_count": 7,
   "metadata": {},
   "outputs": [],
   "source": [
    "# Weight of shape [784, 10], the 28*28 image features, and a total number of classes.\n",
    "W = tf.Variable(tf.ones([num_features, num_classes]), name=\"weight\")\n",
    "\n",
    "# Bias of shape [10], the total number of classes.\n",
    "b = tf.Variable(tf.zeros([num_classes]), name=\"bias\")"
   ]
  },
  {
   "cell_type": "markdown",
   "metadata": {},
   "source": [
    "## Cost Function"
   ]
  },
  {
   "cell_type": "markdown",
   "metadata": {},
   "source": [
    "A cost function calculates the error between actual and predicted values."
   ]
  },
  {
   "cell_type": "code",
   "execution_count": 8,
   "metadata": {},
   "outputs": [],
   "source": [
    "# Logistic regression (Wx + b).\n",
    "def logistic_regression(x):\n",
    "    # Apply softmax to normalize the logits to a probability distribution.\n",
    "    return tf.nn.softmax(tf.matmul(x, W) + b)\n",
    "\n",
    "\n",
    "# Cross-Entropy loss function.\n",
    "def cross_entropy(y_pred, y_true):\n",
    "    # Encode label to a one hot vector.\n",
    "    y_true = tf.one_hot(y_true, depth=num_classes)\n",
    "\n",
    "    # Clip prediction values to avoid log(0) error.\n",
    "    y_pred = tf.clip_by_value(y_pred, 1e-9, 1.)\n",
    "\n",
    "    # Compute cross-entropy.\n",
    "    return tf.reduce_mean(-tf.reduce_sum(y_true * tf.math.log(y_pred)))"
   ]
  },
  {
   "cell_type": "markdown",
   "metadata": {},
   "source": [
    "## Optimizers and Accuracy Metrics"
   ]
  },
  {
   "cell_type": "code",
   "execution_count": 9,
   "metadata": {},
   "outputs": [],
   "source": [
    "# Accuracy metric.\n",
    "def accuracy(y_pred, y_true):\n",
    "# Predicted class is the index of the highest score in prediction vector (i.e. argmax).\n",
    "    correct_prediction = tf.equal(tf.argmax(y_pred, 1), tf.cast(y_true, tf.int64))\n",
    "    return tf.reduce_mean(tf.cast(correct_prediction, tf.float32))\n",
    "\n",
    "# Stochastic gradient descent optimizer.\n",
    "optimizer = tf.optimizers.SGD(learning_rate)"
   ]
  },
  {
   "cell_type": "markdown",
   "metadata": {},
   "source": [
    "## Updating Weights and Biases"
   ]
  },
  {
   "cell_type": "code",
   "execution_count": 10,
   "metadata": {},
   "outputs": [],
   "source": [
    "# Optimization process. \n",
    "def run_optimization(x, y):\n",
    "# Wrap computation inside a GradientTape for automatic differentiation.\n",
    "    with tf.GradientTape() as g:\n",
    "\n",
    "        pred = logistic_regression(x)\n",
    "\n",
    "        loss = cross_entropy(pred, y)\n",
    "\n",
    "    # Compute gradients.\n",
    "    gradients = g.gradient(loss, [W, b])\n",
    "\n",
    "    # Update W and b following gradients.\n",
    "    optimizer.apply_gradients(zip(gradients, [W, b]))"
   ]
  },
  {
   "cell_type": "markdown",
   "metadata": {},
   "source": [
    "## Training"
   ]
  },
  {
   "cell_type": "code",
   "execution_count": 11,
   "metadata": {},
   "outputs": [
    {
     "name": "stdout",
     "output_type": "stream",
     "text": [
      "step: 100, loss: 519.167969, accuracy: 0.863281\n",
      "step: 200, loss: 738.987244, accuracy: 0.804688\n",
      "step: 300, loss: 530.781494, accuracy: 0.835938\n",
      "step: 400, loss: 517.976379, accuracy: 0.855469\n",
      "step: 500, loss: 39.550777, accuracy: 0.960938\n",
      "step: 600, loss: 74.677307, accuracy: 0.917969\n",
      "step: 700, loss: 59.396957, accuracy: 0.925781\n",
      "step: 800, loss: 56.650833, accuracy: 0.929688\n",
      "step: 900, loss: 47.108589, accuracy: 0.937500\n",
      "step: 1000, loss: 59.829865, accuracy: 0.898438\n",
      "step: 1100, loss: 73.249832, accuracy: 0.917969\n",
      "step: 1200, loss: 54.066582, accuracy: 0.925781\n",
      "step: 1300, loss: 378.722137, accuracy: 0.730469\n",
      "step: 1400, loss: 33.758072, accuracy: 0.960938\n",
      "step: 1500, loss: 99.390778, accuracy: 0.910156\n",
      "step: 1600, loss: 47.263832, accuracy: 0.957031\n",
      "step: 1700, loss: 62.820263, accuracy: 0.925781\n",
      "step: 1800, loss: 76.750786, accuracy: 0.910156\n",
      "step: 1900, loss: 99.906105, accuracy: 0.906250\n",
      "step: 2000, loss: 131.545486, accuracy: 0.867188\n",
      "step: 2100, loss: 69.679062, accuracy: 0.957031\n",
      "step: 2200, loss: 149.866867, accuracy: 0.839844\n",
      "step: 2300, loss: 63.193508, accuracy: 0.957031\n",
      "step: 2400, loss: 56.321507, accuracy: 0.945312\n",
      "step: 2500, loss: 141.967651, accuracy: 0.859375\n",
      "step: 2600, loss: 44.506176, accuracy: 0.945312\n",
      "step: 2700, loss: 98.537491, accuracy: 0.878906\n",
      "step: 2800, loss: 92.184769, accuracy: 0.898438\n",
      "step: 2900, loss: 70.893158, accuracy: 0.925781\n",
      "step: 3000, loss: 44.597225, accuracy: 0.937500\n",
      "step: 3100, loss: 109.266769, accuracy: 0.867188\n",
      "step: 3200, loss: 64.444809, accuracy: 0.917969\n",
      "step: 3300, loss: 64.019531, accuracy: 0.933594\n",
      "step: 3400, loss: 21.011196, accuracy: 0.980469\n",
      "step: 3500, loss: 43.763210, accuracy: 0.945312\n",
      "step: 3600, loss: 49.691734, accuracy: 0.937500\n",
      "step: 3700, loss: 54.411938, accuracy: 0.957031\n",
      "step: 3800, loss: 140.466553, accuracy: 0.839844\n",
      "step: 3900, loss: 66.219337, accuracy: 0.929688\n",
      "step: 4000, loss: 60.465553, accuracy: 0.945312\n",
      "step: 4100, loss: 28.243481, accuracy: 0.964844\n",
      "step: 4200, loss: 46.447128, accuracy: 0.945312\n",
      "step: 4300, loss: 72.573410, accuracy: 0.941406\n",
      "step: 4400, loss: 57.921661, accuracy: 0.941406\n",
      "step: 4500, loss: 213.589233, accuracy: 0.824219\n",
      "step: 4600, loss: 119.883591, accuracy: 0.914062\n",
      "step: 4700, loss: 33.718895, accuracy: 0.957031\n",
      "step: 4800, loss: 45.291691, accuracy: 0.953125\n",
      "step: 4900, loss: 66.976685, accuracy: 0.929688\n",
      "step: 5000, loss: 53.967720, accuracy: 0.941406\n",
      "step: 5100, loss: 70.702225, accuracy: 0.933594\n",
      "step: 5200, loss: 47.217731, accuracy: 0.949219\n",
      "step: 5300, loss: 79.993134, accuracy: 0.921875\n",
      "step: 5400, loss: 73.312088, accuracy: 0.906250\n",
      "step: 5500, loss: 51.419785, accuracy: 0.929688\n",
      "step: 5600, loss: 145.346466, accuracy: 0.875000\n",
      "step: 5700, loss: 28.241488, accuracy: 0.968750\n",
      "step: 5800, loss: 57.995182, accuracy: 0.906250\n",
      "step: 5900, loss: 71.153183, accuracy: 0.906250\n",
      "step: 6000, loss: 69.062286, accuracy: 0.921875\n",
      "step: 6100, loss: 59.619186, accuracy: 0.914062\n",
      "step: 6200, loss: 34.507637, accuracy: 0.949219\n",
      "step: 6300, loss: 77.766556, accuracy: 0.945312\n",
      "step: 6400, loss: 64.101334, accuracy: 0.925781\n",
      "step: 6500, loss: 69.730270, accuracy: 0.941406\n",
      "step: 6600, loss: 82.327942, accuracy: 0.937500\n",
      "step: 6700, loss: 47.126232, accuracy: 0.949219\n",
      "step: 6800, loss: 64.519089, accuracy: 0.953125\n",
      "step: 6900, loss: 90.856285, accuracy: 0.898438\n",
      "step: 7000, loss: 48.045639, accuracy: 0.945312\n",
      "step: 7100, loss: 33.866531, accuracy: 0.941406\n",
      "step: 7200, loss: 61.432022, accuracy: 0.945312\n",
      "step: 7300, loss: 49.274719, accuracy: 0.960938\n",
      "step: 7400, loss: 417.244049, accuracy: 0.824219\n",
      "step: 7500, loss: 49.439537, accuracy: 0.953125\n",
      "step: 7600, loss: 60.833328, accuracy: 0.933594\n",
      "step: 7700, loss: 86.422104, accuracy: 0.906250\n",
      "step: 7800, loss: 41.415504, accuracy: 0.953125\n",
      "step: 7900, loss: 58.367096, accuracy: 0.933594\n",
      "step: 8000, loss: 34.321167, accuracy: 0.949219\n",
      "step: 8100, loss: 58.179939, accuracy: 0.929688\n",
      "step: 8200, loss: 32.810871, accuracy: 0.957031\n",
      "step: 8300, loss: 81.332016, accuracy: 0.910156\n",
      "step: 8400, loss: 80.751488, accuracy: 0.921875\n",
      "step: 8500, loss: 106.832993, accuracy: 0.914062\n",
      "step: 8600, loss: 40.951416, accuracy: 0.945312\n",
      "step: 8700, loss: 65.585785, accuracy: 0.910156\n",
      "step: 8800, loss: 75.933571, accuracy: 0.914062\n",
      "step: 8900, loss: 78.839577, accuracy: 0.914062\n",
      "step: 9000, loss: 58.441551, accuracy: 0.937500\n",
      "step: 9100, loss: 75.797920, accuracy: 0.914062\n",
      "step: 9200, loss: 72.750526, accuracy: 0.914062\n",
      "step: 9300, loss: 61.035515, accuracy: 0.941406\n",
      "step: 9400, loss: 42.616257, accuracy: 0.945312\n",
      "step: 9500, loss: 72.111092, accuracy: 0.941406\n",
      "step: 9600, loss: 56.236523, accuracy: 0.937500\n",
      "step: 9700, loss: 76.354080, accuracy: 0.937500\n",
      "step: 9800, loss: 98.822952, accuracy: 0.914062\n",
      "step: 9900, loss: 35.381634, accuracy: 0.960938\n",
      "step: 10000, loss: 38.291855, accuracy: 0.957031\n"
     ]
    }
   ],
   "source": [
    "# Run training for the given number of steps.\n",
    "for step, (batch_x, batch_y) in enumerate(train_data.take(training_steps), 1):\n",
    "\n",
    "    # Run the optimization to update W and b values.\n",
    "    run_optimization(batch_x, batch_y)\n",
    "\n",
    "    if step % display_step == 0:\n",
    "        pred = logistic_regression(batch_x)\n",
    "        loss = cross_entropy(pred, batch_y)\n",
    "        acc = accuracy(pred, batch_y)\n",
    "        print(\"step: %i, loss: %f, accuracy: %f\" % (step, loss, acc))"
   ]
  },
  {
   "cell_type": "markdown",
   "metadata": {},
   "source": [
    "## Model Accuracy"
   ]
  },
  {
   "cell_type": "code",
   "execution_count": 12,
   "metadata": {},
   "outputs": [
    {
     "name": "stdout",
     "output_type": "stream",
     "text": [
      "Test Accuracy: 0.904300\n"
     ]
    }
   ],
   "source": [
    "# Test model on validation set.\n",
    "pred = logistic_regression(x_test)\n",
    "\n",
    "print(\"Test Accuracy: %f\" % accuracy(pred, y_test))"
   ]
  },
  {
   "cell_type": "markdown",
   "metadata": {},
   "source": [
    "## Aplication model"
   ]
  },
  {
   "cell_type": "code",
   "execution_count": 13,
   "metadata": {},
   "outputs": [],
   "source": [
    "import matplotlib.pyplot as plt"
   ]
  },
  {
   "cell_type": "code",
   "execution_count": 14,
   "metadata": {},
   "outputs": [
    {
     "name": "stdout",
     "output_type": "stream",
     "text": [
      "0: 0.0111 %\n",
      "1: 0.1403 %\n",
      "2: 57.9664 %\n",
      "3: 37.1922 %\n",
      "4: 0.0002 %\n",
      "5: 0.0541 %\n",
      "6: 0.0521 %\n",
      "7: 0.0001 %\n",
      "8: 4.5832 %\n",
      "9: 0.0002 %\n"
     ]
    },
    {
     "data": {
      "image/png": "[encoded data removed]",
      "text/plain": [
       "<Figure size 640x480 with 1 Axes>"
      ]
     },
     "metadata": {},
     "output_type": "display_data"
    }
   ],
   "source": [
    "my_image = plt.imread('img/my/number1.jpg', format='jpeg')\n",
    "plt.imshow(my_image)\n",
    "\n",
    "# flatten images into one-dimensional vector\n",
    "num_pixels = my_image.shape[0] * my_image.shape[1] # find size of one-dimensional vector\n",
    "\n",
    "# Grayscale + Unit RGB\n",
    "gray = lambda rgb : np.dot(rgb[... , :3] , [0.299 , 0.587, 0.114]) \n",
    "\n",
    "test_image = np.array([gray(my_image)])\n",
    "\n",
    "plt.imshow(test_image[0])\n",
    "\n",
    "# flatten images into one-dimensional vector\n",
    "test_image = test_image.reshape(test_image.shape[0], num_pixels).astype('float32')\n",
    "test_image = test_image / 255\n",
    "\n",
    "# Predict\n",
    "result = logistic_regression(test_image)\n",
    "\n",
    "for i, v in enumerate(result[0]):\n",
    "    print(f'{i}: {v*100:.4f} %')\n",
    "\n",
    "# Result image\n",
    "image = np.reshape(my_image, (-1, 1))\n",
    "plt.imshow(test_image.reshape(28, 28), cmap='gray')\n",
    "plt.title(f'The number is: {tf.math.argmax(result, 1)}')\n",
    "plt.show()"
   ]
  }
 ],
 "metadata": {
  "kernelspec": {
   "display_name": "Python 3",
   "language": "python",
   "name": "python3"
  },
  "language_info": {
   "codemirror_mode": {
    "name": "ipython",
    "version": 3
   },
   "file_extension": ".py",
   "mimetype": "text/x-python",
   "name": "python",
   "nbconvert_exporter": "python",
   "pygments_lexer": "ipython3",
   "version": "3.11.2"
  }
 },
 "nbformat": 4,
 "nbformat_minor": 2
}
