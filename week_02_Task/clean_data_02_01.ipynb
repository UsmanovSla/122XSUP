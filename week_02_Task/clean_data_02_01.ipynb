{
 "cells": [
  {
   "cell_type": "markdown",
   "metadata": {},
   "source": [
    "### Task 02_01 Week 02:"
   ]
  },
  {
   "cell_type": "markdown",
   "metadata": {},
   "source": [
    "##### 01. Read data from file"
   ]
  },
  {
   "cell_type": "code",
   "execution_count": 59,
   "metadata": {},
   "outputs": [
    {
     "data": {
      "text/plain": [
       "['2022-01-12 17:08:17;B;24.0;0,92',\n",
       " '2022-02-13 17:56:55;D;18.5;0.24',\n",
       " '2022-05-14 00:14:39;A;27.1;-0.49',\n",
       " '2022-04-02 08:02:29;B;25.4;0.02',\n",
       " '2022-01-22 20:26:29;F;23.8;0.03',\n",
       " '2022-08-29 16:05:35;A;20.1;0.13',\n",
       " '2022-02-16 04:30:11;D;18.5;0.61',\n",
       " '2022-09-25 10:51:01;B;28.1;0.83',\n",
       " '2022-10-09 00:18:12;A;26.3;0.78',\n",
       " '2022-07-13 08:34:14;C;23.3;-0.21']"
      ]
     },
     "execution_count": 59,
     "metadata": {},
     "output_type": "execute_result"
    }
   ],
   "source": [
    "with open('experiment_02_01.csv', 'r') as f:\n",
    "    lines = [line.rstrip() for line in f]\n",
    "\n",
    "lines[:10]"
   ]
  },
  {
   "cell_type": "markdown",
   "metadata": {},
   "source": [
    "##### 02. Clean data"
   ]
  },
  {
   "cell_type": "code",
   "execution_count": 60,
   "metadata": {},
   "outputs": [],
   "source": [
    "# check data\n",
    "def check_data(value, min_value, max_value):\n",
    "\n",
    "    # checking for null\n",
    "    if value == '':\n",
    "        return False\n",
    "    \n",
    "    # replace symbols\n",
    "    value = str(value).replace(',', '.')\n",
    "    \n",
    "    \n",
    "    # convert to float type\n",
    "    try:\n",
    "        value = float(value)\n",
    "    except:\n",
    "        return False\n",
    "    \n",
    "    # check range\n",
    "    if value >= min_value and value <= max_value:\n",
    "        return value\n",
    "    \n",
    "    return False"
   ]
  },
  {
   "cell_type": "code",
   "execution_count": 61,
   "metadata": {},
   "outputs": [],
   "source": [
    "#  limitation of experiment\n",
    "# date\n",
    "data_begin = datetime.strptime('2022-01-01 00:00:00', '%Y-%m-%d %H:%M:%S')\n",
    "data_end = datetime.strptime('2022-01-31 23:59:59', '%Y-%m-%d %H:%M:%S')\n",
    "\n",
    "data_begin_second = (data_begin - datetime(1970, 1, 1)).total_seconds()\n",
    "data_end_second = (data_end - datetime(1970, 1, 1)).total_seconds()\n",
    "\n",
    "# sources\n",
    "sources = ['A', 'B', 'C', 'D']\n",
    "\n",
    "# temperature\n",
    "min_tempr = -10\n",
    "max_tempr = 30\n",
    "\n",
    "# deformation\n",
    "min_deform = -100\n",
    "max_deform = 100"
   ]
  },
  {
   "cell_type": "code",
   "execution_count": 62,
   "metadata": {},
   "outputs": [
    {
     "name": "stdout",
     "output_type": "stream",
     "text": [
      "[[1642007297, 'B', 24.0, 0.92], [1642979867, 'A', 15.4, -0.13], [1641718144, 'A', 29.7, 0.43], [1641496106, 'C', 26.3, 0.95], [1642204542, 'A', 17.5, -0.09], [1642192924, 'A', 19.8, -0.13], [1641690605, 'D', 15.0, 0.72], [1643186933, 'D', 21.9, 0.71], [1643329537, 'C', 22.2, 0.96], [1641365510, 'C', 23.1, -0.29]]\n"
     ]
    }
   ],
   "source": [
    "# import packege for datetime\n",
    "from datetime import datetime\n",
    "\n",
    "final_output = []\n",
    "\n",
    "#  parsing data from csv, clean data and check data for range\n",
    "for line in lines:\n",
    "    output = [n for n in line.split(';')]\n",
    "    \n",
    "   \n",
    "    # date\n",
    "    data_value = datetime.strptime(output[0], '%Y-%m-%d %H:%M:%S')\n",
    "    data_value = (data_value - datetime(1970, 1, 1)).total_seconds()\n",
    "\n",
    "    if (data_value := check_data(data_value, data_begin_second, data_end_second)) == False:\n",
    "        continue\n",
    "    output[0] = int(data_value)\n",
    "\n",
    "\n",
    "    # sources\n",
    "    if output[1] not in sources:\n",
    "        continue\n",
    "\n",
    "\n",
    "    # temperature\n",
    "    data_value = output[2]\n",
    "    \n",
    "    if (data_value := check_data(data_value, min_tempr, max_tempr)) == False:\n",
    "        continue\n",
    "    output[2] = data_value\n",
    "\n",
    "\n",
    "    # deformation\n",
    "    data_value = output[3]\n",
    "    \n",
    "    if (data_value := check_data(data_value, min_deform, max_deform)) == False:\n",
    "        continue\n",
    "    output[3] = data_value\n",
    "\n",
    "\n",
    "    final_output.append(output)\n",
    "\n",
    "print(final_output[:10])"
   ]
  },
  {
   "cell_type": "markdown",
   "metadata": {},
   "source": [
    "##### Write data to file"
   ]
  },
  {
   "cell_type": "code",
   "execution_count": 52,
   "metadata": {},
   "outputs": [],
   "source": [
    "with open('final_data_02_01.csv', 'w') as f:\n",
    "    for n in final_output:\n",
    "        f.write(f'{n}\\n')"
   ]
  }
 ],
 "metadata": {
  "kernelspec": {
   "display_name": ".my_env_02",
   "language": "python",
   "name": "python3"
  },
  "language_info": {
   "codemirror_mode": {
    "name": "ipython",
    "version": 3
   },
   "file_extension": ".py",
   "mimetype": "text/x-python",
   "name": "python",
   "nbconvert_exporter": "python",
   "pygments_lexer": "ipython3",
   "version": "3.11.2"
  },
  "orig_nbformat": 4
 },
 "nbformat": 4,
 "nbformat_minor": 2
}
