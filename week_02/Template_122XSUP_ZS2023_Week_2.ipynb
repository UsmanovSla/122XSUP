{
 "cells": [
  {
   "cell_type": "markdown",
   "metadata": {},
   "source": [
    "### 122XSUP - Strojové učení a umělá inteligence v prostředí Python"
   ]
  },
  {
   "cell_type": "markdown",
   "metadata": {},
   "source": [
    "<h5 style='color:orange'><em>Week 2: Python: funkce, soubory, parametry. List, Tuple, Set, Dictionary. String. Nested. Generator. Deepcopy.</em></h5>"
   ]
  },
  {
   "cell_type": "markdown",
   "metadata": {},
   "source": [
    "#### Few usefull commands"
   ]
  },
  {
   "cell_type": "code",
   "execution_count": null,
   "metadata": {},
   "outputs": [],
   "source": [
    "#  help\n",
    "\n"
   ]
  },
  {
   "cell_type": "code",
   "execution_count": null,
   "metadata": {},
   "outputs": [],
   "source": [
    "# dir - list of methodes\n",
    "\n"
   ]
  },
  {
   "cell_type": "code",
   "execution_count": null,
   "metadata": {},
   "outputs": [],
   "source": [
    "# uniq id of object\n",
    "a = 5\n",
    "\n"
   ]
  },
  {
   "cell_type": "code",
   "execution_count": null,
   "metadata": {},
   "outputs": [],
   "source": [
    "# clear variable\n",
    "b = 'Hello'\n",
    "print(b)\n",
    "\n"
   ]
  },
  {
   "cell_type": "markdown",
   "metadata": {},
   "source": [
    "#### Local and Global Variables"
   ]
  },
  {
   "cell_type": "code",
   "execution_count": null,
   "metadata": {},
   "outputs": [],
   "source": [
    "# Global variable\n"
   ]
  },
  {
   "cell_type": "code",
   "execution_count": null,
   "metadata": {},
   "outputs": [],
   "source": [
    "# Global variable\n",
    "\n"
   ]
  },
  {
   "cell_type": "markdown",
   "metadata": {},
   "source": [
    "#### Function"
   ]
  },
  {
   "cell_type": "markdown",
   "metadata": {},
   "source": [
    "* def function():\n",
    "* input parameters\n",
    "* output parameters / return\n",
    "* args and kwargs"
   ]
  },
  {
   "cell_type": "code",
   "execution_count": null,
   "metadata": {},
   "outputs": [],
   "source": [
    "# Void function without arguments\n"
   ]
  },
  {
   "cell_type": "code",
   "execution_count": null,
   "metadata": {},
   "outputs": [],
   "source": [
    "# Function with two arguments\n"
   ]
  },
  {
   "cell_type": "code",
   "execution_count": null,
   "metadata": {},
   "outputs": [],
   "source": [
    "# Function with two arguments\n"
   ]
  },
  {
   "cell_type": "code",
   "execution_count": null,
   "metadata": {},
   "outputs": [],
   "source": [
    "# Function with two arguments and one optional argument\n"
   ]
  },
  {
   "cell_type": "code",
   "execution_count": null,
   "metadata": {},
   "outputs": [],
   "source": [
    "# Function with two arguments and one optional argument\n"
   ]
  },
  {
   "cell_type": "code",
   "execution_count": null,
   "metadata": {},
   "outputs": [],
   "source": [
    "# Function with two arguments and one optional argument\n"
   ]
  },
  {
   "cell_type": "markdown",
   "metadata": {},
   "source": [
    "#### File: opening, reading and writing"
   ]
  },
  {
   "cell_type": "code",
   "execution_count": null,
   "metadata": {},
   "outputs": [],
   "source": [
    "'''\n",
    "r  - read\n",
    "w  - write (existing file will be erased)\n",
    "a  - append\n",
    "r+ - read and write\n",
    "b  - binary format\n",
    "'''\n"
   ]
  },
  {
   "cell_type": "code",
   "execution_count": null,
   "metadata": {},
   "outputs": [],
   "source": [
    "#  good practice (donnt need close file)\n"
   ]
  },
  {
   "cell_type": "code",
   "execution_count": null,
   "metadata": {},
   "outputs": [],
   "source": [
    "#  read by lines from file\n"
   ]
  },
  {
   "cell_type": "code",
   "execution_count": null,
   "metadata": {},
   "outputs": [],
   "source": [
    "# Reading from file to list\n"
   ]
  },
  {
   "cell_type": "code",
   "execution_count": null,
   "metadata": {},
   "outputs": [],
   "source": [
    "# Reading from file to list\n"
   ]
  },
  {
   "cell_type": "code",
   "execution_count": null,
   "metadata": {},
   "outputs": [],
   "source": [
    "#  creating directory\n",
    "\n",
    "#  writing to file\n"
   ]
  },
  {
   "cell_type": "markdown",
   "metadata": {},
   "source": [
    "#### Advance data types"
   ]
  },
  {
   "cell_type": "markdown",
   "metadata": {},
   "source": [
    "##### List\n",
    "* Ordered <span style='color:orange'>(*have a defined order, and that order will not change*)</span>\n",
    "* Mutable or **Changeable** <span style='color:orange'>(*we can change, add, and remove items in a list after it has been created*)</span>\n",
    "* Allow duplicate values <span style='color:orange'>(*lists can have items with the same value*)</span>\n",
    "* Indexed <span style='color:orange'>(*the first item has index [0], the second item has index [1] etc.*)</span>"
   ]
  },
  {
   "cell_type": "code",
   "execution_count": null,
   "metadata": {},
   "outputs": [],
   "source": []
  },
  {
   "cell_type": "code",
   "execution_count": null,
   "metadata": {},
   "outputs": [],
   "source": []
  },
  {
   "cell_type": "code",
   "execution_count": null,
   "metadata": {},
   "outputs": [],
   "source": [
    "# Slicing\n"
   ]
  },
  {
   "cell_type": "code",
   "execution_count": null,
   "metadata": {},
   "outputs": [],
   "source": [
    "# chek if item is in list\n"
   ]
  },
  {
   "cell_type": "code",
   "execution_count": null,
   "metadata": {},
   "outputs": [],
   "source": [
    "# Initialization new list\n",
    "\n",
    "\n",
    "# Add item to list\n"
   ]
  },
  {
   "cell_type": "code",
   "execution_count": null,
   "metadata": {},
   "outputs": [],
   "source": [
    "# Changing list\n"
   ]
  },
  {
   "cell_type": "code",
   "execution_count": null,
   "metadata": {},
   "outputs": [],
   "source": [
    "# changing range of items\n"
   ]
  },
  {
   "cell_type": "code",
   "execution_count": null,
   "metadata": {},
   "outputs": [],
   "source": [
    "# insert item on position\n"
   ]
  },
  {
   "cell_type": "code",
   "execution_count": null,
   "metadata": {},
   "outputs": [],
   "source": [
    "# join list\n"
   ]
  },
  {
   "cell_type": "code",
   "execution_count": null,
   "metadata": {},
   "outputs": [],
   "source": [
    "# Loop list\n"
   ]
  },
  {
   "cell_type": "code",
   "execution_count": null,
   "metadata": {},
   "outputs": [],
   "source": [
    "# Loop list\n"
   ]
  },
  {
   "cell_type": "code",
   "execution_count": null,
   "metadata": {},
   "outputs": [],
   "source": [
    "#  loop list with key and value\n"
   ]
  },
  {
   "cell_type": "code",
   "execution_count": null,
   "metadata": {},
   "outputs": [],
   "source": [
    "# List comprehensive\n"
   ]
  },
  {
   "cell_type": "code",
   "execution_count": null,
   "metadata": {},
   "outputs": [],
   "source": [
    "# List comprehensive with condition if\n"
   ]
  },
  {
   "cell_type": "code",
   "execution_count": null,
   "metadata": {},
   "outputs": [],
   "source": [
    "# List comprehensive with condition if / else\n"
   ]
  },
  {
   "cell_type": "markdown",
   "metadata": {},
   "source": [
    "**<span style=\"color:yellow\">Homework: </span>**\n",
    "\n",
    "Study others list methods:\n",
    "* extend\n",
    "* pop\n",
    "* remove\n",
    "* clear\n",
    "* sort\n",
    "* copy\n",
    "* count\n",
    "* index\n",
    "* reverse\n",
    "\n",
    "Source: https://www.w3schools.com/python/python_lists_methods.asp"
   ]
  },
  {
   "cell_type": "markdown",
   "metadata": {},
   "source": [
    "##### Tuples (used to store multiple items in a single variable)\n",
    "* Ordered <span style='color:orange'>(*have a defined order, and that order will not change*)</span>\n",
    "* Immutable or **Unchangeable** <span style='color:orange'>(*we can not change or add or remove items in tuple after it has been created*)</span>\n",
    "* Allow duplicate values <span style='color:orange'>(*tuples can have items with the same value*)</span>\n",
    "* Indexed <span style='color:orange'>(*the first item has index [0], the second item has index [1] etc.*)</span>"
   ]
  },
  {
   "cell_type": "code",
   "execution_count": null,
   "metadata": {},
   "outputs": [],
   "source": []
  },
  {
   "cell_type": "code",
   "execution_count": null,
   "metadata": {},
   "outputs": [],
   "source": [
    "# Error when we try to change item\n"
   ]
  },
  {
   "cell_type": "code",
   "execution_count": null,
   "metadata": {},
   "outputs": [],
   "source": []
  },
  {
   "cell_type": "code",
   "execution_count": null,
   "metadata": {},
   "outputs": [],
   "source": []
  },
  {
   "cell_type": "code",
   "execution_count": null,
   "metadata": {},
   "outputs": [],
   "source": [
    "# Access to tuple (same as list)\n"
   ]
  },
  {
   "cell_type": "code",
   "execution_count": null,
   "metadata": {},
   "outputs": [],
   "source": [
    "# chek if item is in tuple\n"
   ]
  },
  {
   "cell_type": "code",
   "execution_count": null,
   "metadata": {},
   "outputs": [],
   "source": [
    "#  how to change unchanable tuple or remove/add item\n"
   ]
  },
  {
   "cell_type": "code",
   "execution_count": null,
   "metadata": {},
   "outputs": [],
   "source": [
    "#  loop through tuple (same way as list)\n"
   ]
  },
  {
   "cell_type": "code",
   "execution_count": null,
   "metadata": {},
   "outputs": [],
   "source": [
    "#  loop through tuple (same way as list)\n"
   ]
  },
  {
   "cell_type": "code",
   "execution_count": null,
   "metadata": {},
   "outputs": [],
   "source": [
    "# Unpack tuple\n"
   ]
  },
  {
   "cell_type": "markdown",
   "metadata": {},
   "source": [
    "**<span style=\"color:yellow\">Homework: </span>**\n",
    "\n",
    "Study others tuple methods:\n",
    "* count\n",
    "* index\n",
    "\n",
    "Source: https://www.w3schools.com/python/python_tuples_methods.asp"
   ]
  },
  {
   "cell_type": "code",
   "execution_count": null,
   "metadata": {},
   "outputs": [],
   "source": []
  },
  {
   "cell_type": "markdown",
   "metadata": {},
   "source": [
    "##### Set (used to store multiple items in a single variable)\n",
    "* Unordered <span style='color:orange'>(*items in a set do not have a defined order.*)</span>\n",
    "* Immutable or **Unchangeable** <span style='color:orange'>(*we can not change items in set after it has been created*)</span>\n",
    "* Duplicates Not Allowed <span style='color:orange'>(*sets cannot have two items with the same value.*)</span>\n",
    "* Unindexed"
   ]
  },
  {
   "cell_type": "code",
   "execution_count": null,
   "metadata": {},
   "outputs": [],
   "source": []
  },
  {
   "cell_type": "code",
   "execution_count": null,
   "metadata": {},
   "outputs": [],
   "source": [
    "# True = 1 = 1.0 as one item in set\n"
   ]
  },
  {
   "cell_type": "code",
   "execution_count": null,
   "metadata": {},
   "outputs": [],
   "source": [
    "# chek if item is in set\n"
   ]
  },
  {
   "cell_type": "code",
   "execution_count": null,
   "metadata": {},
   "outputs": [],
   "source": []
  },
  {
   "cell_type": "code",
   "execution_count": null,
   "metadata": {},
   "outputs": [],
   "source": [
    "#  adding/removing items\n",
    " "
   ]
  },
  {
   "cell_type": "markdown",
   "metadata": {},
   "source": [
    "**<span style=\"color:yellow\">Homework: </span>**\n",
    "\n",
    "Study others set methods:\n",
    "* clear\n",
    "* copy\n",
    "* union / difference / intersection / update* \n",
    "\n",
    "Source: https://www.w3schools.com/python/python_sets_methods.asp"
   ]
  },
  {
   "cell_type": "markdown",
   "metadata": {},
   "source": [
    "##### Dictionary (used to store data values in key:value pairs)\n",
    "* Ordered <span style='color:orange'>(*have a defined order, and that order will not change after v.3.7*)</span>\n",
    "* Mutable or **Changeable** <span style='color:orange'>(*we can change, add, and remove items in a dictionary after it has been created*)</span>\n",
    "* Duplicates **Not Allowed** <span style='color:orange'>(*dictionaries cannot have two items with the same key*)</span>"
   ]
  },
  {
   "cell_type": "code",
   "execution_count": null,
   "metadata": {},
   "outputs": [],
   "source": []
  },
  {
   "cell_type": "code",
   "execution_count": null,
   "metadata": {},
   "outputs": [],
   "source": []
  },
  {
   "cell_type": "code",
   "execution_count": null,
   "metadata": {},
   "outputs": [],
   "source": [
    "#  access to dictionary\n"
   ]
  },
  {
   "cell_type": "code",
   "execution_count": null,
   "metadata": {},
   "outputs": [],
   "source": [
    "#  if key doesnt exist, use get\n"
   ]
  },
  {
   "cell_type": "code",
   "execution_count": null,
   "metadata": {},
   "outputs": [],
   "source": []
  },
  {
   "cell_type": "code",
   "execution_count": null,
   "metadata": {},
   "outputs": [],
   "source": [
    "my_dict = dict(name=\"Petr\", adress=\"Praha\", age=18)\n",
    "\n",
    "# chek if item is in dictionary\n"
   ]
  },
  {
   "cell_type": "code",
   "execution_count": null,
   "metadata": {},
   "outputs": [],
   "source": [
    "#  changing dictionary\n"
   ]
  },
  {
   "cell_type": "code",
   "execution_count": null,
   "metadata": {},
   "outputs": [],
   "source": [
    "#  changing dictionary\n"
   ]
  },
  {
   "cell_type": "code",
   "execution_count": null,
   "metadata": {},
   "outputs": [],
   "source": [
    "#  adding items\n"
   ]
  },
  {
   "cell_type": "code",
   "execution_count": null,
   "metadata": {},
   "outputs": [],
   "source": [
    "#  looping through dictionary\n"
   ]
  },
  {
   "cell_type": "markdown",
   "metadata": {},
   "source": [
    "**<span style=\"color:yellow\">Homework: </span>**\n",
    "\n",
    "Study others dictionary methods:\n",
    "* clear\n",
    "* copy\n",
    "* fromkeys\n",
    "* pop\n",
    "* popitem  \n",
    "\n",
    "Source: https://www.w3schools.com/python/python_dictionaries_methods.asp"
   ]
  },
  {
   "cell_type": "markdown",
   "metadata": {},
   "source": [
    "##### String"
   ]
  },
  {
   "cell_type": "code",
   "execution_count": null,
   "metadata": {},
   "outputs": [],
   "source": [
    "# change 'Hello world!' to 'HEAAO'\n",
    "\n",
    "my_str = \"Hello world!\"\n",
    "\n",
    "# changing string step by step in one row\n"
   ]
  },
  {
   "cell_type": "code",
   "execution_count": null,
   "metadata": {},
   "outputs": [],
   "source": [
    "# change symbol in string in position with slicing\n",
    "my_str = \"Hello world!\"\n",
    "\n",
    "# slicing\n"
   ]
  },
  {
   "cell_type": "code",
   "execution_count": null,
   "metadata": {},
   "outputs": [],
   "source": [
    "# change symbol in string in position with slicing\n",
    "my_str = \"Hello world!\"\n",
    "\n"
   ]
  },
  {
   "cell_type": "code",
   "execution_count": null,
   "metadata": {},
   "outputs": [],
   "source": [
    "# chr and ord\n"
   ]
  },
  {
   "cell_type": "code",
   "execution_count": null,
   "metadata": {},
   "outputs": [],
   "source": [
    "# using join in string\n"
   ]
  },
  {
   "cell_type": "markdown",
   "metadata": {},
   "source": [
    "#### Nested list/dictionary or multidimensional array"
   ]
  },
  {
   "cell_type": "code",
   "execution_count": null,
   "metadata": {},
   "outputs": [],
   "source": []
  },
  {
   "cell_type": "code",
   "execution_count": null,
   "metadata": {},
   "outputs": [],
   "source": [
    "# first place in second item\n"
   ]
  },
  {
   "cell_type": "markdown",
   "metadata": {},
   "source": [
    "#### Copy and deepcopy"
   ]
  },
  {
   "cell_type": "code",
   "execution_count": null,
   "metadata": {},
   "outputs": [],
   "source": [
    "# Assignment statements do not copy objects, they create bindings between a target and an object\n"
   ]
  },
  {
   "cell_type": "code",
   "execution_count": null,
   "metadata": {},
   "outputs": [],
   "source": []
  },
  {
   "cell_type": "code",
   "execution_count": null,
   "metadata": {},
   "outputs": [],
   "source": []
  },
  {
   "cell_type": "code",
   "execution_count": null,
   "metadata": {},
   "outputs": [],
   "source": [
    "# shallow copy with copy()\n"
   ]
  },
  {
   "cell_type": "code",
   "execution_count": null,
   "metadata": {},
   "outputs": [],
   "source": []
  },
  {
   "cell_type": "code",
   "execution_count": null,
   "metadata": {},
   "outputs": [],
   "source": []
  },
  {
   "cell_type": "code",
   "execution_count": null,
   "metadata": {},
   "outputs": [],
   "source": [
    "#  package for copy\n",
    "\n",
    "# deep copy with deepcopy()\n"
   ]
  },
  {
   "cell_type": "code",
   "execution_count": null,
   "metadata": {},
   "outputs": [],
   "source": []
  },
  {
   "cell_type": "markdown",
   "metadata": {},
   "source": [
    "##### Generator"
   ]
  },
  {
   "cell_type": "code",
   "execution_count": null,
   "metadata": {},
   "outputs": [],
   "source": [
    "# generator function that yields 1 for first time, 2 second time and 3 third time\n",
    "   \n",
    "# Driver code to check above generator function\n"
   ]
  },
  {
   "cell_type": "code",
   "execution_count": null,
   "metadata": {},
   "outputs": [],
   "source": [
    "# generator expression\n"
   ]
  },
  {
   "cell_type": "markdown",
   "metadata": {},
   "source": [
    "#### Example 1 with file\n",
    "\n",
    "* Read data from file 'Input/data.txt'. In each row must be an integer number.\n",
    "* Check data (type integer), remove non integer data\n",
    "* Write to file only integer data\n",
    "* print message about removed data"
   ]
  },
  {
   "cell_type": "code",
   "execution_count": null,
   "metadata": {},
   "outputs": [],
   "source": [
    "# Reading data from file to list\n",
    "name_file_input = 'Input/data.txt'\n",
    "\n",
    "with open(name_file_input, 'r', encoding=\"utf-8\") as f:\n",
    "    raw_data = list(f)\n",
    "\n",
    "print(f'File {name_file} has {len(raw_data)} rows')\n",
    "if len(raw_data) > 0:\n",
    "    print(f'First 5 values from file {name_file}: {raw_data[:5]}')"
   ]
  },
  {
   "cell_type": "code",
   "execution_count": null,
   "metadata": {},
   "outputs": [],
   "source": [
    "# Clearing and checking data\n",
    "error_file = 0\n",
    "clean_data = []\n",
    "\n",
    "for n in raw_data:\n",
    "    try:\n",
    "        clean_data.append(float(n))\n",
    "    except:\n",
    "        error_file += 1\n",
    "\n",
    "print(f'Data from file: {clean_data}')\n",
    "print(f'Errors in file: {error_file}')"
   ]
  },
  {
   "cell_type": "code",
   "execution_count": null,
   "metadata": {},
   "outputs": [],
   "source": [
    "#  converting data to int\n",
    "import math\n",
    "\n",
    "output_data = []\n",
    "\n",
    "print(f'Raw data: {clean_data[:10]}')\n",
    "\n",
    "for key, value in enumerate(clean_data):\n",
    "    value = math.ceil(value)  # round  up\n",
    "\n",
    "    # value = math.floor(value)  # round down\n",
    "\n",
    "    # value = round(value)  # round\n",
    "\n",
    "    # value = round(value, 2)  # round to 2 decimal\n",
    "    \n",
    "    output_data.append(value)\n",
    "\n",
    "print(f'Output data: {output_data[:10]}')"
   ]
  },
  {
   "cell_type": "code",
   "execution_count": null,
   "metadata": {},
   "outputs": [],
   "source": [
    "#  writing output data to file\n",
    "name_file_output = 'Output/data.txt'\n",
    "\n",
    "with open(name_file_output, 'w', encoding=\"utf-8\") as f:\n",
    "    for n in output_data:\n",
    "        f.write(f'{n}\\n')\n",
    "\n",
    "print(f'Clean data was saved to file: {name_file_output}')\n",
    "print(f'Errors in file ({error_file}) were removed.')"
   ]
  },
  {
   "cell_type": "markdown",
   "metadata": {},
   "source": [
    "#### Example 2 with file\n",
    "\n",
    "* Open file 'Input/data_2.csv' for reading\n",
    "* Read data in format csv (separator ;). \n",
    "* Check data format:\n",
    "    * name: string\n",
    "    * age: int (18-99)\n",
    "    * adres: string\n",
    "    * profit: float (-1 000 000  -- 1 000 000)\n",
    "* Remove blank data or data with errors\n",
    "* Clean data (change wrong symboles, remove whitespace symbols)\n",
    "* Open 'Output/data_2.txt' for writing\n",
    "* Write output data as list of dictionary\n",
    "* Print message about convertion"
   ]
  },
  {
   "cell_type": "code",
   "execution_count": null,
   "metadata": {},
   "outputs": [],
   "source": [
    "# Reading data from file\n",
    "file_name_input = 'Input/data_2.csv'\n",
    "with open(file_name_input, 'r', encoding=\"utf-8\") as f:\n",
    "    lines = [line.rstrip() for line in f]  # remove ending string from data\n",
    "\n",
    "print(f'\"{len(lines)} rows were reading from file {file_name_input}\"')\n",
    "lines[:5]"
   ]
  },
  {
   "cell_type": "code",
   "execution_count": null,
   "metadata": {},
   "outputs": [],
   "source": [
    "# Parsing data\n",
    "parsing_data = []\n",
    "\n",
    "for line in lines:\n",
    "    line_data = line.split(';')\n",
    "    parsing_data.append(line_data)\n",
    "\n",
    "parsing_data"
   ]
  },
  {
   "cell_type": "code",
   "execution_count": null,
   "metadata": {},
   "outputs": [],
   "source": [
    "# user function for cleaning\n",
    "def cleaning_data(input_value, input_type, min_value=None, max_value=None):\n",
    "\n",
    "    input_value = input_value.strip()\n",
    "\n",
    "    # clearing int and float value\n",
    "    if input_type == int or input_type == float:\n",
    "        input_value = input_value.replace(',', '.')\n",
    "        try: \n",
    "            input_value = input_type(input_value)\n",
    "        except:\n",
    "            return False\n",
    "        \n",
    "        if min_value:\n",
    "            if input_value < min_value:\n",
    "                return False\n",
    "        \n",
    "        if max_value:\n",
    "            if input_value > max_value:\n",
    "                return False\n",
    "                \n",
    "        \n",
    "        return input_value\n",
    "        \n",
    "    # clearing string value\n",
    "    if input_type == str:\n",
    "        if any(i.isdigit() for i in input_value):\n",
    "            return False\n",
    "        return input_value.title()\n",
    "    \n",
    "    return False"
   ]
  },
  {
   "cell_type": "code",
   "execution_count": null,
   "metadata": {},
   "outputs": [],
   "source": [
    "#  cleaning data\n",
    "number_of_errors = 0\n",
    "output_list = []\n",
    "output_structure = ['Name', 'Age', 'Adress', 'Profit']\n",
    "id_number = 0\n",
    "\n",
    "for line in parsing_data:\n",
    "\n",
    "    error_in_line = 0\n",
    "    output_dict_line = {}\n",
    "    for key, value in enumerate(line):\n",
    "\n",
    "        if key == 0:\n",
    "            #  name\n",
    "            clean_value = cleaning_data(value, str)\n",
    "        elif key == 1:\n",
    "            #  age\n",
    "            clean_value = cleaning_data(value, int, 18, 99)\n",
    "        elif key == 2:\n",
    "            #  adress\n",
    "            clean_value = cleaning_data(value, str)\n",
    "        elif key == 3:\n",
    "            #  profit\n",
    "            clean_value = cleaning_data(value, float, -1_000_000, 1_000_000)\n",
    "        else:\n",
    "            clean_value = False\n",
    "\n",
    "        if clean_value == False:\n",
    "            error_in_line = 1\n",
    "            break\n",
    "\n",
    "        output_dict_line[output_structure[key]] = clean_value\n",
    "    \n",
    "    if error_in_line == 0:\n",
    "        id_number += 1\n",
    "        output_list.append(output_dict_line)\n",
    "    else:\n",
    "        number_of_errors += 1\n",
    "        \n",
    "print(f'File has {number_of_errors} errors')\n",
    "print(f'{len(output_list)} rows were converted')\n",
    "output_list[:10]"
   ]
  },
  {
   "cell_type": "code",
   "execution_count": null,
   "metadata": {},
   "outputs": [],
   "source": [
    "# Writing clean data ad dictionary to file\n",
    "file_name_output = 'Output/data_2.txt'\n",
    "with open(file_name_output, 'w', encoding=\"utf-8\") as f:\n",
    "    for line in output_list:\n",
    "        f.write(str(line) + '\\n')\n",
    "\n",
    "print(f'\"{len(output_list)} rows were writing to file {file_name_output}\"')"
   ]
  }
 ],
 "metadata": {
  "kernelspec": {
   "display_name": "Python 3",
   "language": "python",
   "name": "python3"
  },
  "language_info": {
   "codemirror_mode": {
    "name": "ipython",
    "version": 3
   },
   "file_extension": ".py",
   "mimetype": "text/x-python",
   "name": "python",
   "nbconvert_exporter": "python",
   "pygments_lexer": "ipython3",
   "version": "3.11.2"
  },
  "orig_nbformat": 4
 },
 "nbformat": 4,
 "nbformat_minor": 2
}
