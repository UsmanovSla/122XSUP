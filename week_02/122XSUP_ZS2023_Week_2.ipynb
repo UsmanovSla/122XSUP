{
 "cells": [
  {
   "cell_type": "markdown",
   "metadata": {},
   "source": [
    "### 122XSUP - Strojové učení a umělá inteligence v prostředí Python"
   ]
  },
  {
   "cell_type": "markdown",
   "metadata": {},
   "source": [
    "<h5 style='color:orange'><em>Week 2: Python: funkce, soubory, parametry. List, Tuple, Set, Dictionary. String. Nested. Generator. Deepcopy.</em></h5>"
   ]
  },
  {
   "cell_type": "markdown",
   "metadata": {},
   "source": [
    "#### Few usefull commands"
   ]
  },
  {
   "cell_type": "code",
   "execution_count": 1,
   "metadata": {},
   "outputs": [
    {
     "name": "stdout",
     "output_type": "stream",
     "text": [
      "Help on built-in function print in module builtins:\n",
      "\n",
      "print(*args, sep=' ', end='\\n', file=None, flush=False)\n",
      "    Prints the values to a stream, or to sys.stdout by default.\n",
      "    \n",
      "    sep\n",
      "      string inserted between values, default a space.\n",
      "    end\n",
      "      string appended after the last value, default a newline.\n",
      "    file\n",
      "      a file-like object (stream); defaults to the current sys.stdout.\n",
      "    flush\n",
      "      whether to forcibly flush the stream.\n",
      "\n"
     ]
    }
   ],
   "source": [
    "#  help\n",
    "\n",
    "help(print)"
   ]
  },
  {
   "cell_type": "code",
   "execution_count": 2,
   "metadata": {},
   "outputs": [
    {
     "data": {
      "text/plain": [
       "['__call__',\n",
       " '__class__',\n",
       " '__delattr__',\n",
       " '__dir__',\n",
       " '__doc__',\n",
       " '__eq__',\n",
       " '__format__',\n",
       " '__ge__',\n",
       " '__getattribute__',\n",
       " '__getstate__',\n",
       " '__gt__',\n",
       " '__hash__',\n",
       " '__init__',\n",
       " '__init_subclass__',\n",
       " '__le__',\n",
       " '__lt__',\n",
       " '__module__',\n",
       " '__name__',\n",
       " '__ne__',\n",
       " '__new__',\n",
       " '__qualname__',\n",
       " '__reduce__',\n",
       " '__reduce_ex__',\n",
       " '__repr__',\n",
       " '__self__',\n",
       " '__setattr__',\n",
       " '__sizeof__',\n",
       " '__str__',\n",
       " '__subclasshook__',\n",
       " '__text_signature__']"
      ]
     },
     "execution_count": 2,
     "metadata": {},
     "output_type": "execute_result"
    }
   ],
   "source": [
    "# dir - list of methodes\n",
    "\n",
    "dir(print)"
   ]
  },
  {
   "cell_type": "code",
   "execution_count": 3,
   "metadata": {},
   "outputs": [
    {
     "data": {
      "text/plain": [
       "140705400484776"
      ]
     },
     "execution_count": 3,
     "metadata": {},
     "output_type": "execute_result"
    }
   ],
   "source": [
    "# uniq id of object\n",
    "a = 5\n",
    "\n",
    "id(a)"
   ]
  },
  {
   "cell_type": "code",
   "execution_count": 5,
   "metadata": {},
   "outputs": [
    {
     "name": "stdout",
     "output_type": "stream",
     "text": [
      "Hello\n"
     ]
    },
    {
     "ename": "NameError",
     "evalue": "name 'b' is not defined",
     "output_type": "error",
     "traceback": [
      "\u001b[1;31m---------------------------------------------------------------------------\u001b[0m",
      "\u001b[1;31mNameError\u001b[0m                                 Traceback (most recent call last)",
      "\u001b[1;32mc:\\Users\\usman\\Desktop\\122XSUP\\week_02\\122XSUP_ZS2023_Week_2.ipynb Cell 7\u001b[0m line \u001b[0;36m7\n\u001b[0;32m      <a href='vscode-notebook-cell:/c%3A/Users/usman/Desktop/122XSUP/week_02/122XSUP_ZS2023_Week_2.ipynb#W6sZmlsZQ%3D%3D?line=2'>3</a>\u001b[0m \u001b[39mprint\u001b[39m(b)\n\u001b[0;32m      <a href='vscode-notebook-cell:/c%3A/Users/usman/Desktop/122XSUP/week_02/122XSUP_ZS2023_Week_2.ipynb#W6sZmlsZQ%3D%3D?line=4'>5</a>\u001b[0m \u001b[39mdel\u001b[39;00m b\n\u001b[1;32m----> <a href='vscode-notebook-cell:/c%3A/Users/usman/Desktop/122XSUP/week_02/122XSUP_ZS2023_Week_2.ipynb#W6sZmlsZQ%3D%3D?line=6'>7</a>\u001b[0m \u001b[39mprint\u001b[39m(b)\n",
      "\u001b[1;31mNameError\u001b[0m: name 'b' is not defined"
     ]
    }
   ],
   "source": [
    "# clear variable\n",
    "b = 'Hello'\n",
    "print(b)\n",
    "\n",
    "del b\n",
    "\n",
    "print(b)"
   ]
  },
  {
   "cell_type": "markdown",
   "metadata": {},
   "source": [
    "#### Local and Global Variables"
   ]
  },
  {
   "cell_type": "code",
   "execution_count": 6,
   "metadata": {},
   "outputs": [
    {
     "name": "stdout",
     "output_type": "stream",
     "text": [
      "4\n"
     ]
    }
   ],
   "source": [
    "# Global variable\n",
    "a = 4\n",
    "\n",
    "def own_function():\n",
    "    # Local variable\n",
    "    a = 5\n",
    "\n",
    "own_function()\n",
    "print(a)"
   ]
  },
  {
   "cell_type": "code",
   "execution_count": 7,
   "metadata": {},
   "outputs": [
    {
     "name": "stdout",
     "output_type": "stream",
     "text": [
      "5\n"
     ]
    }
   ],
   "source": [
    "# Global variable\n",
    "a = 4\n",
    "\n",
    "def own_function():\n",
    "    # Global variable\n",
    "    global a\n",
    "    a = 5\n",
    "\n",
    "own_function()\n",
    "print(a)"
   ]
  },
  {
   "cell_type": "markdown",
   "metadata": {},
   "source": [
    "#### Function"
   ]
  },
  {
   "cell_type": "markdown",
   "metadata": {},
   "source": [
    "* def function():\n",
    "* input parameters\n",
    "* output parameters / return\n",
    "* args and kwargs"
   ]
  },
  {
   "cell_type": "code",
   "execution_count": 8,
   "metadata": {},
   "outputs": [],
   "source": [
    "# Void function without arguments\n",
    "# Using for starting project or for making structure of program\n",
    "def my_function():\n",
    "    pass"
   ]
  },
  {
   "cell_type": "code",
   "execution_count": 9,
   "metadata": {},
   "outputs": [
    {
     "data": {
      "text/plain": [
       "16"
      ]
     },
     "execution_count": 9,
     "metadata": {},
     "output_type": "execute_result"
    }
   ],
   "source": [
    "# Function with two arguments\n",
    "def my_function(a, b):\n",
    "    return a ** b\n",
    "\n",
    "my_function(2, 4)"
   ]
  },
  {
   "cell_type": "code",
   "execution_count": 10,
   "metadata": {},
   "outputs": [
    {
     "data": {
      "text/plain": [
       "16"
      ]
     },
     "execution_count": 10,
     "metadata": {},
     "output_type": "execute_result"
    }
   ],
   "source": [
    "# Function with two arguments\n",
    "def my_function(a, b):\n",
    "    return a ** b\n",
    "\n",
    "my_function(b=2, a=4)"
   ]
  },
  {
   "cell_type": "code",
   "execution_count": 11,
   "metadata": {},
   "outputs": [
    {
     "name": "stdout",
     "output_type": "stream",
     "text": [
      "16\n",
      "19\n"
     ]
    }
   ],
   "source": [
    "# Function with two arguments and one optional argument\n",
    "def my_function(a, b, c=0):\n",
    "    return a ** b + c\n",
    "\n",
    "print(my_function(2, 4))\n",
    "print(my_function(2, 4, 3))"
   ]
  },
  {
   "cell_type": "code",
   "execution_count": 12,
   "metadata": {},
   "outputs": [
    {
     "name": "stdout",
     "output_type": "stream",
     "text": [
      "-11\n"
     ]
    }
   ],
   "source": [
    "# Function with two arguments and one optional argument\n",
    "def my_function(a, b, *args):\n",
    "    return a ** b + args[0] - args[1] * args[2]\n",
    "\n",
    "print(my_function(2, 4, 3, 5, 6))"
   ]
  },
  {
   "cell_type": "code",
   "execution_count": 13,
   "metadata": {},
   "outputs": [
    {
     "name": "stdout",
     "output_type": "stream",
     "text": [
      "9\n"
     ]
    }
   ],
   "source": [
    "# Function with two arguments and one optional argument\n",
    "def my_function(**kwargs):\n",
    "    return kwargs[\"a\"] ** kwargs[\"b\"]\n",
    "\n",
    "print(my_function(a = 3, b = 2))"
   ]
  },
  {
   "cell_type": "markdown",
   "metadata": {},
   "source": [
    "#### File: opening, reading and writing"
   ]
  },
  {
   "cell_type": "code",
   "execution_count": 14,
   "metadata": {},
   "outputs": [
    {
     "name": "stdout",
     "output_type": "stream",
     "text": [
      "<_io.TextIOWrapper name='RawData/sample.txt' mode='r' encoding='utf-8'>\n",
      "True\n",
      "Hello\n",
      "World\n"
     ]
    }
   ],
   "source": [
    "'''\n",
    "r  - read\n",
    "w  - write (existing file will be erased)\n",
    "a  - append\n",
    "r+ - read and write\n",
    "b  - binary format\n",
    "'''\n",
    "f = open('RawData/sample.txt', 'r', encoding=\"utf-8\")  # open file\n",
    "read_data = f.read()  # read file\n",
    "f.close()  # close file\n",
    "\n",
    "print(f)\n",
    "print(f.closed)\n",
    "print(read_data)"
   ]
  },
  {
   "cell_type": "code",
   "execution_count": 15,
   "metadata": {},
   "outputs": [
    {
     "name": "stdout",
     "output_type": "stream",
     "text": [
      "True\n",
      "Hello\n",
      "World\n"
     ]
    }
   ],
   "source": [
    "#  good practice (donnt need close file)\n",
    "with open('RawData/sample.txt', 'r', encoding=\"utf-8\") as f:\n",
    "    read_data = f.read()\n",
    "\n",
    "print(f.closed)\n",
    "print(read_data)"
   ]
  },
  {
   "cell_type": "code",
   "execution_count": 16,
   "metadata": {},
   "outputs": [
    {
     "name": "stdout",
     "output_type": "stream",
     "text": [
      "Hello\n",
      "World"
     ]
    }
   ],
   "source": [
    "#  read by lines from file\n",
    "with open('RawData/sample.txt', 'r', encoding=\"utf-8\") as f:\n",
    "    for line in f:\n",
    "        print(line, end='')\n",
    "\n",
    "#  or you could use: f.readline()"
   ]
  },
  {
   "cell_type": "code",
   "execution_count": 17,
   "metadata": {},
   "outputs": [
    {
     "data": {
      "text/plain": [
       "['Hello\\n', 'World']"
      ]
     },
     "execution_count": 17,
     "metadata": {},
     "output_type": "execute_result"
    }
   ],
   "source": [
    "# Reading from file to list\n",
    "with open('RawData/sample.txt', 'r', encoding=\"utf-8\") as f:\n",
    "    file_list = list(f)\n",
    "\n",
    "file_list"
   ]
  },
  {
   "cell_type": "code",
   "execution_count": 18,
   "metadata": {},
   "outputs": [
    {
     "data": {
      "text/plain": [
       "['Hello\\n', 'World']"
      ]
     },
     "execution_count": 18,
     "metadata": {},
     "output_type": "execute_result"
    }
   ],
   "source": [
    "# Reading from file to list\n",
    "with open('RawData/sample.txt', 'r', encoding=\"utf-8\") as f:\n",
    "    file_list = f.readlines()\n",
    "\n",
    "file_list"
   ]
  },
  {
   "cell_type": "code",
   "execution_count": 19,
   "metadata": {},
   "outputs": [
    {
     "name": "stderr",
     "output_type": "stream",
     "text": [
      "A subdirectory or file Output already exists.\n"
     ]
    }
   ],
   "source": [
    "#  creating directory\n",
    "!mkdir Output\n",
    "#  writing to file\n",
    "with open('Output/test.txt', 'w', encoding=\"utf-8\") as f:\n",
    "    f.write('This is a test\\n')\n",
    "\n",
    "# appending to existing file\n",
    "with open('Output/test.txt', 'a', encoding=\"utf-8\") as f:\n",
    "    f.write('This is a second test\\n')    "
   ]
  },
  {
   "cell_type": "markdown",
   "metadata": {},
   "source": [
    "#### Advance data types"
   ]
  },
  {
   "cell_type": "markdown",
   "metadata": {},
   "source": [
    "##### List\n",
    "* Ordered <span style='color:orange'>(*have a defined order, and that order will not change*)</span>\n",
    "* Mutable or **Changeable** <span style='color:orange'>(*we can change, add, and remove items in a list after it has been created*)</span>\n",
    "* Allow duplicate values <span style='color:orange'>(*lists can have items with the same value*)</span>\n",
    "* Indexed <span style='color:orange'>(*the first item has index [0], the second item has index [1] etc.*)</span>"
   ]
  },
  {
   "cell_type": "code",
   "execution_count": 20,
   "metadata": {},
   "outputs": [
    {
     "name": "stdout",
     "output_type": "stream",
     "text": [
      "<class 'list'>\n"
     ]
    },
    {
     "data": {
      "text/plain": [
       "[1, 'Hello', 2.543]"
      ]
     },
     "execution_count": 20,
     "metadata": {},
     "output_type": "execute_result"
    }
   ],
   "source": [
    "my_list = [1, 'Hello', 2.543]\n",
    "print(type(my_list))\n",
    "my_list"
   ]
  },
  {
   "cell_type": "code",
   "execution_count": 21,
   "metadata": {},
   "outputs": [
    {
     "name": "stdout",
     "output_type": "stream",
     "text": [
      "1\n",
      "2.543\n",
      "2.543\n"
     ]
    }
   ],
   "source": [
    "print(my_list[0])\n",
    "print(my_list[2])\n",
    "print(my_list[-1])"
   ]
  },
  {
   "cell_type": "code",
   "execution_count": 22,
   "metadata": {},
   "outputs": [
    {
     "name": "stdout",
     "output_type": "stream",
     "text": [
      "[1, 'Hello']\n",
      "[1, 'Hello']\n",
      "['Hello', 2.543]\n",
      "[1, 'Hello']\n",
      "[1, 2.543]\n",
      "[2.543, 'Hello', 1]\n"
     ]
    }
   ],
   "source": [
    "# Slicing\n",
    "print(my_list[0:2])  # items first and second in list\n",
    "\n",
    "print(my_list[:2])  # items from begining to second\n",
    "\n",
    "print(my_list[1:])  # items from second to end\n",
    "\n",
    "print(my_list[-3:-1])  # items from first to second\n",
    "\n",
    "print(my_list[::2])  # with step 2\n",
    "\n",
    "print(my_list[::-1])  # reverse order"
   ]
  },
  {
   "cell_type": "code",
   "execution_count": 23,
   "metadata": {},
   "outputs": [
    {
     "name": "stdout",
     "output_type": "stream",
     "text": [
      "1 is in list!\n"
     ]
    }
   ],
   "source": [
    "# chek if item is in list\n",
    "n = 1\n",
    "if n in my_list:\n",
    "    print(f'{n} is in list!')\n",
    "else:\n",
    "    print(f'{n} is not in list!')"
   ]
  },
  {
   "cell_type": "code",
   "execution_count": 24,
   "metadata": {},
   "outputs": [
    {
     "data": {
      "text/plain": [
       "[5, 'Text', 6]"
      ]
     },
     "execution_count": 24,
     "metadata": {},
     "output_type": "execute_result"
    }
   ],
   "source": [
    "# Initialization new list\n",
    "new_list = []\n",
    "\n",
    "# Add item to list\n",
    "new_list.append(5)\n",
    "new_list.append(\"Text\")\n",
    "new_list.append(6)\n",
    "\n",
    "new_list"
   ]
  },
  {
   "cell_type": "code",
   "execution_count": 25,
   "metadata": {},
   "outputs": [
    {
     "data": {
      "text/plain": [
       "[4, 'Text', 6]"
      ]
     },
     "execution_count": 25,
     "metadata": {},
     "output_type": "execute_result"
    }
   ],
   "source": [
    "# Changing list\n",
    "new_list[0] = 4\n",
    "new_list"
   ]
  },
  {
   "cell_type": "code",
   "execution_count": 26,
   "metadata": {},
   "outputs": [
    {
     "data": {
      "text/plain": [
       "[3, 2, 6]"
      ]
     },
     "execution_count": 26,
     "metadata": {},
     "output_type": "execute_result"
    }
   ],
   "source": [
    "# changing range of items\n",
    "new_list[0:2] = [3, 2]\n",
    "new_list"
   ]
  },
  {
   "cell_type": "code",
   "execution_count": 27,
   "metadata": {},
   "outputs": [
    {
     "data": {
      "text/plain": [
       "[3, 7, 2, 6]"
      ]
     },
     "execution_count": 27,
     "metadata": {},
     "output_type": "execute_result"
    }
   ],
   "source": [
    "# insert item on position\n",
    "new_list.insert(1, 7)\n",
    "new_list"
   ]
  },
  {
   "cell_type": "code",
   "execution_count": 28,
   "metadata": {},
   "outputs": [
    {
     "data": {
      "text/plain": [
       "[1, 2, 3, 4]"
      ]
     },
     "execution_count": 28,
     "metadata": {},
     "output_type": "execute_result"
    }
   ],
   "source": [
    "# join list\n",
    "first_list = [1, 2]\n",
    "second_list = [3, 4]\n",
    "\n",
    "first_list + second_list"
   ]
  },
  {
   "cell_type": "code",
   "execution_count": 29,
   "metadata": {},
   "outputs": [
    {
     "name": "stdout",
     "output_type": "stream",
     "text": [
      "First\n",
      "Second\n",
      "etc\n"
     ]
    }
   ],
   "source": [
    "# Loop list\n",
    "list_text = ['First', 'Second', 'etc']\n",
    "for n in list_text:\n",
    "    print(n)"
   ]
  },
  {
   "cell_type": "code",
   "execution_count": 30,
   "metadata": {},
   "outputs": [
    {
     "name": "stdout",
     "output_type": "stream",
     "text": [
      "List has 3 items\n",
      "Range of list: range(0, 3)\n",
      "First\n",
      "Second\n",
      "etc\n"
     ]
    }
   ],
   "source": [
    "# Loop list\n",
    "list_text = ['First', 'Second', 'etc']\n",
    "print(f'List has {len(list_text)} items')\n",
    "print(f'Range of list: {range(len(list_text))}')\n",
    "\n",
    "for n in range(len(list_text)):\n",
    "    print(list_text[n])"
   ]
  },
  {
   "cell_type": "code",
   "execution_count": 31,
   "metadata": {},
   "outputs": [
    {
     "name": "stdout",
     "output_type": "stream",
     "text": [
      "\"First\" as 0 item\n",
      "\"Second\" as 1 item\n",
      "\"etc\" as 2 item\n"
     ]
    }
   ],
   "source": [
    "#  loop list with key and value\n",
    "list_text = ['First', 'Second', 'etc']\n",
    "\n",
    "for key, value in enumerate(list_text):\n",
    "    print(f'\"{value}\" as {key} item')"
   ]
  },
  {
   "cell_type": "code",
   "execution_count": 32,
   "metadata": {},
   "outputs": [
    {
     "data": {
      "text/plain": [
       "[5, 12, 19, 26, 33, 40, 47]"
      ]
     },
     "execution_count": 32,
     "metadata": {},
     "output_type": "execute_result"
    }
   ],
   "source": [
    "# List comprehensive\n",
    "list_int = [n for n in range(5,50,7)]\n",
    "list_int"
   ]
  },
  {
   "cell_type": "code",
   "execution_count": 33,
   "metadata": {},
   "outputs": [
    {
     "data": {
      "text/plain": [
       "[12, 26, 40]"
      ]
     },
     "execution_count": 33,
     "metadata": {},
     "output_type": "execute_result"
    }
   ],
   "source": [
    "# List comprehensive with condition if\n",
    "list_int = [n for n in range(5,50,7) if n % 2 == 0]\n",
    "list_int"
   ]
  },
  {
   "cell_type": "code",
   "execution_count": 34,
   "metadata": {},
   "outputs": [
    {
     "data": {
      "text/plain": [
       "[0, 12, 0, 26, 0, 40, 0]"
      ]
     },
     "execution_count": 34,
     "metadata": {},
     "output_type": "execute_result"
    }
   ],
   "source": [
    "# List comprehensive with condition if / else\n",
    "list_int = [n if n % 2 == 0 else 0 for n in range(5,50,7)]\n",
    "list_int"
   ]
  },
  {
   "cell_type": "markdown",
   "metadata": {},
   "source": [
    "**<span style=\"color:yellow\">Homework: </span>**\n",
    "\n",
    "Study others list methods:\n",
    "* extend\n",
    "* pop\n",
    "* remove\n",
    "* clear\n",
    "* sort\n",
    "* copy\n",
    "* count\n",
    "* index\n",
    "* reverse\n",
    "\n",
    "Source: https://www.w3schools.com/python/python_lists_methods.asp"
   ]
  },
  {
   "cell_type": "markdown",
   "metadata": {},
   "source": [
    "##### Tuples (used to store multiple items in a single variable)\n",
    "* Ordered <span style='color:orange'>(*have a defined order, and that order will not change*)</span>\n",
    "* Immutable or **Unchangeable** <span style='color:orange'>(*we can not change or add or remove items in tuple after it has been created*)</span>\n",
    "* Allow duplicate values <span style='color:orange'>(*tuples can have items with the same value*)</span>\n",
    "* Indexed <span style='color:orange'>(*the first item has index [0], the second item has index [1] etc.*)</span>"
   ]
  },
  {
   "cell_type": "code",
   "execution_count": 35,
   "metadata": {},
   "outputs": [
    {
     "name": "stdout",
     "output_type": "stream",
     "text": [
      "<class 'tuple'>\n"
     ]
    },
    {
     "data": {
      "text/plain": [
       "('First', 'Second', 1, 'etc')"
      ]
     },
     "execution_count": 35,
     "metadata": {},
     "output_type": "execute_result"
    }
   ],
   "source": [
    "my_tuple = (\"First\", \"Second\", 1, \"etc\")\n",
    "\n",
    "print(type(my_tuple))\n",
    "\n",
    "my_tuple"
   ]
  },
  {
   "cell_type": "code",
   "execution_count": 36,
   "metadata": {},
   "outputs": [
    {
     "ename": "TypeError",
     "evalue": "'tuple' object does not support item assignment",
     "output_type": "error",
     "traceback": [
      "\u001b[1;31m---------------------------------------------------------------------------\u001b[0m",
      "\u001b[1;31mTypeError\u001b[0m                                 Traceback (most recent call last)",
      "\u001b[1;32mc:\\Users\\usman\\Desktop\\122XSUP\\week_02\\122XSUP_ZS2023_Week_2.ipynb Cell 46\u001b[0m line \u001b[0;36m3\n\u001b[0;32m      <a href='vscode-notebook-cell:/c%3A/Users/usman/Desktop/122XSUP/week_02/122XSUP_ZS2023_Week_2.ipynb#X63sZmlsZQ%3D%3D?line=0'>1</a>\u001b[0m \u001b[39m# Error when we try to change item\u001b[39;00m\n\u001b[1;32m----> <a href='vscode-notebook-cell:/c%3A/Users/usman/Desktop/122XSUP/week_02/122XSUP_ZS2023_Week_2.ipynb#X63sZmlsZQ%3D%3D?line=2'>3</a>\u001b[0m my_tuple[\u001b[39m2\u001b[39;49m] \u001b[39m=\u001b[39m \u001b[39m1\u001b[39m\n",
      "\u001b[1;31mTypeError\u001b[0m: 'tuple' object does not support item assignment"
     ]
    }
   ],
   "source": [
    "# Error when we try to change item\n",
    "\n",
    "my_tuple[2] = 1"
   ]
  },
  {
   "cell_type": "code",
   "execution_count": 37,
   "metadata": {},
   "outputs": [
    {
     "name": "stdout",
     "output_type": "stream",
     "text": [
      "[1, 'Hello', 2.543]\n",
      "(1, 'Hello', 2.543)\n"
     ]
    }
   ],
   "source": [
    "print(my_list)\n",
    "print(tuple(my_list))"
   ]
  },
  {
   "cell_type": "code",
   "execution_count": 38,
   "metadata": {},
   "outputs": [
    {
     "name": "stdout",
     "output_type": "stream",
     "text": [
      "<class 'tuple'>\n",
      "<class 'str'>\n"
     ]
    }
   ],
   "source": [
    "print(type((\"First\",)))\n",
    "\n",
    "# NOT a tuple\n",
    "print(type((\"First\")))"
   ]
  },
  {
   "cell_type": "code",
   "execution_count": 39,
   "metadata": {},
   "outputs": [
    {
     "name": "stdout",
     "output_type": "stream",
     "text": [
      "First\n",
      "etc\n",
      "('Second', 1, 'etc')\n"
     ]
    }
   ],
   "source": [
    "# Access to tuple (same as list)\n",
    "my_tuple = (\"First\", \"Second\", 1, \"etc\")\n",
    "\n",
    "print(my_tuple[0])\n",
    "print(my_tuple[-1])\n",
    "print(my_tuple[1:])"
   ]
  },
  {
   "cell_type": "code",
   "execution_count": 40,
   "metadata": {},
   "outputs": [
    {
     "name": "stdout",
     "output_type": "stream",
     "text": [
      "1 is in tuple!\n"
     ]
    }
   ],
   "source": [
    "# chek if item is in tuple\n",
    "n = 1\n",
    "if n in my_tuple:\n",
    "    print(f'{n} is in tuple!')\n",
    "else:\n",
    "    print(f'{n} is not in tuple!')"
   ]
  },
  {
   "cell_type": "code",
   "execution_count": 41,
   "metadata": {},
   "outputs": [
    {
     "data": {
      "text/plain": [
       "('Changing item', 'Second', 1, 'etc')"
      ]
     },
     "execution_count": 41,
     "metadata": {},
     "output_type": "execute_result"
    }
   ],
   "source": [
    "#  how to change unchanable tuple or remove/add item\n",
    "my_tuple = (\"First\", \"Second\", 1, \"etc\")\n",
    "\n",
    "temp_list = list(my_tuple)\n",
    "\n",
    "temp_list[0] = \"Changing item\"\n",
    "\n",
    "my_tuple = tuple(temp_list)\n",
    "\n",
    "my_tuple"
   ]
  },
  {
   "cell_type": "code",
   "execution_count": 42,
   "metadata": {},
   "outputs": [
    {
     "name": "stdout",
     "output_type": "stream",
     "text": [
      "First\n",
      "Second\n",
      "1\n",
      "etc\n"
     ]
    }
   ],
   "source": [
    "#  loop through tuple (same way as list)\n",
    "my_tuple = (\"First\", \"Second\", 1, \"etc\")\n",
    "\n",
    "for n in my_tuple:\n",
    "    print(n)"
   ]
  },
  {
   "cell_type": "code",
   "execution_count": 43,
   "metadata": {},
   "outputs": [
    {
     "name": "stdout",
     "output_type": "stream",
     "text": [
      "Access through key: \"First\" is the same as value: \"First\"\n",
      "Access through key: \"Second\" is the same as value: \"Second\"\n",
      "Access through key: \"1\" is the same as value: \"1\"\n",
      "Access through key: \"etc\" is the same as value: \"etc\"\n"
     ]
    }
   ],
   "source": [
    "#  loop through tuple (same way as list)\n",
    "my_tuple = (\"First\", \"Second\", 1, \"etc\")\n",
    "\n",
    "for key, value in enumerate(my_tuple):\n",
    "    print(f'Access through key: \"{my_tuple[key]}\" is the same as value: \"{value}\"')"
   ]
  },
  {
   "cell_type": "code",
   "execution_count": 44,
   "metadata": {},
   "outputs": [
    {
     "name": "stdout",
     "output_type": "stream",
     "text": [
      "First\n",
      "Second\n",
      "[1, 'etc']\n"
     ]
    }
   ],
   "source": [
    "# Unpack tuple\n",
    "my_tuple = (\"First\", \"Second\", 1, \"etc\")\n",
    "\n",
    "(first_item, second_item, *third_item) = my_tuple\n",
    "\n",
    "print(first_item)\n",
    "print(second_item)\n",
    "print(third_item)"
   ]
  },
  {
   "cell_type": "markdown",
   "metadata": {},
   "source": [
    "**<span style=\"color:yellow\">Homework: </span>**\n",
    "\n",
    "Study others tuple methods:\n",
    "* count\n",
    "* index\n",
    "\n",
    "Source: https://www.w3schools.com/python/python_tuples_methods.asp"
   ]
  },
  {
   "cell_type": "code",
   "execution_count": 45,
   "metadata": {},
   "outputs": [
    {
     "data": {
      "text/plain": [
       "['__add__',\n",
       " '__class__',\n",
       " '__class_getitem__',\n",
       " '__contains__',\n",
       " '__delattr__',\n",
       " '__dir__',\n",
       " '__doc__',\n",
       " '__eq__',\n",
       " '__format__',\n",
       " '__ge__',\n",
       " '__getattribute__',\n",
       " '__getitem__',\n",
       " '__getnewargs__',\n",
       " '__getstate__',\n",
       " '__gt__',\n",
       " '__hash__',\n",
       " '__init__',\n",
       " '__init_subclass__',\n",
       " '__iter__',\n",
       " '__le__',\n",
       " '__len__',\n",
       " '__lt__',\n",
       " '__mul__',\n",
       " '__ne__',\n",
       " '__new__',\n",
       " '__reduce__',\n",
       " '__reduce_ex__',\n",
       " '__repr__',\n",
       " '__rmul__',\n",
       " '__setattr__',\n",
       " '__sizeof__',\n",
       " '__str__',\n",
       " '__subclasshook__',\n",
       " 'count',\n",
       " 'index']"
      ]
     },
     "execution_count": 45,
     "metadata": {},
     "output_type": "execute_result"
    }
   ],
   "source": [
    "dir(tuple)"
   ]
  },
  {
   "cell_type": "markdown",
   "metadata": {},
   "source": [
    "##### Set (used to store multiple items in a single variable)\n",
    "* Unordered <span style='color:orange'>(*items in a set do not have a defined order.*)</span>\n",
    "* Immutable or **Unchangeable** <span style='color:orange'>(*we can not change items in set after it has been created*)</span>\n",
    "* Duplicates Not Allowed <span style='color:orange'>(*sets cannot have two items with the same value.*)</span>\n",
    "* Unindexed"
   ]
  },
  {
   "cell_type": "code",
   "execution_count": 46,
   "metadata": {},
   "outputs": [
    {
     "name": "stdout",
     "output_type": "stream",
     "text": [
      "<class 'set'>\n"
     ]
    },
    {
     "data": {
      "text/plain": [
       "{1, 'First', 'Second', 'etc'}"
      ]
     },
     "execution_count": 46,
     "metadata": {},
     "output_type": "execute_result"
    }
   ],
   "source": [
    "my_set = {\"First\", \"Second\", 1, \"etc\"}\n",
    "\n",
    "print(type(my_set))\n",
    "\n",
    "my_set"
   ]
  },
  {
   "cell_type": "code",
   "execution_count": 47,
   "metadata": {},
   "outputs": [
    {
     "data": {
      "text/plain": [
       "{1, 'First', 'Second', 'etc'}"
      ]
     },
     "execution_count": 47,
     "metadata": {},
     "output_type": "execute_result"
    }
   ],
   "source": [
    "# True = 1 = 1.0 as one item in set\n",
    "my_set = set((\"First\", \"Second\", 1, \"etc\", True, 1.0))  # double brackets!!!\n",
    "\n",
    "my_set"
   ]
  },
  {
   "cell_type": "code",
   "execution_count": 48,
   "metadata": {},
   "outputs": [
    {
     "name": "stdout",
     "output_type": "stream",
     "text": [
      "1 is in set!\n"
     ]
    }
   ],
   "source": [
    "# chek if item is in set\n",
    "n = 1\n",
    "if n in my_set:\n",
    "    print(f'{n} is in set!')\n",
    "else:\n",
    "    print(f'{n} is not in set!')"
   ]
  },
  {
   "cell_type": "code",
   "execution_count": 49,
   "metadata": {},
   "outputs": [
    {
     "data": {
      "text/plain": [
       "['__and__',\n",
       " '__class__',\n",
       " '__class_getitem__',\n",
       " '__contains__',\n",
       " '__delattr__',\n",
       " '__dir__',\n",
       " '__doc__',\n",
       " '__eq__',\n",
       " '__format__',\n",
       " '__ge__',\n",
       " '__getattribute__',\n",
       " '__getstate__',\n",
       " '__gt__',\n",
       " '__hash__',\n",
       " '__iand__',\n",
       " '__init__',\n",
       " '__init_subclass__',\n",
       " '__ior__',\n",
       " '__isub__',\n",
       " '__iter__',\n",
       " '__ixor__',\n",
       " '__le__',\n",
       " '__len__',\n",
       " '__lt__',\n",
       " '__ne__',\n",
       " '__new__',\n",
       " '__or__',\n",
       " '__rand__',\n",
       " '__reduce__',\n",
       " '__reduce_ex__',\n",
       " '__repr__',\n",
       " '__ror__',\n",
       " '__rsub__',\n",
       " '__rxor__',\n",
       " '__setattr__',\n",
       " '__sizeof__',\n",
       " '__str__',\n",
       " '__sub__',\n",
       " '__subclasshook__',\n",
       " '__xor__',\n",
       " 'add',\n",
       " 'clear',\n",
       " 'copy',\n",
       " 'difference',\n",
       " 'difference_update',\n",
       " 'discard',\n",
       " 'intersection',\n",
       " 'intersection_update',\n",
       " 'isdisjoint',\n",
       " 'issubset',\n",
       " 'issuperset',\n",
       " 'pop',\n",
       " 'remove',\n",
       " 'symmetric_difference',\n",
       " 'symmetric_difference_update',\n",
       " 'union',\n",
       " 'update']"
      ]
     },
     "execution_count": 49,
     "metadata": {},
     "output_type": "execute_result"
    }
   ],
   "source": [
    "dir(set)"
   ]
  },
  {
   "cell_type": "code",
   "execution_count": 50,
   "metadata": {},
   "outputs": [
    {
     "name": "stdout",
     "output_type": "stream",
     "text": [
      "Set has length 4\n",
      "{'First', 'Second', 'etc', 1}\n",
      "Set has length 5\n",
      "{1, 999, 'First', 'Second', 'etc'}\n",
      "Set has length 4\n",
      "{1, 999, 'First', 'etc'}\n",
      "Set has length 4\n",
      "{1, 999, 'First', 'etc'}\n"
     ]
    }
   ],
   "source": [
    "#  adding/removing items\n",
    " \n",
    "my_set = {\"First\", \"Second\", 1, \"etc\"}\n",
    "\n",
    "print(f'Set has length {len(my_set)}')\n",
    "print(my_set)\n",
    "\n",
    "my_set.add(999)\n",
    "\n",
    "print(f'Set has length {len(my_set)}')\n",
    "print(my_set)\n",
    "\n",
    "my_set.remove('Second')\n",
    "\n",
    "print(f'Set has length {len(my_set)}')\n",
    "print(my_set)\n",
    "\n",
    "# my_set.remove('Second')\n",
    "my_set.discard('Second')  \n",
    "\n",
    "print(f'Set has length {len(my_set)}')\n",
    "print(my_set)\n"
   ]
  },
  {
   "cell_type": "markdown",
   "metadata": {},
   "source": [
    "**<span style=\"color:yellow\">Homework: </span>**\n",
    "\n",
    "Study others set methods:\n",
    "* clear\n",
    "* copy\n",
    "* union / difference / intersection / update* \n",
    "\n",
    "Source: https://www.w3schools.com/python/python_sets_methods.asp"
   ]
  },
  {
   "cell_type": "markdown",
   "metadata": {},
   "source": [
    "##### Dictionary (used to store data values in key:value pairs)\n",
    "* Ordered <span style='color:orange'>(*have a defined order, and that order will not change after v.3.7*)</span>\n",
    "* Mutable or **Changeable** <span style='color:orange'>(*we can change, add, and remove items in a dictionary after it has been created*)</span>\n",
    "* Duplicates **Not Allowed** <span style='color:orange'>(*dictionaries cannot have two items with the same key*)</span>"
   ]
  },
  {
   "cell_type": "code",
   "execution_count": 51,
   "metadata": {},
   "outputs": [
    {
     "name": "stdout",
     "output_type": "stream",
     "text": [
      "<class 'dict'>\n"
     ]
    },
    {
     "data": {
      "text/plain": [
       "{'name': 'Petr', 'adress': 'Praha', 'age': 18}"
      ]
     },
     "execution_count": 51,
     "metadata": {},
     "output_type": "execute_result"
    }
   ],
   "source": [
    "my_dict = {\n",
    "    \"name\": \"Petr\",\n",
    "    \"adress\": \"Praha\",\n",
    "    \"age\": 18,\n",
    "}\n",
    "\n",
    "print(type(my_dict))\n",
    "my_dict"
   ]
  },
  {
   "cell_type": "code",
   "execution_count": 52,
   "metadata": {},
   "outputs": [
    {
     "data": {
      "text/plain": [
       "{'name': 'Petr', 'adress': 'Praha', 'age': 18}"
      ]
     },
     "execution_count": 52,
     "metadata": {},
     "output_type": "execute_result"
    }
   ],
   "source": [
    "my_dict = dict(name=\"Petr\", adress=\"Praha\", age=18)\n",
    "my_dict"
   ]
  },
  {
   "cell_type": "code",
   "execution_count": 53,
   "metadata": {},
   "outputs": [
    {
     "data": {
      "text/plain": [
       "18"
      ]
     },
     "execution_count": 53,
     "metadata": {},
     "output_type": "execute_result"
    }
   ],
   "source": [
    "#  access to dictionary\n",
    "my_dict['age']"
   ]
  },
  {
   "cell_type": "code",
   "execution_count": 54,
   "metadata": {},
   "outputs": [
    {
     "name": "stdout",
     "output_type": "stream",
     "text": [
      "18\n",
      "None\n",
      "No exist\n"
     ]
    }
   ],
   "source": [
    "#  if key doesnt exist, use get\n",
    "print(my_dict.get('age'))\n",
    "print(my_dict.get('aggggge'))\n",
    "print(my_dict.get('aggggge', \"No exist\"))"
   ]
  },
  {
   "cell_type": "code",
   "execution_count": 55,
   "metadata": {},
   "outputs": [
    {
     "name": "stdout",
     "output_type": "stream",
     "text": [
      "dict_keys(['name', 'adress', 'age'])\n",
      "dict_values(['Petr', 'Praha', 18])\n",
      "dict_items([('name', 'Petr'), ('adress', 'Praha'), ('age', 18)])\n"
     ]
    }
   ],
   "source": [
    "print(my_dict.keys())\n",
    "print(my_dict.values())\n",
    "print(my_dict.items())"
   ]
  },
  {
   "cell_type": "code",
   "execution_count": 56,
   "metadata": {},
   "outputs": [
    {
     "name": "stdout",
     "output_type": "stream",
     "text": [
      "name is in dictionary!\n"
     ]
    }
   ],
   "source": [
    "my_dict = dict(name=\"Petr\", adress=\"Praha\", age=18)\n",
    "\n",
    "# chek if item is in dictionary\n",
    "n = \"name\"\n",
    "if n in my_dict:\n",
    "    print(f'{n} is in dictionary!')\n",
    "else:\n",
    "    print(f'{n} is not in dictionary!')\n",
    "    "
   ]
  },
  {
   "cell_type": "code",
   "execution_count": 57,
   "metadata": {},
   "outputs": [
    {
     "data": {
      "text/plain": [
       "{'name': 'Pavel', 'adress': 'Praha', 'age': 18}"
      ]
     },
     "execution_count": 57,
     "metadata": {},
     "output_type": "execute_result"
    }
   ],
   "source": [
    "#  changing dictionary\n",
    "my_dict[\"name\"] = \"Pavel\"\n",
    "my_dict"
   ]
  },
  {
   "cell_type": "code",
   "execution_count": 58,
   "metadata": {},
   "outputs": [
    {
     "data": {
      "text/plain": [
       "{'name': 'Jan', 'adress': 'Praha', 'age': 18}"
      ]
     },
     "execution_count": 58,
     "metadata": {},
     "output_type": "execute_result"
    }
   ],
   "source": [
    "#  changing dictionary\n",
    "my_dict.update({\"name\": \"Jan\"})\n",
    "my_dict"
   ]
  },
  {
   "cell_type": "code",
   "execution_count": 59,
   "metadata": {},
   "outputs": [
    {
     "data": {
      "text/plain": [
       "{'name': 'Jan', 'adress': 'Praha', 'age': 18, 'birth_year': 1995}"
      ]
     },
     "execution_count": 59,
     "metadata": {},
     "output_type": "execute_result"
    }
   ],
   "source": [
    "#  adding items\n",
    "my_dict[\"birth_year\"] = 1995\n",
    "my_dict"
   ]
  },
  {
   "cell_type": "code",
   "execution_count": 60,
   "metadata": {},
   "outputs": [
    {
     "name": "stdout",
     "output_type": "stream",
     "text": [
      "All key names:\n",
      "name\n",
      "adress\n",
      "age\n",
      "birth_year\n",
      "\n",
      "\n",
      "All key names:\n",
      "name\n",
      "adress\n",
      "age\n",
      "birth_year\n",
      "\n",
      "\n",
      "All values:\n",
      "Jan\n",
      "Praha\n",
      "18\n",
      "1995\n",
      "\n",
      "\n",
      "All values:\n",
      "Jan\n",
      "Praha\n",
      "18\n",
      "1995\n",
      "\n",
      "\n",
      "All key names and values:\n",
      "name Jan\n",
      "adress Praha\n",
      "age 18\n",
      "birth_year 1995\n",
      "\n",
      "\n"
     ]
    }
   ],
   "source": [
    "#  looping through dictionary\n",
    "print(\"All key names:\")\n",
    "for n in my_dict:\n",
    "    print(n)\n",
    "print(\"\\n\")\n",
    "\n",
    "print(\"All key names:\")\n",
    "for n in my_dict.keys():\n",
    "    print(n)\n",
    "print(\"\\n\")\n",
    "\n",
    "print(\"All values:\")\n",
    "for n in my_dict:\n",
    "    print(my_dict[n]) \n",
    "print(\"\\n\")\n",
    "\n",
    "print(\"All values:\")\n",
    "for n in my_dict.values():\n",
    "    print(n) \n",
    "print(\"\\n\")\n",
    "\n",
    "print(\"All key names and values:\")\n",
    "for n, m in my_dict.items():\n",
    "    print(n, m) \n",
    "print(\"\\n\")\n"
   ]
  },
  {
   "cell_type": "markdown",
   "metadata": {},
   "source": [
    "**<span style=\"color:yellow\">Homework: </span>**\n",
    "\n",
    "Study others dictionary methods:\n",
    "* clear\n",
    "* copy\n",
    "* fromkeys\n",
    "* pop\n",
    "* popitem  \n",
    "\n",
    "Source: https://www.w3schools.com/python/python_dictionaries_methods.asp"
   ]
  },
  {
   "cell_type": "markdown",
   "metadata": {},
   "source": [
    "##### String"
   ]
  },
  {
   "cell_type": "code",
   "execution_count": 61,
   "metadata": {},
   "outputs": [
    {
     "data": {
      "text/plain": [
       "'HEAAO'"
      ]
     },
     "execution_count": 61,
     "metadata": {},
     "output_type": "execute_result"
    }
   ],
   "source": [
    "# change 'Hello world!' to 'HEAAO'\n",
    "\n",
    "my_str = \"Hello world!\"\n",
    "\n",
    "# changing string step by step in one row\n",
    "my_str = my_str[:5].lower().replace(\"l\",\"a\").upper()\n",
    "\n",
    "my_str"
   ]
  },
  {
   "cell_type": "code",
   "execution_count": 62,
   "metadata": {},
   "outputs": [
    {
     "data": {
      "text/plain": [
       "'HellO world!'"
      ]
     },
     "execution_count": 62,
     "metadata": {},
     "output_type": "execute_result"
    }
   ],
   "source": [
    "# change symbol in string in position with slicing\n",
    "my_str = \"Hello world!\"\n",
    "\n",
    "# slicing\n",
    "my_str = my_str[:4] + 'O' + my_str[5:]\n",
    "\n",
    "my_str"
   ]
  },
  {
   "cell_type": "code",
   "execution_count": 63,
   "metadata": {},
   "outputs": [
    {
     "name": "stdout",
     "output_type": "stream",
     "text": [
      "['H', 'e', 'l', 'l', 'o', ' ', 'w', 'o', 'r', 'l', 'd', '!']\n",
      "['H', 'e', 'l', 'l', 'O', ' ', 'w', 'o', 'r', 'l', 'd', '!']\n"
     ]
    },
    {
     "data": {
      "text/plain": [
       "'HellO world!'"
      ]
     },
     "execution_count": 63,
     "metadata": {},
     "output_type": "execute_result"
    }
   ],
   "source": [
    "# change symbol in string in position with slicing\n",
    "my_str = \"Hello world!\"\n",
    "\n",
    "# convertion to list\n",
    "my_list = list(my_str)\n",
    "print(my_list)\n",
    "\n",
    "# change item in list\n",
    "my_list[4] = 'O'\n",
    "print(my_list)\n",
    "\n",
    "# convertion to string\n",
    "my_str = ''.join(my_list)\n",
    "\n",
    "my_str"
   ]
  },
  {
   "cell_type": "code",
   "execution_count": 64,
   "metadata": {},
   "outputs": [
    {
     "name": "stdout",
     "output_type": "stream",
     "text": [
      "B\n",
      "65\n"
     ]
    }
   ],
   "source": [
    "# chr and ord\n",
    "print(chr(66))\n",
    "print(ord('A'))"
   ]
  },
  {
   "cell_type": "code",
   "execution_count": 65,
   "metadata": {},
   "outputs": [
    {
     "data": {
      "text/plain": [
       "'C D 6 c 8'"
      ]
     },
     "execution_count": 65,
     "metadata": {},
     "output_type": "execute_result"
    }
   ],
   "source": [
    "# using join in string\n",
    "my_list = [67, 68, 54, 99, 56]\n",
    "\n",
    "my_str = ' '.join(chr(n) for n in my_list)\n",
    "\n",
    "my_str"
   ]
  },
  {
   "cell_type": "markdown",
   "metadata": {},
   "source": [
    "#### Nested list/dictionary or multidimensional array"
   ]
  },
  {
   "cell_type": "code",
   "execution_count": 66,
   "metadata": {},
   "outputs": [
    {
     "data": {
      "text/plain": [
       "[[1, 0], [5, 4], [3, 0]]"
      ]
     },
     "execution_count": 66,
     "metadata": {},
     "output_type": "execute_result"
    }
   ],
   "source": [
    "multi_list = [[1, 0], [5, 4], [3, 0]]\n",
    "multi_list"
   ]
  },
  {
   "cell_type": "code",
   "execution_count": 67,
   "metadata": {},
   "outputs": [
    {
     "data": {
      "text/plain": [
       "5"
      ]
     },
     "execution_count": 67,
     "metadata": {},
     "output_type": "execute_result"
    }
   ],
   "source": [
    "# first place in second item\n",
    "multi_list[1][0]"
   ]
  },
  {
   "cell_type": "markdown",
   "metadata": {},
   "source": [
    "#### Copy and deepcopy"
   ]
  },
  {
   "cell_type": "code",
   "execution_count": 68,
   "metadata": {},
   "outputs": [
    {
     "name": "stdout",
     "output_type": "stream",
     "text": [
      "[1, 5, 0, 'Test', False]\n",
      "[1, 5, 0, 'Test', False]\n"
     ]
    }
   ],
   "source": [
    "# Assignment statements do not copy objects, they create bindings between a target and an object\n",
    "my_list_1 = [1, 5, 0, 'Test', False]\n",
    "my_list_2 = my_list_1\n",
    "\n",
    "print(my_list_1)\n",
    "print(my_list_2)"
   ]
  },
  {
   "cell_type": "code",
   "execution_count": 69,
   "metadata": {},
   "outputs": [
    {
     "name": "stdout",
     "output_type": "stream",
     "text": [
      "1491761661440\n",
      "1491761661440\n"
     ]
    }
   ],
   "source": [
    "print(id(my_list_1))\n",
    "print(id(my_list_2))"
   ]
  },
  {
   "cell_type": "code",
   "execution_count": 70,
   "metadata": {},
   "outputs": [
    {
     "name": "stdout",
     "output_type": "stream",
     "text": [
      "[999, 5, 0, 'Test', False]\n",
      "[999, 5, 0, 'Test', False]\n"
     ]
    }
   ],
   "source": [
    "my_list_1[0] = 999\n",
    "\n",
    "print(my_list_1)\n",
    "print(my_list_2)"
   ]
  },
  {
   "cell_type": "code",
   "execution_count": 71,
   "metadata": {},
   "outputs": [
    {
     "name": "stdout",
     "output_type": "stream",
     "text": [
      "[1, 5, 0, 'Test', False]\n",
      "[1, 5, 0, 'Test', False]\n"
     ]
    }
   ],
   "source": [
    "# shallow copy with copy()\n",
    "my_list_1 = [1, 5, 0, 'Test', False]\n",
    "my_list_2 = my_list_1.copy()\n",
    "\n",
    "print(my_list_1)\n",
    "print(my_list_2)"
   ]
  },
  {
   "cell_type": "code",
   "execution_count": 72,
   "metadata": {},
   "outputs": [
    {
     "name": "stdout",
     "output_type": "stream",
     "text": [
      "1491761973824\n",
      "1491762057920\n"
     ]
    }
   ],
   "source": [
    "print(id(my_list_1))\n",
    "print(id(my_list_2))"
   ]
  },
  {
   "cell_type": "code",
   "execution_count": 73,
   "metadata": {},
   "outputs": [
    {
     "name": "stdout",
     "output_type": "stream",
     "text": [
      "[999, 5, 0, 'Test', False]\n",
      "[1, 5, 0, 'Test', False]\n"
     ]
    }
   ],
   "source": [
    "my_list_1[0] = 999\n",
    "\n",
    "print(my_list_1)\n",
    "print(my_list_2)"
   ]
  },
  {
   "cell_type": "code",
   "execution_count": 74,
   "metadata": {},
   "outputs": [
    {
     "name": "stdout",
     "output_type": "stream",
     "text": [
      "[1, 5, 0, 'Test', False, [8, 7]]\n",
      "[1, 5, 0, 'Test', False, [88, 7]]\n"
     ]
    }
   ],
   "source": [
    "#  package for copy\n",
    "import copy  \n",
    "\n",
    "# deep copy with deepcopy()\n",
    "my_list_1 = [1, 5, 0, 'Test', False, [8, 7]]\n",
    "my_list_2 = copy.deepcopy(my_list_1)\n",
    "\n",
    "my_list_2[5][0] = 88\n",
    "\n",
    "print(my_list_1)\n",
    "print(my_list_2)"
   ]
  },
  {
   "cell_type": "code",
   "execution_count": 75,
   "metadata": {},
   "outputs": [
    {
     "name": "stdout",
     "output_type": "stream",
     "text": [
      "[1, 5, 0, 'Test', False, [8, 7]]\n",
      "[1, 5, 0, 'Test', False, [88, 7]]\n"
     ]
    }
   ],
   "source": [
    "nested_list = [88, 77]\n",
    "\n",
    "print(my_list_1)\n",
    "print(my_list_2)"
   ]
  },
  {
   "cell_type": "markdown",
   "metadata": {},
   "source": [
    "##### Generator"
   ]
  },
  {
   "cell_type": "code",
   "execution_count": 76,
   "metadata": {},
   "outputs": [
    {
     "name": "stdout",
     "output_type": "stream",
     "text": [
      "1\n",
      "2\n",
      "3\n"
     ]
    }
   ],
   "source": [
    "# generator function that yields 1 for first time, 2 second time and 3 third time\n",
    "def simpleGenerator():\n",
    "    yield 1            \n",
    "    yield 2            \n",
    "    yield 3            \n",
    "   \n",
    "# Driver code to check above generator function\n",
    "for value in simpleGenerator(): \n",
    "    print(value)"
   ]
  },
  {
   "cell_type": "code",
   "execution_count": 77,
   "metadata": {},
   "outputs": [
    {
     "name": "stdout",
     "output_type": "stream",
     "text": [
      "0\n",
      "10\n",
      "20\n"
     ]
    }
   ],
   "source": [
    "# generator expression\n",
    "generator_exp = (i * 5 for i in range(5) if i%2==0)\n",
    "  \n",
    "for i in generator_exp:\n",
    "    print(i)"
   ]
  },
  {
   "cell_type": "markdown",
   "metadata": {},
   "source": [
    "#### Example 1 with file\n",
    "\n",
    "* Read data from file 'Input/data.txt'. In each row must be an integer number.\n",
    "* Check data (type integer), remove non integer data\n",
    "* Write to file only integer data\n",
    "* print message about removed data"
   ]
  },
  {
   "cell_type": "code",
   "execution_count": 78,
   "metadata": {},
   "outputs": [
    {
     "ename": "NameError",
     "evalue": "name 'name_file' is not defined",
     "output_type": "error",
     "traceback": [
      "\u001b[1;31m---------------------------------------------------------------------------\u001b[0m",
      "\u001b[1;31mNameError\u001b[0m                                 Traceback (most recent call last)",
      "\u001b[1;32mc:\\Users\\usman\\Desktop\\122XSUP\\week_02\\122XSUP_ZS2023_Week_2.ipynb Cell 98\u001b[0m line \u001b[0;36m7\n\u001b[0;32m      <a href='vscode-notebook-cell:/c%3A/Users/usman/Desktop/122XSUP/week_02/122XSUP_ZS2023_Week_2.ipynb#Y154sZmlsZQ%3D%3D?line=3'>4</a>\u001b[0m \u001b[39mwith\u001b[39;00m \u001b[39mopen\u001b[39m(name_file_input, \u001b[39m'\u001b[39m\u001b[39mr\u001b[39m\u001b[39m'\u001b[39m, encoding\u001b[39m=\u001b[39m\u001b[39m\"\u001b[39m\u001b[39mutf-8\u001b[39m\u001b[39m\"\u001b[39m) \u001b[39mas\u001b[39;00m f:\n\u001b[0;32m      <a href='vscode-notebook-cell:/c%3A/Users/usman/Desktop/122XSUP/week_02/122XSUP_ZS2023_Week_2.ipynb#Y154sZmlsZQ%3D%3D?line=4'>5</a>\u001b[0m     raw_data \u001b[39m=\u001b[39m \u001b[39mlist\u001b[39m(f)\n\u001b[1;32m----> <a href='vscode-notebook-cell:/c%3A/Users/usman/Desktop/122XSUP/week_02/122XSUP_ZS2023_Week_2.ipynb#Y154sZmlsZQ%3D%3D?line=6'>7</a>\u001b[0m \u001b[39mprint\u001b[39m(\u001b[39mf\u001b[39m\u001b[39m'\u001b[39m\u001b[39mFile \u001b[39m\u001b[39m{\u001b[39;00mname_file\u001b[39m}\u001b[39;00m\u001b[39m has \u001b[39m\u001b[39m{\u001b[39;00m\u001b[39mlen\u001b[39m(raw_data)\u001b[39m}\u001b[39;00m\u001b[39m rows\u001b[39m\u001b[39m'\u001b[39m)\n\u001b[0;32m      <a href='vscode-notebook-cell:/c%3A/Users/usman/Desktop/122XSUP/week_02/122XSUP_ZS2023_Week_2.ipynb#Y154sZmlsZQ%3D%3D?line=7'>8</a>\u001b[0m \u001b[39mif\u001b[39;00m \u001b[39mlen\u001b[39m(raw_data) \u001b[39m>\u001b[39m \u001b[39m0\u001b[39m:\n\u001b[0;32m      <a href='vscode-notebook-cell:/c%3A/Users/usman/Desktop/122XSUP/week_02/122XSUP_ZS2023_Week_2.ipynb#Y154sZmlsZQ%3D%3D?line=8'>9</a>\u001b[0m     \u001b[39mprint\u001b[39m(\u001b[39mf\u001b[39m\u001b[39m'\u001b[39m\u001b[39mFirst 5 values from file \u001b[39m\u001b[39m{\u001b[39;00mname_file\u001b[39m}\u001b[39;00m\u001b[39m: \u001b[39m\u001b[39m{\u001b[39;00mraw_data[:\u001b[39m5\u001b[39m]\u001b[39m}\u001b[39;00m\u001b[39m'\u001b[39m)\n",
      "\u001b[1;31mNameError\u001b[0m: name 'name_file' is not defined"
     ]
    }
   ],
   "source": [
    "# Reading data from file to list\n",
    "name_file_input = 'Input/data.txt'\n",
    "\n",
    "with open(name_file_input, 'r', encoding=\"utf-8\") as f:\n",
    "    raw_data = list(f)\n",
    "\n",
    "print(f'File {name_file} has {len(raw_data)} rows')\n",
    "if len(raw_data) > 0:\n",
    "    print(f'First 5 values from file {name_file}: {raw_data[:5]}')"
   ]
  },
  {
   "cell_type": "code",
   "execution_count": 79,
   "metadata": {},
   "outputs": [
    {
     "name": "stdout",
     "output_type": "stream",
     "text": [
      "Data from file: [1254.0, 125.45, 0.546, 789.0, 101010.0, 6.0, 0.0]\n",
      "Errors in file: 1\n"
     ]
    }
   ],
   "source": [
    "# Clearing and checking data\n",
    "error_file = 0\n",
    "clean_data = []\n",
    "\n",
    "for n in raw_data:\n",
    "    try:\n",
    "        clean_data.append(float(n))\n",
    "    except:\n",
    "        error_file += 1\n",
    "\n",
    "print(f'Data from file: {clean_data}')\n",
    "print(f'Errors in file: {error_file}')"
   ]
  },
  {
   "cell_type": "code",
   "execution_count": 80,
   "metadata": {},
   "outputs": [
    {
     "name": "stdout",
     "output_type": "stream",
     "text": [
      "Raw data: [1254.0, 125.45, 0.546, 789.0, 101010.0, 6.0, 0.0]\n",
      "Output data: [1254, 126, 1, 789, 101010, 6, 0]\n"
     ]
    }
   ],
   "source": [
    "#  converting data to int\n",
    "import math\n",
    "\n",
    "output_data = []\n",
    "\n",
    "print(f'Raw data: {clean_data[:10]}')\n",
    "\n",
    "for key, value in enumerate(clean_data):\n",
    "    value = math.ceil(value)  # round  up\n",
    "\n",
    "    # value = math.floor(value)  # round down\n",
    "\n",
    "    # value = round(value)  # round\n",
    "\n",
    "    # value = round(value, 2)  # round to 2 decimal\n",
    "    \n",
    "    output_data.append(value)\n",
    "\n",
    "print(f'Output data: {output_data[:10]}')"
   ]
  },
  {
   "cell_type": "code",
   "execution_count": 81,
   "metadata": {},
   "outputs": [
    {
     "name": "stdout",
     "output_type": "stream",
     "text": [
      "Clean data was saved to file: Output/data.txt\n",
      "Errors in file (1) were removed.\n"
     ]
    }
   ],
   "source": [
    "#  writing output data to file\n",
    "name_file_output = 'Output/data.txt'\n",
    "\n",
    "with open(name_file_output, 'w', encoding=\"utf-8\") as f:\n",
    "    for n in output_data:\n",
    "        f.write(f'{n}\\n')\n",
    "\n",
    "print(f'Clean data was saved to file: {name_file_output}')\n",
    "print(f'Errors in file ({error_file}) were removed.')"
   ]
  },
  {
   "cell_type": "markdown",
   "metadata": {},
   "source": [
    "#### Example 2 with file\n",
    "\n",
    "* Open file 'Input/data_2.csv' for reading\n",
    "* Read data in format csv (separator ;). \n",
    "* Check data format:\n",
    "    * name: string\n",
    "    * age: int (18-99)\n",
    "    * adres: string\n",
    "    * profit: float (-1 000 000  -- 1 000 000)\n",
    "* Remove blank data or data with errors\n",
    "* Clean data (change wrong symboles, remove whitespace symbols)\n",
    "* Open 'Output/data_2.txt' for writing\n",
    "* Write output data as list of dictionary\n",
    "* Print message about convertion"
   ]
  },
  {
   "cell_type": "code",
   "execution_count": 82,
   "metadata": {},
   "outputs": [
    {
     "name": "stdout",
     "output_type": "stream",
     "text": [
      "\"6 rows were reading from file Input/data_2.csv\"\n"
     ]
    },
    {
     "data": {
      "text/plain": [
       "['Petr Novak;25;Praha;245.45',\n",
       " 'Jan Svoboda;32;Brno;1054,64',\n",
       " 'Pavel Pospichal;38;Ostrava;-501',\n",
       " 'Dominik Sulc;18;Praha;107.65',\n",
       " '124 Petr;20;Plzen;500.04']"
      ]
     },
     "execution_count": 82,
     "metadata": {},
     "output_type": "execute_result"
    }
   ],
   "source": [
    "# Reading data from file\n",
    "file_name_input = 'Input/data_2.csv'\n",
    "with open(file_name_input, 'r', encoding=\"utf-8\") as f:\n",
    "    lines = [line.rstrip() for line in f]  # remove ending string from data\n",
    "\n",
    "print(f'\"{len(lines)} rows were reading from file {file_name_input}\"')\n",
    "lines[:5]"
   ]
  },
  {
   "cell_type": "code",
   "execution_count": 83,
   "metadata": {},
   "outputs": [
    {
     "data": {
      "text/plain": [
       "[['Petr Novak', '25', 'Praha', '245.45'],\n",
       " ['Jan Svoboda', '32', 'Brno', '1054,64'],\n",
       " ['Pavel Pospichal', '38', 'Ostrava', '-501'],\n",
       " ['Dominik Sulc', '18', 'Praha', '107.65'],\n",
       " ['124 Petr', '20', 'Plzen', '500.04'],\n",
       " ['Tomas Pokorny', 'age', 'Olomouc', '1005003000650.545064665']]"
      ]
     },
     "execution_count": 83,
     "metadata": {},
     "output_type": "execute_result"
    }
   ],
   "source": [
    "# Parsing data\n",
    "parsing_data = []\n",
    "\n",
    "for line in lines:\n",
    "    line_data = line.split(';')\n",
    "    parsing_data.append(line_data)\n",
    "\n",
    "parsing_data"
   ]
  },
  {
   "cell_type": "code",
   "execution_count": 84,
   "metadata": {},
   "outputs": [],
   "source": [
    "# user function for cleaning\n",
    "def cleaning_data(input_value, input_type, min_value=None, max_value=None):\n",
    "\n",
    "    input_value = input_value.strip()\n",
    "\n",
    "    # clearing int and float value\n",
    "    if input_type == int or input_type == float:\n",
    "        input_value = input_value.replace(',', '.')\n",
    "        try: \n",
    "            input_value = input_type(input_value)\n",
    "        except:\n",
    "            return False\n",
    "        \n",
    "        if min_value:\n",
    "            if input_value < min_value:\n",
    "                return False\n",
    "        \n",
    "        if max_value:\n",
    "            if input_value > max_value:\n",
    "                return False\n",
    "                \n",
    "        \n",
    "        return input_value\n",
    "        \n",
    "    # clearing string value\n",
    "    if input_type == str:\n",
    "        if any(i.isdigit() for i in input_value):\n",
    "            return False\n",
    "        return input_value.title()\n",
    "    \n",
    "    return False"
   ]
  },
  {
   "cell_type": "code",
   "execution_count": 85,
   "metadata": {},
   "outputs": [
    {
     "name": "stdout",
     "output_type": "stream",
     "text": [
      "File has 2 errors\n",
      "4 rows were converted\n"
     ]
    },
    {
     "data": {
      "text/plain": [
       "[{'Name': 'Petr Novak', 'Age': 25, 'Adress': 'Praha', 'Profit': 245.45},\n",
       " {'Name': 'Jan Svoboda', 'Age': 32, 'Adress': 'Brno', 'Profit': 1054.64},\n",
       " {'Name': 'Pavel Pospichal', 'Age': 38, 'Adress': 'Ostrava', 'Profit': -501.0},\n",
       " {'Name': 'Dominik Sulc', 'Age': 18, 'Adress': 'Praha', 'Profit': 107.65}]"
      ]
     },
     "execution_count": 85,
     "metadata": {},
     "output_type": "execute_result"
    }
   ],
   "source": [
    "#  cleaning data\n",
    "number_of_errors = 0\n",
    "output_list = []\n",
    "output_structure = ['Name', 'Age', 'Adress', 'Profit']\n",
    "id_number = 0\n",
    "\n",
    "for line in parsing_data:\n",
    "\n",
    "    error_in_line = 0\n",
    "    output_dict_line = {}\n",
    "    for key, value in enumerate(line):\n",
    "\n",
    "        if key == 0:\n",
    "            #  name\n",
    "            clean_value = cleaning_data(value, str)\n",
    "        elif key == 1:\n",
    "            #  age\n",
    "            clean_value = cleaning_data(value, int, 18, 99)\n",
    "        elif key == 2:\n",
    "            #  adress\n",
    "            clean_value = cleaning_data(value, str)\n",
    "        elif key == 3:\n",
    "            #  profit\n",
    "            clean_value = cleaning_data(value, float, -1_000_000, 1_000_000)\n",
    "        else:\n",
    "            clean_value = False\n",
    "\n",
    "        if clean_value == False:\n",
    "            error_in_line = 1\n",
    "            break\n",
    "\n",
    "        output_dict_line[output_structure[key]] = clean_value\n",
    "    \n",
    "    if error_in_line == 0:\n",
    "        id_number += 1\n",
    "        output_list.append(output_dict_line)\n",
    "    else:\n",
    "        number_of_errors += 1\n",
    "        \n",
    "print(f'File has {number_of_errors} errors')\n",
    "print(f'{len(output_list)} rows were converted')\n",
    "output_list[:10]"
   ]
  },
  {
   "cell_type": "code",
   "execution_count": 86,
   "metadata": {},
   "outputs": [
    {
     "name": "stdout",
     "output_type": "stream",
     "text": [
      "\"4 rows were writing to file Output/data_2.txt\"\n"
     ]
    }
   ],
   "source": [
    "# Writing clean data ad dictionary to file\n",
    "file_name_output = 'Output/data_2.txt'\n",
    "with open(file_name_output, 'w', encoding=\"utf-8\") as f:\n",
    "    for line in output_list:\n",
    "        f.write(str(line) + '\\n')\n",
    "\n",
    "print(f'\"{len(output_list)} rows were writing to file {file_name_output}\"')"
   ]
  }
 ],
 "metadata": {
  "kernelspec": {
   "display_name": "Python 3",
   "language": "python",
   "name": "python3"
  },
  "language_info": {
   "codemirror_mode": {
    "name": "ipython",
    "version": 3
   },
   "file_extension": ".py",
   "mimetype": "text/x-python",
   "name": "python",
   "nbconvert_exporter": "python",
   "pygments_lexer": "ipython3",
   "version": "3.11.2"
  },
  "orig_nbformat": 4
 },
 "nbformat": 4,
 "nbformat_minor": 2
}
